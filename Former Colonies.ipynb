{
 "cells": [
  {
   "cell_type": "markdown",
   "metadata": {},
   "source": [
    "# Wrangling Former Colonies\n",
    "## By: Scott Kustes\n",
    "\n",
    "### Objective:\n",
    "Wrangle a list of former colonies, their colonizers, year of colonization, and year of independence.\n",
    "\n",
    "#### Dataset:\n",
    "The dataset was gathered by scraping information from Wikipedia pages using BeautifulSoup.  The following URLs were scraped:\n",
    "- British Colonies: https://en.wikipedia.org/wiki/List_of_countries_that_have_gained_independence_from_the_United_Kingdom\n",
    "\n",
    "#### Contents\n",
    "<ul>\n",
    "    <li><a href='#gather'>Data Gathering</a>\n",
    "        <ul>\n",
    "            <li><a href='#gather-uk'>United Kingdom</a></li>\n",
    "        </ul>\n",
    "    </li>\n",
    "    <li><a href='#assess-uk'>Assess - United Kingdom</a></li>\n",
    "    <li><a href='#clean-uk'>Clean - United Kingdom</a></li>\n",
    "    <li><a href='#final'>Finished Dataframes</a></li>\n",
    "</ul>"
   ]
  },
  {
   "cell_type": "code",
   "execution_count": 87,
   "metadata": {},
   "outputs": [],
   "source": [
    "# Import necessary packages\n",
    "from bs4 import BeautifulSoup\n",
    "import requests\n",
    "import pandas as pd\n",
    "import os.path as os_path"
   ]
  },
  {
   "cell_type": "markdown",
   "metadata": {},
   "source": [
    "# Last Tested On\n",
    "> September 12, 2019\n",
    "\n",
    "BeautifulSoup code may need updates if changes have been made to code of source pages."
   ]
  },
  {
   "cell_type": "markdown",
   "metadata": {},
   "source": [
    "<a id='gather'></a>\n",
    "## Gather\n",
    "\n",
    "<a id='gather-uk'></a>\n",
    "### United Kingdom\n",
    "\n",
    "There are 9 tables on the Wikipedia page. The first, second, and last tables will be used in the current wrangling effort.\n",
    "\n",
    "The first table contains former colonies. The second table contains former British dominions. The final table contains regions that were relinquished from British control without a vote for independence (e.g., Hong Kong).\n",
    "\n",
    "The remaining tables contain areas of the world still considered part of the UK for one reason or another."
   ]
  },
  {
   "cell_type": "code",
   "execution_count": 88,
   "metadata": {},
   "outputs": [],
   "source": [
    "# Import the page\n",
    "url = 'https://en.wikipedia.org/wiki/List_of_countries_that_have_gained_independence_from_the_United_Kingdom'\n",
    "page = requests.get( url )\n",
    "soup = BeautifulSoup( page.text, 'html.parser' )\n",
    "\n",
    "# Get all of the tables on this page\n",
    "tables = soup.find_all( class_='wikitable' )"
   ]
  },
  {
   "cell_type": "markdown",
   "metadata": {},
   "source": [
    "#### Get data from `Colonies` table"
   ]
  },
  {
   "cell_type": "code",
   "execution_count": 99,
   "metadata": {
    "scrolled": true
   },
   "outputs": [],
   "source": [
    "# Get the first table on the page, Colonies\n",
    "# Additional tables in indices 1-8\n",
    "colonies = tables[0].find( 'tbody' ).find_all( 'tr' )\n",
    "colonies_header = []\n",
    "colonies_data = []\n",
    "\n",
    "# Loop through the colonies, gathering the data held in each table cell ('td') into an array\n",
    "# Save the values in the first row to colonies_header\n",
    "# Save remaining values to colonies_data\n",
    "for index, row in enumerate( colonies ):\n",
    "    # Get the values in the columns\n",
    "    columns = row.find_all( 'td' ) if index > 0 else row.find_all( 'th' )\n",
    "\n",
    "    # If it isn't the first row, it's data\n",
    "    if index > 0:\n",
    "        # Append to colonies_data\n",
    "        colonies_data.append( [element.text.strip() for element in columns ] )\n",
    "    # If it is the first row, it's headers\n",
    "    else:\n",
    "        # Append to colonies_header\n",
    "        colonies_header.append( [element.text.strip() for element in columns ] )\n",
    "        colonies_header = colonies_header[0]\n",
    "\n",
    "colonies_df = pd.DataFrame( data=colonies_data, columns=colonies_header )"
   ]
  },
  {
   "cell_type": "code",
   "execution_count": 103,
   "metadata": {},
   "outputs": [
    {
     "data": {
      "text/html": [
       "<div>\n",
       "<style scoped>\n",
       "    .dataframe tbody tr th:only-of-type {\n",
       "        vertical-align: middle;\n",
       "    }\n",
       "\n",
       "    .dataframe tbody tr th {\n",
       "        vertical-align: top;\n",
       "    }\n",
       "\n",
       "    .dataframe thead th {\n",
       "        text-align: right;\n",
       "    }\n",
       "</style>\n",
       "<table border=\"1\" class=\"dataframe\">\n",
       "  <thead>\n",
       "    <tr style=\"text-align: right;\">\n",
       "      <th></th>\n",
       "      <th>Country</th>\n",
       "      <th>Date</th>\n",
       "      <th>Year of Independence</th>\n",
       "      <th>Notes</th>\n",
       "    </tr>\n",
       "  </thead>\n",
       "  <tbody>\n",
       "    <tr>\n",
       "      <th>11</th>\n",
       "      <td>Dominica</td>\n",
       "      <td>3 November</td>\n",
       "      <td>1978</td>\n",
       "      <td></td>\n",
       "    </tr>\n",
       "    <tr>\n",
       "      <th>5</th>\n",
       "      <td>Barbados</td>\n",
       "      <td>30 November</td>\n",
       "      <td>1966</td>\n",
       "      <td>Barbados Independence Act 1966</td>\n",
       "    </tr>\n",
       "    <tr>\n",
       "      <th>32</th>\n",
       "      <td>Maldives</td>\n",
       "      <td>26 July</td>\n",
       "      <td>1965</td>\n",
       "      <td></td>\n",
       "    </tr>\n",
       "    <tr>\n",
       "      <th>46</th>\n",
       "      <td>Solomon Islands</td>\n",
       "      <td>7 July</td>\n",
       "      <td>1978</td>\n",
       "      <td></td>\n",
       "    </tr>\n",
       "    <tr>\n",
       "      <th>21</th>\n",
       "      <td>Iraq</td>\n",
       "      <td>3 October</td>\n",
       "      <td>1932</td>\n",
       "      <td></td>\n",
       "    </tr>\n",
       "  </tbody>\n",
       "</table>\n",
       "</div>"
      ],
      "text/plain": [
       "            Country         Date Year of Independence  \\\n",
       "11         Dominica   3 November                 1978   \n",
       "5          Barbados  30 November                 1966   \n",
       "32         Maldives      26 July                 1965   \n",
       "46  Solomon Islands       7 July                 1978   \n",
       "21             Iraq    3 October                 1932   \n",
       "\n",
       "                             Notes  \n",
       "11                                  \n",
       "5   Barbados Independence Act 1966  \n",
       "32                                  \n",
       "46                                  \n",
       "21                                  "
      ]
     },
     "execution_count": 103,
     "metadata": {},
     "output_type": "execute_result"
    }
   ],
   "source": [
    "colonies_df.sample(5)"
   ]
  },
  {
   "cell_type": "markdown",
   "metadata": {},
   "source": [
    "#### Get data from `Evolution of Dominions to Independence` table"
   ]
  },
  {
   "cell_type": "code",
   "execution_count": 101,
   "metadata": {
    "scrolled": true
   },
   "outputs": [],
   "source": [
    "# Get the second table on the page, Evolution of Dominions to Independence\n",
    "dominions = tables[1].find( 'tbody' ).find_all( 'tr' )\n",
    "dominions_header = []\n",
    "dominions_data = []\n",
    "\n",
    "# Loop through the colonies, gathering the data held in each table cell ('td') into an array\n",
    "# Save the values in the first row to colonies_header\n",
    "# Save remaining values to colonies_data\n",
    "for index, row in enumerate( dominions ):\n",
    "    # Get the values in the columns\n",
    "    columns = row.find_all( 'td' ) if index > 0 else row.find_all( 'th' )\n",
    "\n",
    "    # If it isn't the first row, it's data\n",
    "    if index > 0:\n",
    "        # Append to colonies_data\n",
    "        dominions_data.append( [element.text.strip() for element in columns ] )\n",
    "    # If it is the first row, it's headers\n",
    "    else:\n",
    "        # Append to colonies_header\n",
    "        dominions_header.append( [element.text.strip() for element in columns ] )\n",
    "        dominions_header = dominions_header[0]\n",
    "\n",
    "dominions_df = pd.DataFrame( data=dominions_data, columns=dominions_header )"
   ]
  },
  {
   "cell_type": "code",
   "execution_count": 102,
   "metadata": {
    "scrolled": true
   },
   "outputs": [
    {
     "data": {
      "text/html": [
       "<div>\n",
       "<style scoped>\n",
       "    .dataframe tbody tr th:only-of-type {\n",
       "        vertical-align: middle;\n",
       "    }\n",
       "\n",
       "    .dataframe tbody tr th {\n",
       "        vertical-align: top;\n",
       "    }\n",
       "\n",
       "    .dataframe thead th {\n",
       "        text-align: right;\n",
       "    }\n",
       "</style>\n",
       "<table border=\"1\" class=\"dataframe\">\n",
       "  <thead>\n",
       "    <tr style=\"text-align: right;\">\n",
       "      <th></th>\n",
       "      <th>Country</th>\n",
       "      <th>Date of Dominion Status</th>\n",
       "      <th>Date of adoption of the Statute of Westminster</th>\n",
       "      <th>Date of final relinquishment of British powers</th>\n",
       "      <th>Final Event in question.</th>\n",
       "      <th>Other important Dates</th>\n",
       "    </tr>\n",
       "  </thead>\n",
       "  <tbody>\n",
       "    <tr>\n",
       "      <th>0</th>\n",
       "      <td>Australia</td>\n",
       "      <td>1 January 1901</td>\n",
       "      <td>9 October 1942 (effective from 1939)</td>\n",
       "      <td>3 March 1986</td>\n",
       "      <td>Australia Act 1986</td>\n",
       "      <td></td>\n",
       "    </tr>\n",
       "    <tr>\n",
       "      <th>1</th>\n",
       "      <td>Canada</td>\n",
       "      <td>1 July 1867</td>\n",
       "      <td>11 December 1931</td>\n",
       "      <td>17 April 1982</td>\n",
       "      <td>Canada Act 1982</td>\n",
       "      <td></td>\n",
       "    </tr>\n",
       "    <tr>\n",
       "      <th>2</th>\n",
       "      <td>Ireland</td>\n",
       "      <td>6 December 1922</td>\n",
       "      <td>11 December 1931</td>\n",
       "      <td>18 April 1949</td>\n",
       "      <td>Republic of Ireland Act and Ireland Act 1949</td>\n",
       "      <td>The 1916 Proclamation of the Irish Republic an...</td>\n",
       "    </tr>\n",
       "    <tr>\n",
       "      <th>3</th>\n",
       "      <td>Dominion of Newfoundland</td>\n",
       "      <td>26 September 1907</td>\n",
       "      <td>—</td>\n",
       "      <td>17 April 1982</td>\n",
       "      <td>Canada Act 1982</td>\n",
       "      <td>Newfoundland voted to join Canada in 1948 in a...</td>\n",
       "    </tr>\n",
       "    <tr>\n",
       "      <th>4</th>\n",
       "      <td>South Africa</td>\n",
       "      <td>31 May 1910</td>\n",
       "      <td>11 December 1931</td>\n",
       "      <td>21 May 1961</td>\n",
       "      <td>South African Constitution of 1961</td>\n",
       "      <td></td>\n",
       "    </tr>\n",
       "    <tr>\n",
       "      <th>5</th>\n",
       "      <td>New Zealand</td>\n",
       "      <td>26 September 1907</td>\n",
       "      <td>25 November 1947</td>\n",
       "      <td>13 December 1986</td>\n",
       "      <td>Constitution Act 1986</td>\n",
       "      <td>Declaration of Independence of New Zealand 183...</td>\n",
       "    </tr>\n",
       "  </tbody>\n",
       "</table>\n",
       "</div>"
      ],
      "text/plain": [
       "                    Country Date of Dominion Status  \\\n",
       "0                 Australia          1 January 1901   \n",
       "1                    Canada             1 July 1867   \n",
       "2                   Ireland         6 December 1922   \n",
       "3  Dominion of Newfoundland       26 September 1907   \n",
       "4              South Africa             31 May 1910   \n",
       "5               New Zealand       26 September 1907   \n",
       "\n",
       "  Date of adoption of the Statute of Westminster  \\\n",
       "0           9 October 1942 (effective from 1939)   \n",
       "1                               11 December 1931   \n",
       "2                               11 December 1931   \n",
       "3                                              —   \n",
       "4                               11 December 1931   \n",
       "5                               25 November 1947   \n",
       "\n",
       "  Date of final relinquishment of British powers  \\\n",
       "0                                   3 March 1986   \n",
       "1                                  17 April 1982   \n",
       "2                                  18 April 1949   \n",
       "3                                  17 April 1982   \n",
       "4                                    21 May 1961   \n",
       "5                               13 December 1986   \n",
       "\n",
       "                       Final Event in question.  \\\n",
       "0                            Australia Act 1986   \n",
       "1                               Canada Act 1982   \n",
       "2  Republic of Ireland Act and Ireland Act 1949   \n",
       "3                               Canada Act 1982   \n",
       "4            South African Constitution of 1961   \n",
       "5                         Constitution Act 1986   \n",
       "\n",
       "                               Other important Dates  \n",
       "0                                                     \n",
       "1                                                     \n",
       "2  The 1916 Proclamation of the Irish Republic an...  \n",
       "3  Newfoundland voted to join Canada in 1948 in a...  \n",
       "4                                                     \n",
       "5  Declaration of Independence of New Zealand 183...  "
      ]
     },
     "execution_count": 102,
     "metadata": {},
     "output_type": "execute_result"
    }
   ],
   "source": [
    "dominions_df"
   ]
  },
  {
   "cell_type": "markdown",
   "metadata": {},
   "source": [
    "#### Get data from `Countries or region which did not vote to terminate British rule yet were relinquished` table"
   ]
  },
  {
   "cell_type": "code",
   "execution_count": 104,
   "metadata": {
    "scrolled": true
   },
   "outputs": [],
   "source": [
    "# Get the final table on the page, Countries or region which did not vote to terminate British rule yet were relinquished\n",
    "relinquished = tables[8].find( 'tbody' ).find_all( 'tr' )\n",
    "relinquished_header = []\n",
    "relinquished_data = []\n",
    "\n",
    "# Loop through the colonies, gathering the data held in each table cell ('td') into an array\n",
    "# Save the values in the first row to colonies_header\n",
    "# Save remaining values to colonies_data\n",
    "for index, row in enumerate( relinquished ):\n",
    "    # Get the values in the columns\n",
    "    columns = row.find_all( 'td' ) if index > 0 else row.find_all( 'th' )\n",
    "\n",
    "    # If it isn't the first row, it's data\n",
    "    if index > 0:\n",
    "        # Append to colonies_data\n",
    "        relinquished_data.append( [element.text.strip() for element in columns ] )\n",
    "    # If it is the first row, it's headers\n",
    "    else:\n",
    "        # Append to colonies_header\n",
    "        relinquished_header.append( [element.text.strip() for element in columns ] )\n",
    "        relinquished_header = relinquished_header[0]\n",
    "\n",
    "relinquished_df = pd.DataFrame( data=relinquished_data, columns=relinquished_header )"
   ]
  },
  {
   "cell_type": "code",
   "execution_count": 106,
   "metadata": {
    "scrolled": true
   },
   "outputs": [
    {
     "data": {
      "text/html": [
       "<div>\n",
       "<style scoped>\n",
       "    .dataframe tbody tr th:only-of-type {\n",
       "        vertical-align: middle;\n",
       "    }\n",
       "\n",
       "    .dataframe tbody tr th {\n",
       "        vertical-align: top;\n",
       "    }\n",
       "\n",
       "    .dataframe thead th {\n",
       "        text-align: right;\n",
       "    }\n",
       "</style>\n",
       "<table border=\"1\" class=\"dataframe\">\n",
       "  <thead>\n",
       "    <tr style=\"text-align: right;\">\n",
       "      <th></th>\n",
       "      <th>Country</th>\n",
       "      <th>Date</th>\n",
       "      <th>Year</th>\n",
       "      <th>Notes</th>\n",
       "    </tr>\n",
       "  </thead>\n",
       "  <tbody>\n",
       "    <tr>\n",
       "      <th>0</th>\n",
       "      <td>Hong Kong</td>\n",
       "      <td>30 June</td>\n",
       "      <td>1997</td>\n",
       "      <td>In 1984 the British government signed the Sino...</td>\n",
       "    </tr>\n",
       "  </tbody>\n",
       "</table>\n",
       "</div>"
      ],
      "text/plain": [
       "     Country     Date  Year                                              Notes\n",
       "0  Hong Kong  30 June  1997  In 1984 the British government signed the Sino..."
      ]
     },
     "execution_count": 106,
     "metadata": {},
     "output_type": "execute_result"
    }
   ],
   "source": [
    "relinquished_df"
   ]
  },
  {
   "cell_type": "markdown",
   "metadata": {},
   "source": [
    "#### Export list of countries to csv\n",
    "If the file `colonization_date_uk.csv` doesn't exist, get a list of all of the countries in the 3 dataframes and export them to that file. This csv will be manually updated with dates of colonization since the data pulled from Wikipedia only contains dates of independence.\n",
    "\n",
    "If the file exists, read it in."
   ]
  },
  {
   "cell_type": "code",
   "execution_count": 128,
   "metadata": {},
   "outputs": [],
   "source": [
    "filename = 'colonization_date_uk.csv'\n",
    "if os_path.isfile( filename ):\n",
    "    colonization_date_uk = pd.read_csv( filename, index_col=0 )\n",
    "else:\n",
    "    countries = pd.concat( [colonies_df['Country'], dominions_df['Country'], relinquished_df['Country']], ignore_index=True )\n",
    "    countries.to_csv( filename, index=False, header=['country'] )"
   ]
  },
  {
   "cell_type": "code",
   "execution_count": null,
   "metadata": {},
   "outputs": [],
   "source": []
  },
  {
   "cell_type": "code",
   "execution_count": null,
   "metadata": {},
   "outputs": [],
   "source": []
  },
  {
   "cell_type": "markdown",
   "metadata": {},
   "source": [
    "<a id='assess-uk'></a>\n",
    "## Assess - United Kingdom"
   ]
  },
  {
   "cell_type": "code",
   "execution_count": 107,
   "metadata": {},
   "outputs": [
    {
     "name": "stdout",
     "output_type": "stream",
     "text": [
      "<class 'pandas.core.frame.DataFrame'>\n",
      "RangeIndex: 62 entries, 0 to 61\n",
      "Data columns (total 4 columns):\n",
      "Country                 62 non-null object\n",
      "Date                    62 non-null object\n",
      "Year of Independence    62 non-null object\n",
      "Notes                   62 non-null object\n",
      "dtypes: object(4)\n",
      "memory usage: 2.0+ KB\n"
     ]
    }
   ],
   "source": [
    "colonies_df.info()"
   ]
  },
  {
   "cell_type": "code",
   "execution_count": 108,
   "metadata": {},
   "outputs": [
    {
     "name": "stdout",
     "output_type": "stream",
     "text": [
      "<class 'pandas.core.frame.DataFrame'>\n",
      "RangeIndex: 6 entries, 0 to 5\n",
      "Data columns (total 6 columns):\n",
      "Country                                           6 non-null object\n",
      "Date of Dominion Status                           6 non-null object\n",
      "Date of adoption of the Statute of Westminster    6 non-null object\n",
      "Date of final relinquishment of British powers    6 non-null object\n",
      "Final Event in question.                          6 non-null object\n",
      "Other important Dates                             6 non-null object\n",
      "dtypes: object(6)\n",
      "memory usage: 368.0+ bytes\n"
     ]
    }
   ],
   "source": [
    "dominions_df.info()"
   ]
  },
  {
   "cell_type": "code",
   "execution_count": 109,
   "metadata": {},
   "outputs": [
    {
     "name": "stdout",
     "output_type": "stream",
     "text": [
      "<class 'pandas.core.frame.DataFrame'>\n",
      "RangeIndex: 1 entries, 0 to 0\n",
      "Data columns (total 4 columns):\n",
      "Country    1 non-null object\n",
      "Date       1 non-null object\n",
      "Year       1 non-null object\n",
      "Notes      1 non-null object\n",
      "dtypes: object(4)\n",
      "memory usage: 112.0+ bytes\n"
     ]
    }
   ],
   "source": [
    "relinquished_df.info()"
   ]
  },
  {
   "cell_type": "code",
   "execution_count": 119,
   "metadata": {},
   "outputs": [
    {
     "data": {
      "text/html": [
       "<div>\n",
       "<style scoped>\n",
       "    .dataframe tbody tr th:only-of-type {\n",
       "        vertical-align: middle;\n",
       "    }\n",
       "\n",
       "    .dataframe tbody tr th {\n",
       "        vertical-align: top;\n",
       "    }\n",
       "\n",
       "    .dataframe thead th {\n",
       "        text-align: right;\n",
       "    }\n",
       "</style>\n",
       "<table border=\"1\" class=\"dataframe\">\n",
       "  <thead>\n",
       "    <tr style=\"text-align: right;\">\n",
       "      <th></th>\n",
       "      <th>Country</th>\n",
       "      <th>Date</th>\n",
       "      <th>Year of Independence</th>\n",
       "      <th>Notes</th>\n",
       "      <th>Year</th>\n",
       "    </tr>\n",
       "  </thead>\n",
       "  <tbody>\n",
       "    <tr>\n",
       "      <th>4</th>\n",
       "      <td>Bahrain</td>\n",
       "      <td>15 August</td>\n",
       "      <td>1971</td>\n",
       "      <td></td>\n",
       "      <td>NaN</td>\n",
       "    </tr>\n",
       "    <tr>\n",
       "      <th>10</th>\n",
       "      <td>Cyprus</td>\n",
       "      <td>1 October</td>\n",
       "      <td>1960</td>\n",
       "      <td>16 August 1960, but Cyprus Independence Day is...</td>\n",
       "      <td>NaN</td>\n",
       "    </tr>\n",
       "    <tr>\n",
       "      <th>21</th>\n",
       "      <td>Iraq</td>\n",
       "      <td>3 October</td>\n",
       "      <td>1932</td>\n",
       "      <td></td>\n",
       "      <td>NaN</td>\n",
       "    </tr>\n",
       "    <tr>\n",
       "      <th>27</th>\n",
       "      <td>Kuwait</td>\n",
       "      <td>19 June</td>\n",
       "      <td>1961</td>\n",
       "      <td></td>\n",
       "      <td>NaN</td>\n",
       "    </tr>\n",
       "    <tr>\n",
       "      <th>23</th>\n",
       "      <td>Jamaica</td>\n",
       "      <td>6 August</td>\n",
       "      <td>1962</td>\n",
       "      <td>Independence Day (6 August)</td>\n",
       "      <td>NaN</td>\n",
       "    </tr>\n",
       "  </tbody>\n",
       "</table>\n",
       "</div>"
      ],
      "text/plain": [
       "    Country       Date Year of Independence  \\\n",
       "4   Bahrain  15 August                 1971   \n",
       "10   Cyprus  1 October                 1960   \n",
       "21     Iraq  3 October                 1932   \n",
       "27   Kuwait    19 June                 1961   \n",
       "23  Jamaica   6 August                 1962   \n",
       "\n",
       "                                                Notes Year  \n",
       "4                                                      NaN  \n",
       "10  16 August 1960, but Cyprus Independence Day is...  NaN  \n",
       "21                                                     NaN  \n",
       "27                                                     NaN  \n",
       "23                        Independence Day (6 August)  NaN  "
      ]
     },
     "execution_count": 119,
     "metadata": {},
     "output_type": "execute_result"
    }
   ],
   "source": [
    "former_british_colonies = pd.concat( [colonies_df, relinquished_df], ignore_index=True, sort=False )\n",
    "former_british_colonies.sample(5)"
   ]
  },
  {
   "cell_type": "code",
   "execution_count": null,
   "metadata": {},
   "outputs": [],
   "source": []
  },
  {
   "cell_type": "markdown",
   "metadata": {},
   "source": [
    "### Issues Found:\n",
    "1) Drop columns: `Global Code` and `Global Name` - only 1 unique value\n",
    "\n",
    "2) Rename columns: replace spaces with underscores, replace uppercase with lowercase\n",
    "\n"
   ]
  },
  {
   "cell_type": "markdown",
   "metadata": {},
   "source": [
    "<a id='clean-uk'></a>\n",
    "## Clean - United Kingdom\n",
    "### 1) Drop columns `Global Code` and `Global Name`\n",
    "\n",
    "Drop `Global Code` and `Global Name` columns due to each having only 1 unique value (1 and World, respectively).\n",
    "\n",
    "#### Code"
   ]
  },
  {
   "cell_type": "code",
   "execution_count": null,
   "metadata": {},
   "outputs": [],
   "source": []
  }
 ],
 "metadata": {
  "kernelspec": {
   "display_name": "Python 3",
   "language": "python",
   "name": "python3"
  },
  "language_info": {
   "codemirror_mode": {
    "name": "ipython",
    "version": 3
   },
   "file_extension": ".py",
   "mimetype": "text/x-python",
   "name": "python",
   "nbconvert_exporter": "python",
   "pygments_lexer": "ipython3",
   "version": "3.7.3"
  }
 },
 "nbformat": 4,
 "nbformat_minor": 2
}
