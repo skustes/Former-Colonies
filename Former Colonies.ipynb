{
 "cells": [
  {
   "cell_type": "markdown",
   "metadata": {},
   "source": [
    "# Wrangling Former Colonies\n",
    "## By: Scott Kustes\n",
    "\n",
    "### Objective:\n",
    "Compile a list of former colonies of modern countries. ADD INFO ABOUT WHAT DATA IS INCLUDED IN FINAL OUTPUT\n",
    "\n",
    "#### Discussion:\n",
    "History is complex. For many countries, the date of independence is not clear cut. This dataset contains Dr. Hensel's determination of independence date as the point at which a country makes its own foreign and domestic policy decisions. It also contains the independence dates as determined by The Correlates of War Project and the Gleditsch/Ward list of independent states for comparison. In some instances, there are vast differences between the dates.\n",
    "\n",
    "#### Datasets:\n",
    "The primary dataset was downloaded from <a href='http://www.paulhensel.org/icow.html' target='_new'>The Issue Correlates of War Project</a>. Additional datasets were downloaded from <a href='http://www.correlatesofwar.org' target='_new'>The Correlates of War Project</a>.  For specific dataset citations, see the References section at the bottom of the notebook.\n",
    "\n",
    "#### Contents\n",
    "<ul>\n",
    "    <li><a href='#gather'>Data Gathering</a></li>\n",
    "    <li><a href='#assess1'>Assess, Part 1</a></li>\n",
    "    <li><a href='#clean1'>Clean, Part 1</a></li>\n",
    "    <li><a href='#assess2'>Assess, Part 2</a></li>\n",
    "    <li><a href='#clean2'>Clean, Part 2</a></li>\n",
    "    <li><a href='#assess3'>Assess, Part 3</a></li>\n",
    "    <li><a href='#clean3'>Clean, Part 3</a></li>\n",
    "    <li><a href='#final'>Finished Dataframes</a></li>\n",
    "    <li><a href='#references'>References</a></li>\n",
    "</ul>"
   ]
  },
  {
   "cell_type": "code",
   "execution_count": 1,
   "metadata": {},
   "outputs": [],
   "source": [
    "# Import packages\n",
    "import requests\n",
    "import pandas as pd"
   ]
  },
  {
   "cell_type": "code",
   "execution_count": 2,
   "metadata": {},
   "outputs": [],
   "source": [
    "# Import classes and functions needed for this analysis from config module\n",
    "# These are only available on my computer\n",
    "from config import dbaccess, validator, society, error_dict_to_string\n",
    "\n",
    "# Create an instance of the DBAccess class for running queries\n",
    "db = dbaccess.DBAccess()\n",
    "\n",
    "# Create an instance of the Validator class for validating data prior to inserting/updating database\n",
    "val = validator.Validator()"
   ]
  },
  {
   "cell_type": "markdown",
   "metadata": {},
   "source": [
    "<a id='gather'></a>\n",
    "## Data Gathering\n",
    "### Colonization Data"
   ]
  },
  {
   "cell_type": "code",
   "execution_count": 3,
   "metadata": {},
   "outputs": [
    {
     "data": {
      "text/html": [
       "<div>\n",
       "<style scoped>\n",
       "    .dataframe tbody tr th:only-of-type {\n",
       "        vertical-align: middle;\n",
       "    }\n",
       "\n",
       "    .dataframe tbody tr th {\n",
       "        vertical-align: top;\n",
       "    }\n",
       "\n",
       "    .dataframe thead th {\n",
       "        text-align: right;\n",
       "    }\n",
       "</style>\n",
       "<table border=\"1\" class=\"dataframe\">\n",
       "  <thead>\n",
       "    <tr style=\"text-align: right;\">\n",
       "      <th></th>\n",
       "      <th>State</th>\n",
       "      <th>Name</th>\n",
       "      <th>ColRuler</th>\n",
       "      <th>IndFrom</th>\n",
       "      <th>IndDate</th>\n",
       "      <th>IndViol</th>\n",
       "      <th>IndType</th>\n",
       "      <th>SecFrom</th>\n",
       "      <th>SecDate</th>\n",
       "      <th>SecViol</th>\n",
       "      <th>Into</th>\n",
       "      <th>IntoDate</th>\n",
       "      <th>COWsys</th>\n",
       "      <th>GWsys</th>\n",
       "      <th>Notes</th>\n",
       "    </tr>\n",
       "  </thead>\n",
       "  <tbody>\n",
       "    <tr>\n",
       "      <td>59</td>\n",
       "      <td>300</td>\n",
       "      <td>Austria-Hungary</td>\n",
       "      <td>-9</td>\n",
       "      <td>-9</td>\n",
       "      <td>128212</td>\n",
       "      <td>1</td>\n",
       "      <td>1</td>\n",
       "      <td>-9</td>\n",
       "      <td>-9</td>\n",
       "      <td>-9</td>\n",
       "      <td>-9</td>\n",
       "      <td>-9</td>\n",
       "      <td>181601</td>\n",
       "      <td>181601</td>\n",
       "      <td>Polity2 coding is for #305 (Austria) but begin...</td>\n",
       "    </tr>\n",
       "    <tr>\n",
       "      <td>50</td>\n",
       "      <td>260</td>\n",
       "      <td>German Federal Rep. (West Germany)</td>\n",
       "      <td>-9</td>\n",
       "      <td>255</td>\n",
       "      <td>194909</td>\n",
       "      <td>1</td>\n",
       "      <td>4</td>\n",
       "      <td>255</td>\n",
       "      <td>194909</td>\n",
       "      <td>1</td>\n",
       "      <td>255</td>\n",
       "      <td>199010</td>\n",
       "      <td>195505</td>\n",
       "      <td>194909</td>\n",
       "      <td>Temporary 1945-90 split of Germany following WWII</td>\n",
       "    </tr>\n",
       "    <tr>\n",
       "      <td>105</td>\n",
       "      <td>432</td>\n",
       "      <td>Mali</td>\n",
       "      <td>220</td>\n",
       "      <td>220</td>\n",
       "      <td>196009</td>\n",
       "      <td>0</td>\n",
       "      <td>2</td>\n",
       "      <td>-9</td>\n",
       "      <td>-9</td>\n",
       "      <td>-9</td>\n",
       "      <td>-9</td>\n",
       "      <td>-9</td>\n",
       "      <td>196006</td>\n",
       "      <td>196009</td>\n",
       "      <td>-9</td>\n",
       "    </tr>\n",
       "    <tr>\n",
       "      <td>25</td>\n",
       "      <td>110</td>\n",
       "      <td>Guyana</td>\n",
       "      <td>200</td>\n",
       "      <td>200</td>\n",
       "      <td>196605</td>\n",
       "      <td>0</td>\n",
       "      <td>2</td>\n",
       "      <td>-9</td>\n",
       "      <td>-9</td>\n",
       "      <td>-9</td>\n",
       "      <td>-9</td>\n",
       "      <td>-9</td>\n",
       "      <td>196605</td>\n",
       "      <td>196605</td>\n",
       "      <td>Founded by Dutch but ceded to British in 1814</td>\n",
       "    </tr>\n",
       "    <tr>\n",
       "      <td>70</td>\n",
       "      <td>335</td>\n",
       "      <td>Parma</td>\n",
       "      <td>-9</td>\n",
       "      <td>-9</td>\n",
       "      <td>154509</td>\n",
       "      <td>0</td>\n",
       "      <td>1</td>\n",
       "      <td>-9</td>\n",
       "      <td>-9</td>\n",
       "      <td>-9</td>\n",
       "      <td>325</td>\n",
       "      <td>186003</td>\n",
       "      <td>185101</td>\n",
       "      <td>181601</td>\n",
       "      <td>Merged into unified Italy</td>\n",
       "    </tr>\n",
       "  </tbody>\n",
       "</table>\n",
       "</div>"
      ],
      "text/plain": [
       "     State                                Name  ColRuler  IndFrom  IndDate  \\\n",
       "59     300                     Austria-Hungary        -9       -9   128212   \n",
       "50     260  German Federal Rep. (West Germany)        -9      255   194909   \n",
       "105    432                                Mali       220      220   196009   \n",
       "25     110                              Guyana       200      200   196605   \n",
       "70     335                               Parma        -9       -9   154509   \n",
       "\n",
       "     IndViol  IndType  SecFrom  SecDate  SecViol  Into  IntoDate  COWsys  \\\n",
       "59         1        1       -9       -9       -9    -9        -9  181601   \n",
       "50         1        4      255   194909        1   255    199010  195505   \n",
       "105        0        2       -9       -9       -9    -9        -9  196006   \n",
       "25         0        2       -9       -9       -9    -9        -9  196605   \n",
       "70         0        1       -9       -9       -9   325    186003  185101   \n",
       "\n",
       "      GWsys                                              Notes  \n",
       "59   181601  Polity2 coding is for #305 (Austria) but begin...  \n",
       "50   194909  Temporary 1945-90 split of Germany following WWII  \n",
       "105  196009                                                 -9  \n",
       "25   196605      Founded by Dutch but ceded to British in 1814  \n",
       "70   181601                          Merged into unified Italy  "
      ]
     },
     "execution_count": 3,
     "metadata": {},
     "output_type": "execute_result"
    }
   ],
   "source": [
    "icow = pd.read_csv( 'colonial_data.csv' )\n",
    "icow.sample(5)"
   ]
  },
  {
   "cell_type": "markdown",
   "metadata": {},
   "source": [
    "### Country Codes\n",
    "Read in and de-duplicate the country codes used by The Correlates of War Project. Rename columns and set `country_code` as the dataframe key."
   ]
  },
  {
   "cell_type": "code",
   "execution_count": 4,
   "metadata": {
    "scrolled": true
   },
   "outputs": [
    {
     "data": {
      "text/html": [
       "<div>\n",
       "<style scoped>\n",
       "    .dataframe tbody tr th:only-of-type {\n",
       "        vertical-align: middle;\n",
       "    }\n",
       "\n",
       "    .dataframe tbody tr th {\n",
       "        vertical-align: top;\n",
       "    }\n",
       "\n",
       "    .dataframe thead th {\n",
       "        text-align: right;\n",
       "    }\n",
       "</style>\n",
       "<table border=\"1\" class=\"dataframe\">\n",
       "  <thead>\n",
       "    <tr style=\"text-align: right;\">\n",
       "      <th></th>\n",
       "      <th>abbreviation</th>\n",
       "      <th>cow_code</th>\n",
       "      <th>country_name</th>\n",
       "    </tr>\n",
       "  </thead>\n",
       "  <tbody>\n",
       "    <tr>\n",
       "      <td>229</td>\n",
       "      <td>AUL</td>\n",
       "      <td>900</td>\n",
       "      <td>Australia</td>\n",
       "    </tr>\n",
       "    <tr>\n",
       "      <td>112</td>\n",
       "      <td>AZE</td>\n",
       "      <td>373</td>\n",
       "      <td>Azerbaijan</td>\n",
       "    </tr>\n",
       "    <tr>\n",
       "      <td>147</td>\n",
       "      <td>ZAN</td>\n",
       "      <td>511</td>\n",
       "      <td>Zanzibar</td>\n",
       "    </tr>\n",
       "    <tr>\n",
       "      <td>228</td>\n",
       "      <td>ETM</td>\n",
       "      <td>860</td>\n",
       "      <td>East Timor</td>\n",
       "    </tr>\n",
       "    <tr>\n",
       "      <td>231</td>\n",
       "      <td>NEW</td>\n",
       "      <td>920</td>\n",
       "      <td>New Zealand</td>\n",
       "    </tr>\n",
       "  </tbody>\n",
       "</table>\n",
       "</div>"
      ],
      "text/plain": [
       "    abbreviation  cow_code country_name\n",
       "229          AUL       900    Australia\n",
       "112          AZE       373   Azerbaijan\n",
       "147          ZAN       511     Zanzibar\n",
       "228          ETM       860   East Timor\n",
       "231          NEW       920  New Zealand"
      ]
     },
     "execution_count": 4,
     "metadata": {},
     "output_type": "execute_result"
    }
   ],
   "source": [
    "country_codes = pd.read_csv( 'cow_country_codes.csv' )\n",
    "country_codes.drop_duplicates( inplace=True )\n",
    "country_codes.rename( columns={'StateAbb': 'abbreviation', 'CCode': 'cow_code', 'StateNme': 'country_name'}, inplace=True )\n",
    "country_codes.sample(5)"
   ]
  },
  {
   "cell_type": "markdown",
   "metadata": {},
   "source": [
    "#### Match COW Countries with `society` Table\n",
    "Many countries already exist in the `society` database table, based on United Nations data. Match COW Project countries with those in the database and execute an UPDATE query to set their `cow_code` field to the corresponding value in the `country_codes` dataframe. Add countries in the COW data that are not in the database to `society`."
   ]
  },
  {
   "cell_type": "code",
   "execution_count": 5,
   "metadata": {},
   "outputs": [
    {
     "data": {
      "text/html": [
       "<div>\n",
       "<style scoped>\n",
       "    .dataframe tbody tr th:only-of-type {\n",
       "        vertical-align: middle;\n",
       "    }\n",
       "\n",
       "    .dataframe tbody tr th {\n",
       "        vertical-align: top;\n",
       "    }\n",
       "\n",
       "    .dataframe thead th {\n",
       "        text-align: right;\n",
       "    }\n",
       "</style>\n",
       "<table border=\"1\" class=\"dataframe\">\n",
       "  <thead>\n",
       "    <tr style=\"text-align: right;\">\n",
       "      <th></th>\n",
       "      <th>society_id</th>\n",
       "      <th>common_name</th>\n",
       "    </tr>\n",
       "  </thead>\n",
       "  <tbody>\n",
       "    <tr>\n",
       "      <td>10</td>\n",
       "      <td>11</td>\n",
       "      <td>Armenia</td>\n",
       "    </tr>\n",
       "    <tr>\n",
       "      <td>159</td>\n",
       "      <td>160</td>\n",
       "      <td>North Korea</td>\n",
       "    </tr>\n",
       "    <tr>\n",
       "      <td>143</td>\n",
       "      <td>144</td>\n",
       "      <td>Mongolia</td>\n",
       "    </tr>\n",
       "    <tr>\n",
       "      <td>37</td>\n",
       "      <td>38</td>\n",
       "      <td>Cambodia</td>\n",
       "    </tr>\n",
       "    <tr>\n",
       "      <td>179</td>\n",
       "      <td>180</td>\n",
       "      <td>Rwanda</td>\n",
       "    </tr>\n",
       "  </tbody>\n",
       "</table>\n",
       "</div>"
      ],
      "text/plain": [
       "     society_id  common_name\n",
       "10           11      Armenia\n",
       "159         160  North Korea\n",
       "143         144     Mongolia\n",
       "37           38     Cambodia\n",
       "179         180       Rwanda"
      ]
     },
     "execution_count": 5,
     "metadata": {},
     "output_type": "execute_result"
    }
   ],
   "source": [
    "# Get societies from the database\n",
    "query = db.run_query('SELECT society_id, common_name FROM society')\n",
    "societies = pd.DataFrame.from_dict( query['data'] )\n",
    "societies.sample(5)"
   ]
  },
  {
   "cell_type": "markdown",
   "metadata": {},
   "source": [
    "Find entries in `country_codes` that are not in the `societies` dataframe (i.e., not in the `society` database table)."
   ]
  },
  {
   "cell_type": "code",
   "execution_count": 6,
   "metadata": {
    "scrolled": true
   },
   "outputs": [
    {
     "name": "stdout",
     "output_type": "stream",
     "text": [
      "(40, 3)\n"
     ]
    },
    {
     "data": {
      "text/html": [
       "<div>\n",
       "<style scoped>\n",
       "    .dataframe tbody tr th:only-of-type {\n",
       "        vertical-align: middle;\n",
       "    }\n",
       "\n",
       "    .dataframe tbody tr th {\n",
       "        vertical-align: top;\n",
       "    }\n",
       "\n",
       "    .dataframe thead th {\n",
       "        text-align: right;\n",
       "    }\n",
       "</style>\n",
       "<table border=\"1\" class=\"dataframe\">\n",
       "  <thead>\n",
       "    <tr style=\"text-align: right;\">\n",
       "      <th></th>\n",
       "      <th>abbreviation</th>\n",
       "      <th>cow_code</th>\n",
       "      <th>country_name</th>\n",
       "    </tr>\n",
       "  </thead>\n",
       "  <tbody>\n",
       "    <tr>\n",
       "      <td>0</td>\n",
       "      <td>USA</td>\n",
       "      <td>2</td>\n",
       "      <td>United States of America</td>\n",
       "    </tr>\n",
       "    <tr>\n",
       "      <td>2</td>\n",
       "      <td>BHM</td>\n",
       "      <td>31</td>\n",
       "      <td>Bahamas</td>\n",
       "    </tr>\n",
       "    <tr>\n",
       "      <td>14</td>\n",
       "      <td>SLU</td>\n",
       "      <td>56</td>\n",
       "      <td>St. Lucia</td>\n",
       "    </tr>\n",
       "    <tr>\n",
       "      <td>15</td>\n",
       "      <td>SVG</td>\n",
       "      <td>57</td>\n",
       "      <td>St. Vincent and the Grenadines</td>\n",
       "    </tr>\n",
       "    <tr>\n",
       "      <td>16</td>\n",
       "      <td>AAB</td>\n",
       "      <td>58</td>\n",
       "      <td>Antigua &amp; Barbuda</td>\n",
       "    </tr>\n",
       "    <tr>\n",
       "      <td>17</td>\n",
       "      <td>SKN</td>\n",
       "      <td>60</td>\n",
       "      <td>St. Kitts and Nevis</td>\n",
       "    </tr>\n",
       "    <tr>\n",
       "      <td>41</td>\n",
       "      <td>NTH</td>\n",
       "      <td>210</td>\n",
       "      <td>Netherlands</td>\n",
       "    </tr>\n",
       "    <tr>\n",
       "      <td>55</td>\n",
       "      <td>HAN</td>\n",
       "      <td>240</td>\n",
       "      <td>Hanover</td>\n",
       "    </tr>\n",
       "    <tr>\n",
       "      <td>56</td>\n",
       "      <td>BAV</td>\n",
       "      <td>245</td>\n",
       "      <td>Bavaria</td>\n",
       "    </tr>\n",
       "    <tr>\n",
       "      <td>59</td>\n",
       "      <td>GFR</td>\n",
       "      <td>260</td>\n",
       "      <td>German Federal Republic</td>\n",
       "    </tr>\n",
       "    <tr>\n",
       "      <td>60</td>\n",
       "      <td>GDR</td>\n",
       "      <td>265</td>\n",
       "      <td>German Democratic Republic</td>\n",
       "    </tr>\n",
       "    <tr>\n",
       "      <td>61</td>\n",
       "      <td>BAD</td>\n",
       "      <td>267</td>\n",
       "      <td>Baden</td>\n",
       "    </tr>\n",
       "    <tr>\n",
       "      <td>62</td>\n",
       "      <td>SAX</td>\n",
       "      <td>269</td>\n",
       "      <td>Saxony</td>\n",
       "    </tr>\n",
       "    <tr>\n",
       "      <td>63</td>\n",
       "      <td>WRT</td>\n",
       "      <td>271</td>\n",
       "      <td>Wuerttemburg</td>\n",
       "    </tr>\n",
       "    <tr>\n",
       "      <td>64</td>\n",
       "      <td>HSE</td>\n",
       "      <td>273</td>\n",
       "      <td>Hesse Electoral</td>\n",
       "    </tr>\n",
       "    <tr>\n",
       "      <td>65</td>\n",
       "      <td>HSG</td>\n",
       "      <td>275</td>\n",
       "      <td>Hesse Grand Ducal</td>\n",
       "    </tr>\n",
       "    <tr>\n",
       "      <td>66</td>\n",
       "      <td>MEC</td>\n",
       "      <td>280</td>\n",
       "      <td>Mecklenburg Schwerin</td>\n",
       "    </tr>\n",
       "    <tr>\n",
       "      <td>69</td>\n",
       "      <td>AUH</td>\n",
       "      <td>300</td>\n",
       "      <td>Austria-Hungary</td>\n",
       "    </tr>\n",
       "    <tr>\n",
       "      <td>73</td>\n",
       "      <td>CZE</td>\n",
       "      <td>315</td>\n",
       "      <td>Czechoslovakia</td>\n",
       "    </tr>\n",
       "    <tr>\n",
       "      <td>75</td>\n",
       "      <td>CZR</td>\n",
       "      <td>316</td>\n",
       "      <td>Czech Republic</td>\n",
       "    </tr>\n",
       "    <tr>\n",
       "      <td>78</td>\n",
       "      <td>PAP</td>\n",
       "      <td>327</td>\n",
       "      <td>Papal States</td>\n",
       "    </tr>\n",
       "    <tr>\n",
       "      <td>79</td>\n",
       "      <td>SIC</td>\n",
       "      <td>329</td>\n",
       "      <td>Two Sicilies</td>\n",
       "    </tr>\n",
       "    <tr>\n",
       "      <td>81</td>\n",
       "      <td>MOD</td>\n",
       "      <td>332</td>\n",
       "      <td>Modena</td>\n",
       "    </tr>\n",
       "    <tr>\n",
       "      <td>82</td>\n",
       "      <td>PMA</td>\n",
       "      <td>335</td>\n",
       "      <td>Parma</td>\n",
       "    </tr>\n",
       "    <tr>\n",
       "      <td>83</td>\n",
       "      <td>TUS</td>\n",
       "      <td>337</td>\n",
       "      <td>Tuscany</td>\n",
       "    </tr>\n",
       "    <tr>\n",
       "      <td>90</td>\n",
       "      <td>YUG</td>\n",
       "      <td>345</td>\n",
       "      <td>Yugoslavia</td>\n",
       "    </tr>\n",
       "    <tr>\n",
       "      <td>93</td>\n",
       "      <td>KOS</td>\n",
       "      <td>347</td>\n",
       "      <td>Kosovo</td>\n",
       "    </tr>\n",
       "    <tr>\n",
       "      <td>120</td>\n",
       "      <td>CAP</td>\n",
       "      <td>402</td>\n",
       "      <td>Cape Verde</td>\n",
       "    </tr>\n",
       "    <tr>\n",
       "      <td>121</td>\n",
       "      <td>STP</td>\n",
       "      <td>403</td>\n",
       "      <td>Sao Tome and Principe</td>\n",
       "    </tr>\n",
       "    <tr>\n",
       "      <td>130</td>\n",
       "      <td>CDI</td>\n",
       "      <td>437</td>\n",
       "      <td>Ivory Coast</td>\n",
       "    </tr>\n",
       "    <tr>\n",
       "      <td>143</td>\n",
       "      <td>DRC</td>\n",
       "      <td>490</td>\n",
       "      <td>Democratic Republic of the Congo</td>\n",
       "    </tr>\n",
       "    <tr>\n",
       "      <td>147</td>\n",
       "      <td>ZAN</td>\n",
       "      <td>511</td>\n",
       "      <td>Zanzibar</td>\n",
       "    </tr>\n",
       "    <tr>\n",
       "      <td>164</td>\n",
       "      <td>SWA</td>\n",
       "      <td>572</td>\n",
       "      <td>Swaziland</td>\n",
       "    </tr>\n",
       "    <tr>\n",
       "      <td>188</td>\n",
       "      <td>YAR</td>\n",
       "      <td>678</td>\n",
       "      <td>Yemen Arab Republic</td>\n",
       "    </tr>\n",
       "    <tr>\n",
       "      <td>190</td>\n",
       "      <td>YPR</td>\n",
       "      <td>680</td>\n",
       "      <td>Yemen People's Republic</td>\n",
       "    </tr>\n",
       "    <tr>\n",
       "      <td>204</td>\n",
       "      <td>TAW</td>\n",
       "      <td>713</td>\n",
       "      <td>Taiwan</td>\n",
       "    </tr>\n",
       "    <tr>\n",
       "      <td>205</td>\n",
       "      <td>KOR</td>\n",
       "      <td>730</td>\n",
       "      <td>Korea</td>\n",
       "    </tr>\n",
       "    <tr>\n",
       "      <td>222</td>\n",
       "      <td>RVN</td>\n",
       "      <td>817</td>\n",
       "      <td>Republic of Vietnam</td>\n",
       "    </tr>\n",
       "    <tr>\n",
       "      <td>228</td>\n",
       "      <td>ETM</td>\n",
       "      <td>860</td>\n",
       "      <td>East Timor</td>\n",
       "    </tr>\n",
       "    <tr>\n",
       "      <td>241</td>\n",
       "      <td>FSM</td>\n",
       "      <td>987</td>\n",
       "      <td>Federated States of Micronesia</td>\n",
       "    </tr>\n",
       "  </tbody>\n",
       "</table>\n",
       "</div>"
      ],
      "text/plain": [
       "    abbreviation  cow_code                      country_name\n",
       "0            USA         2          United States of America\n",
       "2            BHM        31                           Bahamas\n",
       "14           SLU        56                         St. Lucia\n",
       "15           SVG        57    St. Vincent and the Grenadines\n",
       "16           AAB        58                 Antigua & Barbuda\n",
       "17           SKN        60               St. Kitts and Nevis\n",
       "41           NTH       210                       Netherlands\n",
       "55           HAN       240                           Hanover\n",
       "56           BAV       245                           Bavaria\n",
       "59           GFR       260           German Federal Republic\n",
       "60           GDR       265        German Democratic Republic\n",
       "61           BAD       267                             Baden\n",
       "62           SAX       269                            Saxony\n",
       "63           WRT       271                      Wuerttemburg\n",
       "64           HSE       273                   Hesse Electoral\n",
       "65           HSG       275                 Hesse Grand Ducal\n",
       "66           MEC       280              Mecklenburg Schwerin\n",
       "69           AUH       300                   Austria-Hungary\n",
       "73           CZE       315                    Czechoslovakia\n",
       "75           CZR       316                    Czech Republic\n",
       "78           PAP       327                      Papal States\n",
       "79           SIC       329                      Two Sicilies\n",
       "81           MOD       332                            Modena\n",
       "82           PMA       335                             Parma\n",
       "83           TUS       337                           Tuscany\n",
       "90           YUG       345                        Yugoslavia\n",
       "93           KOS       347                            Kosovo\n",
       "120          CAP       402                        Cape Verde\n",
       "121          STP       403             Sao Tome and Principe\n",
       "130          CDI       437                       Ivory Coast\n",
       "143          DRC       490  Democratic Republic of the Congo\n",
       "147          ZAN       511                          Zanzibar\n",
       "164          SWA       572                         Swaziland\n",
       "188          YAR       678               Yemen Arab Republic\n",
       "190          YPR       680           Yemen People's Republic\n",
       "204          TAW       713                            Taiwan\n",
       "205          KOR       730                             Korea\n",
       "222          RVN       817               Republic of Vietnam\n",
       "228          ETM       860                        East Timor\n",
       "241          FSM       987    Federated States of Micronesia"
      ]
     },
     "execution_count": 6,
     "metadata": {},
     "output_type": "execute_result"
    }
   ],
   "source": [
    "print( country_codes[ ~country_codes['country_name'].isin(list(societies['common_name'].unique())) ].shape )\n",
    "country_codes[ ~country_codes['country_name'].isin(list(societies['common_name'].unique())) ]"
   ]
  },
  {
   "cell_type": "markdown",
   "metadata": {},
   "source": [
    "Fifteen of these 40 unmatched countries are already in `societies`, but `country_name` in `country_codes` is different from `common_name` in `societies`. Update `country_name` in `country_codes` dataframe to match `common_name`. Create two dataframes, one for countries already in the database that need to be updated with COW country codes and one for countries that need to be added to the database."
   ]
  },
  {
   "cell_type": "code",
   "execution_count": 7,
   "metadata": {},
   "outputs": [],
   "source": [
    "# Update country_name to match common_name in the database\n",
    "update_cow = {\n",
    "    'United States of America': 'USA',\n",
    "    'Bahamas': 'The Bahamas',\n",
    "    'St. Lucia': 'Saint Lucia',\n",
    "    'St. Vincent and the Grenadines': 'Saint Vincent and the Grenadines',\n",
    "    'Antigua & Barbuda': 'Antigua and Barbuda',\n",
    "    'St. Kitts and Nevis': 'Saint Kitts and Nevis',\n",
    "    'Netherlands': 'The Netherlands',\n",
    "    'Czech Republic': 'Czechia',\n",
    "    'Cape Verde': 'Cabo Verde',\n",
    "    'Sao Tome and Principe': 'São Tomé and Príncipe',\n",
    "    'Ivory Coast': 'Côte d’Ivoire',\n",
    "    'Democratic Republic of the Congo': 'DRC',\n",
    "    'Swaziland': 'Eswatini',\n",
    "    'East Timor': 'Timor-Leste',\n",
    "    'Federated States of Micronesia': 'Micronesia'\n",
    "}\n",
    "country_codes.replace({'country_name': update_cow}, inplace=True)\n",
    "\n",
    "####### Create two dataframes\n",
    "# Societies already in the database that need to be updated with COW country code\n",
    "# Use inner merge to get countries with data in database and country_codes dataframe\n",
    "existing_societies = country_codes.merge( societies, left_on='country_name', right_on='common_name', how='inner' )\n",
    "\n",
    "# Societies that need to be added to the database\n",
    "# Find country_name in country_codes dataframe that aren't in existing_societies\n",
    "new_societies = country_codes[ ~country_codes['country_name'].isin(list(existing_societies['country_name'].unique())) ]"
   ]
  },
  {
   "cell_type": "code",
   "execution_count": 8,
   "metadata": {},
   "outputs": [
    {
     "name": "stdout",
     "output_type": "stream",
     "text": [
      "New: 25\n",
      "Existing: 192\n"
     ]
    }
   ],
   "source": [
    "# There should be 25 new_societies and 192 existing_societies\n",
    "print( 'New:', new_societies.shape[0] )\n",
    "print( 'Existing:', existing_societies.shape[0] )"
   ]
  },
  {
   "cell_type": "markdown",
   "metadata": {},
   "source": [
    "#### Update `society` Table\n",
    "`1)` Update `society` table in database: Set `cow_code` for records in `existing_societies`.\n",
    "\n",
    "`2)` Create necessary information for records in `new_societies` and add to `society` table."
   ]
  },
  {
   "cell_type": "markdown",
   "metadata": {},
   "source": [
    "##### Update Existing Societies with COW Country Code"
   ]
  },
  {
   "cell_type": "code",
   "execution_count": 9,
   "metadata": {},
   "outputs": [
    {
     "name": "stdout",
     "output_type": "stream",
     "text": [
      "<class 'pandas.core.frame.DataFrame'>\n",
      "Int64Index: 192 entries, 0 to 191\n",
      "Data columns (total 5 columns):\n",
      "abbreviation    192 non-null object\n",
      "cow_code        192 non-null int64\n",
      "country_name    192 non-null object\n",
      "society_id      192 non-null int64\n",
      "common_name     192 non-null object\n",
      "dtypes: int64(2), object(3)\n",
      "memory usage: 9.0+ KB\n",
      "\n",
      "Number of errors: 0\n"
     ]
    }
   ],
   "source": [
    "# Validate values in cow_code\n",
    "# Column dtype must be int\n",
    "existing_societies.info()\n",
    "# Check if any of the values fall outside of the 0-999 range for COW country codes\n",
    "print( \"\\nNumber of errors:\", existing_societies[ val.integer_out_of_bounds(existing_societies['cow_code'],0,999) ].shape[0] )"
   ]
  },
  {
   "cell_type": "code",
   "execution_count": 12,
   "metadata": {
    "scrolled": true
   },
   "outputs": [
    {
     "name": "stdout",
     "output_type": "stream",
     "text": [
      "Attempting update of 192 rows\n",
      "1 2 3 4 5 6 7 8 9 10 11 12 13 14 15 16 17 18 19 20 21 22 23 24 25 26 27 28 29 30 31 32 33 34 35 36 37 38 39 40 41 42 43 44 45 46 47 48 49 50 51 52 53 54 55 56 57 58 59 60 61 62 63 64 65 66 67 68 69 70 71 72 73 74 75 76 77 78 79 80 81 82 83 84 85 86 87 88 89 90 91 92 93 94 95 96 97 98 99 100 101 102 103 104 105 106 107 108 109 110 111 112 113 114 115 116 117 118 119 120 121 122 123 124 125 126 127 128 129 130 131 132 133 134 135 136 137 138 139 140 141 142 143 144 145 146 147 148 149 150 151 152 153 154 155 156 157 158 159 160 161 162 163 164 165 166 167 168 169 170 171 172 173 174 175 176 177 178 179 180 181 182 183 184 185 186 187 188 189 190 191 192 \n",
      " 0 rows updated\n"
     ]
    }
   ],
   "source": [
    "# Build an UPDATE statement for each row, then execute them\n",
    "def build_update_statement(row):\n",
    "    return 'UPDATE society SET cow_code = ' + str(row['cow_code']) + ' WHERE society_id = ' + str(row['society_id'])\n",
    "\n",
    "# Create UPDATE statement and execute\n",
    "existing_societies['update_statement'] = existing_societies.apply(build_update_statement, axis=1)\n",
    "\n",
    "records_updated = 0\n",
    "row = 1\n",
    "print( 'Attempting update of', existing_societies.shape[0], 'rows' )\n",
    "for update in existing_societies['update_statement']:\n",
    "    update_query = db.run_query( update )\n",
    "    records_updated += update_query['rows']\n",
    "    print( row, end=\" \", flush=True )\n",
    "    row += 1\n",
    "\n",
    "print( '\\n', records_updated, 'rows updated' )"
   ]
  },
  {
   "cell_type": "markdown",
   "metadata": {},
   "source": [
    "##### Add New Societies"
   ]
  },
  {
   "cell_type": "code",
   "execution_count": 11,
   "metadata": {},
   "outputs": [
    {
     "ename": "NameError",
     "evalue": "name 'stop' is not defined",
     "output_type": "error",
     "traceback": [
      "\u001b[1;31m---------------------------------------------------------------------------\u001b[0m",
      "\u001b[1;31mNameError\u001b[0m                                 Traceback (most recent call last)",
      "\u001b[1;32m<ipython-input-11-4f76a9dad686>\u001b[0m in \u001b[0;36m<module>\u001b[1;34m\u001b[0m\n\u001b[1;32m----> 1\u001b[1;33m \u001b[0mstop\u001b[0m\u001b[1;33m\u001b[0m\u001b[1;33m\u001b[0m\u001b[0m\n\u001b[0m",
      "\u001b[1;31mNameError\u001b[0m: name 'stop' is not defined"
     ]
    }
   ],
   "source": [
    "stop"
   ]
  },
  {
   "cell_type": "code",
   "execution_count": null,
   "metadata": {},
   "outputs": [],
   "source": [
    "# Add minimum necessary information to dataframe\n",
    "# common_name, official_name, society_type_id\n",
    "new_societies.info()"
   ]
  },
  {
   "cell_type": "code",
   "execution_count": null,
   "metadata": {},
   "outputs": [],
   "source": [
    "# Create INSERT statement and execute"
   ]
  },
  {
   "cell_type": "markdown",
   "metadata": {},
   "source": [
    "<a id='assess1'></a>\n",
    "## Assess, Part 1"
   ]
  },
  {
   "cell_type": "code",
   "execution_count": null,
   "metadata": {
    "scrolled": true
   },
   "outputs": [],
   "source": [
    "icow.info()"
   ]
  },
  {
   "cell_type": "code",
   "execution_count": null,
   "metadata": {
    "scrolled": true
   },
   "outputs": [],
   "source": [
    "# Unique values in Colonial Ruler column\n",
    "print( icow['ColRuler'].nunique() )\n",
    "icow['ColRuler'].unique()"
   ]
  },
  {
   "cell_type": "code",
   "execution_count": null,
   "metadata": {},
   "outputs": [],
   "source": [
    "icow['IndViol'].unique()"
   ]
  },
  {
   "cell_type": "code",
   "execution_count": null,
   "metadata": {},
   "outputs": [],
   "source": [
    "icow['IndType'].unique()"
   ]
  },
  {
   "cell_type": "markdown",
   "metadata": {},
   "source": [
    "### Issues Found\n",
    "`1)` Remove countries with -9 in `ColRuler`, `IndFrom`, `SecFrom`, and `Into`. \n",
    "\n",
    "`2)` Rename columns to more reader-friendly format.\n",
    "\n",
    "`3)` Merge country information from Correlates of War Project with that already in the `society` database table."
   ]
  },
  {
   "cell_type": "markdown",
   "metadata": {},
   "source": [
    "<a id='clean1'></a>\n",
    "## Clean, Part 1\n",
    "\n",
    "### 1) Remove Uncolonized Countries\n",
    "Delete all entries where `ColRuler`, `IndFrom`, `SecFrom`, and `Into` columns are -9. These countries were never colonized, never declared independence or seceded from another country, and never merged into another country and are therefore unnecessary in the dataset.\n",
    "\n",
    "#### Code"
   ]
  },
  {
   "cell_type": "code",
   "execution_count": null,
   "metadata": {},
   "outputs": [],
   "source": [
    "icow.drop( icow.query( '( ColRuler == -9 ) & ( IndFrom == -9 ) & ( SecFrom == -9 ) & ( Into == -9 )' ).index, inplace=True )"
   ]
  },
  {
   "cell_type": "markdown",
   "metadata": {},
   "source": [
    "#### Test"
   ]
  },
  {
   "cell_type": "code",
   "execution_count": null,
   "metadata": {},
   "outputs": [],
   "source": [
    "print( icow['ColRuler'].nunique() )\n",
    "icow['ColRuler'].unique()"
   ]
  },
  {
   "cell_type": "markdown",
   "metadata": {},
   "source": [
    "### 2) Rename Columns\n",
    "Create reader-friendly column names.\n",
    "\n",
    "#### Code"
   ]
  },
  {
   "cell_type": "code",
   "execution_count": null,
   "metadata": {},
   "outputs": [],
   "source": [
    "icow.rename( columns={\n",
    "    'State': 'country_code',\n",
    "    'Name': 'country',\n",
    "    'ColRuler': 'colonizer',\n",
    "    'IndFrom': 'indep_from',\n",
    "    'IndDate': 'indep_date',\n",
    "    'IndViol': 'indep_violent',\n",
    "    'IndType': 'indep_type',\n",
    "    'SecFrom': 'secession_from',\n",
    "    'SecDate': 'secession_date',\n",
    "    'SecViol': 'secession_violent',\n",
    "    'Into': 'merged_into',\n",
    "    'IntoDate': 'merged_date',\n",
    "    'COWsys': 'cow_indep_date',\n",
    "    'GWsys': 'gw_indep_date',\n",
    "    'Notes': 'notes'\n",
    "}, inplace=True )"
   ]
  },
  {
   "cell_type": "markdown",
   "metadata": {},
   "source": [
    "#### Test"
   ]
  },
  {
   "cell_type": "code",
   "execution_count": null,
   "metadata": {},
   "outputs": [],
   "source": [
    "icow.info()"
   ]
  },
  {
   "cell_type": "markdown",
   "metadata": {},
   "source": [
    "<a id='assess2'></a>\n",
    "## Assess, Part 2"
   ]
  },
  {
   "cell_type": "code",
   "execution_count": null,
   "metadata": {},
   "outputs": [],
   "source": [
    "print( icow['colonizer'].nunique() )\n",
    "icow['colonizer'].unique()"
   ]
  },
  {
   "cell_type": "code",
   "execution_count": null,
   "metadata": {},
   "outputs": [],
   "source": [
    "print( icow['indep_from'].nunique() )\n",
    "icow['indep_from'].unique()"
   ]
  },
  {
   "cell_type": "markdown",
   "metadata": {},
   "source": [
    "### Issues Found\n",
    "`1)` Add country name into dataframe for columns `colonizer` and `indep_from`.\n",
    "\n",
    "`2)` Convert `indep_date`, `cow_indep_date`, and `gw_indep_date` from int to Time Period."
   ]
  },
  {
   "cell_type": "markdown",
   "metadata": {},
   "source": [
    "<a id='clean2'></a>\n",
    "## Clean, Part 2\n",
    "\n",
    "### 1) Add Country Name for columns with Country Codes\n",
    "Insert columns to hold country name based on country codes in `colonizer`, `indep_from`, `secession_from`, and `merged_into` columns. \n",
    "\n",
    "Five Central American countries were part of the Federal Republic of Central America (country code: 89), which is not in the Correlates of War Project list. Manually update these entries. Morocco and Saudi Arabia will remain as nan because indep_from is -9.\n",
    "\n",
    "#### Code"
   ]
  },
  {
   "cell_type": "code",
   "execution_count": null,
   "metadata": {},
   "outputs": [],
   "source": [
    "columns = ['colonizer','indep_from','secession_from','merged_into']\n",
    "for column in columns:\n",
    "    # Join on country code, then rename the joined column\n",
    "    icow = icow.join( country_codes['country_name'], on=column )\n",
    "    new_column_name = column + '_name'\n",
    "    icow.rename( columns={'country_name': new_column_name}, inplace=True )"
   ]
  },
  {
   "cell_type": "code",
   "execution_count": null,
   "metadata": {},
   "outputs": [],
   "source": [
    "indexes = icow.query( 'indep_from == 89' ).index.tolist()\n",
    "icow.loc[ indexes, 'indep_from_name' ] = 'Federal Republic of Central America'"
   ]
  },
  {
   "cell_type": "markdown",
   "metadata": {},
   "source": [
    "#### Test"
   ]
  },
  {
   "cell_type": "code",
   "execution_count": null,
   "metadata": {},
   "outputs": [],
   "source": [
    "icow.info()"
   ]
  },
  {
   "cell_type": "code",
   "execution_count": null,
   "metadata": {},
   "outputs": [],
   "source": [
    "print( icow['colonizer'].nunique() )\n",
    "print( icow['colonizer_name'].nunique() )\n",
    "icow['colonizer_name'].unique()"
   ]
  },
  {
   "cell_type": "code",
   "execution_count": null,
   "metadata": {},
   "outputs": [],
   "source": [
    "print( icow['indep_from'].nunique() )\n",
    "print( icow['indep_from_name'].nunique() )\n",
    "icow['indep_from_name'].unique()"
   ]
  },
  {
   "cell_type": "code",
   "execution_count": null,
   "metadata": {
    "scrolled": true
   },
   "outputs": [],
   "source": [
    "icow[ icow['indep_from_name'].isnull() ]"
   ]
  },
  {
   "cell_type": "markdown",
   "metadata": {},
   "source": [
    "### 2) Convert date columns to datetime\n",
    "\n",
    "Convert `indep_date`, `secession_date`, `merged_date`, `cow_indep_date`, and `gw_indep_date` from int to Time Period. \n",
    "\n",
    "**Note to future me**: I originally attempted a conversion to datetime, but datetime has a limitation to dates between 1677-09-21 and 2262-04-11. A few values fall outside of this range, therefore the workaround found <a href='https://pandas.pydata.org/pandas-docs/stable/user_guide/timeseries.html#timeseries-oob' target='_new'>here</a> was used. This caused the following problem: <a href='https://stackoverflow.com/questions/58019763/jupyter-kernel-crash-when-querying-dataframe-with-period-datatype' target='_new'>Jupyter kernel crash when querying dataframe with Period datatype</a>. \n",
    "\n",
    "*Solution:* The error was caused by -9 in the `gw_indep_date` column. While the conversion to Period didn't fail, it somehow corrupted the dataframe, making queries impossible. By setting -9 dates to 000101 prior to conversion, a valid Period of 0001-01-01 is obtained and the dataframe functions properly.\n",
    "\n",
    "#### Code"
   ]
  },
  {
   "cell_type": "code",
   "execution_count": null,
   "metadata": {},
   "outputs": [],
   "source": [
    "# Conversion function to create Time Period, copied without modification from Pandas documentation linked in the cell above\n",
    "def conv(x):\n",
    "    return pd.Period( year=x // 10000, month=x // 100 % 100, day=x % 100, freq='D' )\n",
    "\n",
    "# -9 entries in date columns cause problems with the dataframe after conversion to Period\n",
    "# This sets them to a valid far past date of 000101\n",
    "def fix_dates(x):\n",
    "    return '000101' if x == -9 else x"
   ]
  },
  {
   "cell_type": "code",
   "execution_count": null,
   "metadata": {},
   "outputs": [],
   "source": [
    "# Convert string representations of date to Time Period\n",
    "# First, apply fix_dates function to each column to ensure missing data converts properly (-9 in the original dataset)\n",
    "# Then append '01' to create format YYYYMMDD (dataset contains only YYYYMM), then apply conversion function\n",
    "columns = ['indep_date','secession_date','merged_date','cow_indep_date','gw_indep_date']\n",
    "for column in columns:\n",
    "    icow[column] = icow[column].apply(fix_dates)\n",
    "    icow[column] = ( icow[column].astype('str') + '01' ).astype('int').apply(conv)"
   ]
  },
  {
   "cell_type": "markdown",
   "metadata": {},
   "source": [
    "#### Test"
   ]
  },
  {
   "cell_type": "code",
   "execution_count": null,
   "metadata": {},
   "outputs": [],
   "source": [
    "icow.info()"
   ]
  },
  {
   "cell_type": "code",
   "execution_count": null,
   "metadata": {},
   "outputs": [],
   "source": [
    "# Check the three entries that failed when attempting conversion to datetime\n",
    "icow[ icow.index.isin( [148,150,170] ) ][['country','indep_date','cow_indep_date','gw_indep_date']]"
   ]
  },
  {
   "cell_type": "markdown",
   "metadata": {},
   "source": [
    "<a id='assess3'></a>\n",
    "## Assess, Part 3"
   ]
  },
  {
   "cell_type": "code",
   "execution_count": null,
   "metadata": {
    "scrolled": true
   },
   "outputs": [],
   "source": [
    "icow['colonizer'].value_counts()"
   ]
  },
  {
   "cell_type": "code",
   "execution_count": null,
   "metadata": {
    "scrolled": true
   },
   "outputs": [],
   "source": [
    "icow['indep_from'].value_counts()"
   ]
  },
  {
   "cell_type": "code",
   "execution_count": null,
   "metadata": {},
   "outputs": [],
   "source": [
    "icow['secession_from'].value_counts()"
   ]
  },
  {
   "cell_type": "code",
   "execution_count": null,
   "metadata": {
    "scrolled": true
   },
   "outputs": [],
   "source": [
    "icow['merged_into'].value_counts()"
   ]
  },
  {
   "cell_type": "markdown",
   "metadata": {},
   "source": [
    "### Issues Found\n",
    "`1)` Numerous -9 values found in `colonizer`, `indep_from`, `secession_from`, and `merged_into` columns. Split into 4 datasets, one dataset for each of the four columns where the value is not -9. "
   ]
  },
  {
   "cell_type": "markdown",
   "metadata": {},
   "source": [
    "<a id='clean3'></a>\n",
    "## Clean, Part 3\n",
    "\n",
    "### 1) Split into 4 datasets\n",
    "Create a dataset each for colonized countries, countries that declared independence, countries that seceded, and countries that merged into another. To populate these datasets, get all values that are not -9 from the corresponding columns: `colonizer`, `indep_from`, `secession_from`, `merged_into`\n",
    "\n",
    "#### Code"
   ]
  },
  {
   "cell_type": "code",
   "execution_count": null,
   "metadata": {},
   "outputs": [],
   "source": [
    "colonized = icow.query( 'colonizer != -9' ).copy()\n",
    "colonized.shape"
   ]
  },
  {
   "cell_type": "code",
   "execution_count": null,
   "metadata": {},
   "outputs": [],
   "source": [
    "independence = icow.query( 'indep_from != -9' ).copy()\n",
    "independence.shape"
   ]
  },
  {
   "cell_type": "code",
   "execution_count": null,
   "metadata": {},
   "outputs": [],
   "source": [
    "seceded = icow.query( 'secession_from != -9' ).copy()\n",
    "seceded.shape"
   ]
  },
  {
   "cell_type": "code",
   "execution_count": null,
   "metadata": {},
   "outputs": [],
   "source": [
    "merged = icow.query( 'merged_into != -9' ).copy()\n",
    "merged.shape"
   ]
  },
  {
   "cell_type": "markdown",
   "metadata": {},
   "source": [
    "#### Test"
   ]
  },
  {
   "cell_type": "code",
   "execution_count": null,
   "metadata": {
    "scrolled": false
   },
   "outputs": [],
   "source": [
    "colonized['colonizer'].value_counts()"
   ]
  },
  {
   "cell_type": "code",
   "execution_count": null,
   "metadata": {
    "scrolled": true
   },
   "outputs": [],
   "source": [
    "independence['indep_from'].value_counts()"
   ]
  },
  {
   "cell_type": "code",
   "execution_count": null,
   "metadata": {
    "scrolled": true
   },
   "outputs": [],
   "source": [
    "seceded['secession_from'].value_counts()"
   ]
  },
  {
   "cell_type": "code",
   "execution_count": null,
   "metadata": {},
   "outputs": [],
   "source": [
    "merged['merged_into'].value_counts()"
   ]
  },
  {
   "cell_type": "code",
   "execution_count": null,
   "metadata": {},
   "outputs": [],
   "source": []
  },
  {
   "cell_type": "code",
   "execution_count": null,
   "metadata": {},
   "outputs": [],
   "source": []
  },
  {
   "cell_type": "code",
   "execution_count": null,
   "metadata": {},
   "outputs": [],
   "source": []
  },
  {
   "cell_type": "code",
   "execution_count": null,
   "metadata": {},
   "outputs": [],
   "source": []
  },
  {
   "cell_type": "code",
   "execution_count": null,
   "metadata": {},
   "outputs": [],
   "source": []
  },
  {
   "cell_type": "markdown",
   "metadata": {},
   "source": [
    "<a id='references'></a>\n",
    "## References\n",
    "\n",
    "<li>Paul R. Hensel (2018). \"ICOW Colonial History Data Set, version 1.1.\" Available at <a href='http://www.paulhensel.org/icowcol.html' target='_new'>http://www.paulhensel.org/icowcol.html</a></li>\n",
    "<li><a href='http://www.correlatesofwar.org/data-sets/downloadable-files/cow-country-codes' target='_new'>Correlates of War country codes</a></li>"
   ]
  }
 ],
 "metadata": {
  "kernelspec": {
   "display_name": "Python 3",
   "language": "python",
   "name": "python3"
  },
  "language_info": {
   "codemirror_mode": {
    "name": "ipython",
    "version": 3
   },
   "file_extension": ".py",
   "mimetype": "text/x-python",
   "name": "python",
   "nbconvert_exporter": "python",
   "pygments_lexer": "ipython3",
   "version": "3.7.4"
  }
 },
 "nbformat": 4,
 "nbformat_minor": 2
}
