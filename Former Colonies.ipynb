{
 "cells": [
  {
   "cell_type": "markdown",
   "metadata": {},
   "source": [
    "# Wrangling Former Colonies\n",
    "## By: Scott Kustes\n",
    "\n",
    "### Objective:\n",
    "Wrangle a list of former colonies, their colonizers, year of colonization, and year of independence.\n",
    "\n",
    "#### Dataset:\n",
    "The dataset was gathered by scraping information from Wikipedia pages using BeautifulSoup.  The following URLs were scraped:\n",
    "- British Colonies: https://en.wikipedia.org/wiki/List_of_countries_that_have_gained_independence_from_the_United_Kingdom\n",
    "\n",
    "#### Contents\n",
    "<ul>\n",
    "    <li><a href='#gather'>Data Gathering</a>\n",
    "        <ul>\n",
    "            <li><a href='#british-empire'>British Empire</a></li>\n",
    "        </ul>\n",
    "    </li>\n",
    "    <li><a href='#assess1'>Assess, Part 1</a></li>\n",
    "    <li><a href='#clean1'>Clean, Part 1</a></li>\n",
    "    <li><a href='#final'>Finished Dataframes</a></li>\n",
    "</ul>"
   ]
  },
  {
   "cell_type": "code",
   "execution_count": 87,
   "metadata": {},
   "outputs": [],
   "source": [
    "# Import necessary packages\n",
    "from bs4 import BeautifulSoup\n",
    "import requests\n",
    "import pandas as pd\n",
    "import os.path as os_path"
   ]
  },
  {
   "cell_type": "markdown",
   "metadata": {},
   "source": [
    "# Last Tested On\n",
    "> September 12, 2019"
   ]
  },
  {
   "cell_type": "markdown",
   "metadata": {},
   "source": [
    "<a id='gather'></a>\n",
    "## Gather\n",
    "\n",
    "<a id='british-empire'></a>\n",
    "### British Empire"
   ]
  },
  {
   "cell_type": "code",
   "execution_count": 88,
   "metadata": {},
   "outputs": [],
   "source": [
    "# Import the page\n",
    "url = 'https://en.wikipedia.org/wiki/List_of_countries_that_have_gained_independence_from_the_United_Kingdom'\n",
    "page = requests.get( url )\n",
    "soup = BeautifulSoup( page.text, 'html.parser' )\n",
    "\n",
    "# Get all of the tables on this page\n",
    "tables = soup.find_all( class_='wikitable' )"
   ]
  },
  {
   "cell_type": "code",
   "execution_count": 90,
   "metadata": {
    "scrolled": true
   },
   "outputs": [],
   "source": [
    "# Get the first table on the page\n",
    "# Additional tables in indices 1-8\n",
    "colonies = tables[0].find( 'tbody' ).find_all( 'tr' )\n",
    "colonies_header = []\n",
    "colonies_data = []\n",
    "\n",
    "# Loop through the colonies, gathering the data held in each table cell ('td') into an array\n",
    "# Save the values in the first row to colonies_header\n",
    "# Save remaining values to colonies_data\n",
    "for index, colony in enumerate( colonies ):\n",
    "    # Get the values in the columns\n",
    "    columns = colony.find_all( 'td' ) if index > 0 else colony.find_all( 'th' )\n",
    "\n",
    "    # If it isn't the first row, it's data\n",
    "    if index > 0:\n",
    "        # Append to colonies_data\n",
    "        colonies_data.append( [element.text.strip() for element in columns ] )\n",
    "    # If it is the first row, it's headers\n",
    "    else:\n",
    "        # Append to colonies_header\n",
    "        colonies_header.append( [element.text.strip() for element in columns ] )\n",
    "        colonies_header = colonies_header[0]\n",
    "\n",
    "colonies_df = pd.DataFrame( data=colonies_data, columns=colonies_header )"
   ]
  },
  {
   "cell_type": "code",
   "execution_count": 91,
   "metadata": {},
   "outputs": [
    {
     "data": {
      "text/html": [
       "<div>\n",
       "<style scoped>\n",
       "    .dataframe tbody tr th:only-of-type {\n",
       "        vertical-align: middle;\n",
       "    }\n",
       "\n",
       "    .dataframe tbody tr th {\n",
       "        vertical-align: top;\n",
       "    }\n",
       "\n",
       "    .dataframe thead th {\n",
       "        text-align: right;\n",
       "    }\n",
       "</style>\n",
       "<table border=\"1\" class=\"dataframe\">\n",
       "  <thead>\n",
       "    <tr style=\"text-align: right;\">\n",
       "      <th></th>\n",
       "      <th>Country</th>\n",
       "      <th>Date</th>\n",
       "      <th>Year of Independence</th>\n",
       "      <th>Notes</th>\n",
       "    </tr>\n",
       "  </thead>\n",
       "  <tbody>\n",
       "    <tr>\n",
       "      <th>14</th>\n",
       "      <td>Fiji</td>\n",
       "      <td>10 October</td>\n",
       "      <td>1970</td>\n",
       "      <td></td>\n",
       "    </tr>\n",
       "    <tr>\n",
       "      <th>19</th>\n",
       "      <td>India</td>\n",
       "      <td>15 August</td>\n",
       "      <td>1947</td>\n",
       "      <td>Independence Day (India)</td>\n",
       "    </tr>\n",
       "    <tr>\n",
       "      <th>55</th>\n",
       "      <td>Uganda</td>\n",
       "      <td>9 October</td>\n",
       "      <td>1962</td>\n",
       "      <td></td>\n",
       "    </tr>\n",
       "    <tr>\n",
       "      <th>35</th>\n",
       "      <td>Myanmar</td>\n",
       "      <td>4 January</td>\n",
       "      <td>1948</td>\n",
       "      <td>Gained independence as Burma. Renamed Myanmar ...</td>\n",
       "    </tr>\n",
       "    <tr>\n",
       "      <th>7</th>\n",
       "      <td>Botswana</td>\n",
       "      <td>30 September</td>\n",
       "      <td>1966</td>\n",
       "      <td></td>\n",
       "    </tr>\n",
       "  </tbody>\n",
       "</table>\n",
       "</div>"
      ],
      "text/plain": [
       "     Country          Date Year of Independence  \\\n",
       "14      Fiji    10 October                 1970   \n",
       "19     India     15 August                 1947   \n",
       "55    Uganda     9 October                 1962   \n",
       "35   Myanmar     4 January                 1948   \n",
       "7   Botswana  30 September                 1966   \n",
       "\n",
       "                                                Notes  \n",
       "14                                                     \n",
       "19                           Independence Day (India)  \n",
       "55                                                     \n",
       "35  Gained independence as Burma. Renamed Myanmar ...  \n",
       "7                                                      "
      ]
     },
     "execution_count": 91,
     "metadata": {},
     "output_type": "execute_result"
    }
   ],
   "source": [
    "colonies_df.sample(5)"
   ]
  },
  {
   "cell_type": "code",
   "execution_count": null,
   "metadata": {},
   "outputs": [],
   "source": []
  }
 ],
 "metadata": {
  "kernelspec": {
   "display_name": "Python 3",
   "language": "python",
   "name": "python3"
  },
  "language_info": {
   "codemirror_mode": {
    "name": "ipython",
    "version": 3
   },
   "file_extension": ".py",
   "mimetype": "text/x-python",
   "name": "python",
   "nbconvert_exporter": "python",
   "pygments_lexer": "ipython3",
   "version": "3.7.3"
  }
 },
 "nbformat": 4,
 "nbformat_minor": 2
}
