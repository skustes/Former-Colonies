{
 "cells": [
  {
   "cell_type": "markdown",
   "metadata": {},
   "source": [
    "# Wrangling Former Colonies\n",
    "## By: Scott Kustes\n",
    "\n",
    "### Objective:\n",
    "Compile a list of former colonies of modern countries. ADD INFO ABOUT WHAT DATA IS INCLUDED IN FINAL OUTPUT\n",
    "\n",
    "#### Discussion:\n",
    "History is complex. For many countries, the date of independence is not clear cut. This dataset contains Dr. Hensel's determination of independence date as the point at which a country makes its own foreign and domestic policy decisions. It also contains the independence dates as determined by The Correlates of War Project and the Gleditsch/Ward list of independent states for comparison. In some instances, there are vast differences between the dates.\n",
    "\n",
    "#### Datasets:\n",
    "The primary dataset was downloaded from <a href='http://www.paulhensel.org/icow.html' target='_new'>The Issue Correlates of War Project</a>. Additional datasets were downloaded from <a href='http://www.correlatesofwar.org' target='_new'>The Correlates of War Project</a>.  For specific dataset citations, see the References section at the bottom of the notebook.\n",
    "\n",
    "#### Contents\n",
    "<ul>\n",
    "    <li><a href='#gather'>Data Gathering</a></li>\n",
    "    <li><a href='#assess1'>Assess, Part 1</a></li>\n",
    "    <li><a href='#clean1'>Clean, Part 1</a></li>\n",
    "    <li><a href='#assess2'>Assess, Part 2</a></li>\n",
    "    <li><a href='#clean2'>Clean, Part 2</a></li>\n",
    "    <li><a href='#assess3'>Assess, Part 3</a></li>\n",
    "    <li><a href='#clean3'>Clean, Part 3</a></li>\n",
    "    <li><a href='#final'>Finished Dataframes</a></li>\n",
    "    <li><a href='#references'>References</a></li>\n",
    "</ul>"
   ]
  },
  {
   "cell_type": "code",
   "execution_count": 1,
   "metadata": {},
   "outputs": [],
   "source": [
    "# Import packages\n",
    "import requests\n",
    "import pandas as pd\n",
    "import os.path as os_path"
   ]
  },
  {
   "cell_type": "markdown",
   "metadata": {},
   "source": [
    "<a id='gather'></a>\n",
    "## Data Gathering\n",
    "### Colonization Data"
   ]
  },
  {
   "cell_type": "code",
   "execution_count": 2,
   "metadata": {},
   "outputs": [
    {
     "data": {
      "text/html": [
       "<div>\n",
       "<style scoped>\n",
       "    .dataframe tbody tr th:only-of-type {\n",
       "        vertical-align: middle;\n",
       "    }\n",
       "\n",
       "    .dataframe tbody tr th {\n",
       "        vertical-align: top;\n",
       "    }\n",
       "\n",
       "    .dataframe thead th {\n",
       "        text-align: right;\n",
       "    }\n",
       "</style>\n",
       "<table border=\"1\" class=\"dataframe\">\n",
       "  <thead>\n",
       "    <tr style=\"text-align: right;\">\n",
       "      <th></th>\n",
       "      <th>State</th>\n",
       "      <th>Name</th>\n",
       "      <th>ColRuler</th>\n",
       "      <th>IndFrom</th>\n",
       "      <th>IndDate</th>\n",
       "      <th>IndViol</th>\n",
       "      <th>IndType</th>\n",
       "      <th>SecFrom</th>\n",
       "      <th>SecDate</th>\n",
       "      <th>SecViol</th>\n",
       "      <th>Into</th>\n",
       "      <th>IntoDate</th>\n",
       "      <th>COWsys</th>\n",
       "      <th>GWsys</th>\n",
       "      <th>Notes</th>\n",
       "    </tr>\n",
       "  </thead>\n",
       "  <tbody>\n",
       "    <tr>\n",
       "      <th>1</th>\n",
       "      <td>20</td>\n",
       "      <td>Canada</td>\n",
       "      <td>200</td>\n",
       "      <td>200</td>\n",
       "      <td>186707</td>\n",
       "      <td>0</td>\n",
       "      <td>2</td>\n",
       "      <td>-9</td>\n",
       "      <td>-9</td>\n",
       "      <td>-9</td>\n",
       "      <td>-9</td>\n",
       "      <td>-9</td>\n",
       "      <td>192001</td>\n",
       "      <td>186707</td>\n",
       "      <td>Independent but not a COW system member from 1...</td>\n",
       "    </tr>\n",
       "    <tr>\n",
       "      <th>39</th>\n",
       "      <td>212</td>\n",
       "      <td>Luxembourg</td>\n",
       "      <td>210</td>\n",
       "      <td>210</td>\n",
       "      <td>186705</td>\n",
       "      <td>0</td>\n",
       "      <td>2</td>\n",
       "      <td>210</td>\n",
       "      <td>186705</td>\n",
       "      <td>0</td>\n",
       "      <td>-9</td>\n",
       "      <td>-9</td>\n",
       "      <td>192011</td>\n",
       "      <td>186705</td>\n",
       "      <td>COW system interrupted 5/1940-9/1944 (Ger occu...</td>\n",
       "    </tr>\n",
       "    <tr>\n",
       "      <th>105</th>\n",
       "      <td>432</td>\n",
       "      <td>Mali</td>\n",
       "      <td>220</td>\n",
       "      <td>220</td>\n",
       "      <td>196009</td>\n",
       "      <td>0</td>\n",
       "      <td>2</td>\n",
       "      <td>-9</td>\n",
       "      <td>-9</td>\n",
       "      <td>-9</td>\n",
       "      <td>-9</td>\n",
       "      <td>-9</td>\n",
       "      <td>196006</td>\n",
       "      <td>196009</td>\n",
       "      <td>-9</td>\n",
       "    </tr>\n",
       "    <tr>\n",
       "      <th>160</th>\n",
       "      <td>663</td>\n",
       "      <td>Jordan</td>\n",
       "      <td>640</td>\n",
       "      <td>200</td>\n",
       "      <td>194605</td>\n",
       "      <td>0</td>\n",
       "      <td>2</td>\n",
       "      <td>-9</td>\n",
       "      <td>-9</td>\n",
       "      <td>-9</td>\n",
       "      <td>-9</td>\n",
       "      <td>-9</td>\n",
       "      <td>194603</td>\n",
       "      <td>194605</td>\n",
       "      <td>Occupied by British 1918-23 before becoming Le...</td>\n",
       "    </tr>\n",
       "    <tr>\n",
       "      <th>139</th>\n",
       "      <td>560</td>\n",
       "      <td>South Africa</td>\n",
       "      <td>200</td>\n",
       "      <td>200</td>\n",
       "      <td>191005</td>\n",
       "      <td>0</td>\n",
       "      <td>2</td>\n",
       "      <td>-9</td>\n",
       "      <td>-9</td>\n",
       "      <td>-9</td>\n",
       "      <td>-9</td>\n",
       "      <td>-9</td>\n",
       "      <td>192001</td>\n",
       "      <td>191005</td>\n",
       "      <td>Ceded by Dutch to British in 1814</td>\n",
       "    </tr>\n",
       "  </tbody>\n",
       "</table>\n",
       "</div>"
      ],
      "text/plain": [
       "     State          Name  ColRuler  IndFrom  IndDate  IndViol  IndType  \\\n",
       "1       20        Canada       200      200   186707        0        2   \n",
       "39     212    Luxembourg       210      210   186705        0        2   \n",
       "105    432          Mali       220      220   196009        0        2   \n",
       "160    663        Jordan       640      200   194605        0        2   \n",
       "139    560  South Africa       200      200   191005        0        2   \n",
       "\n",
       "     SecFrom  SecDate  SecViol  Into  IntoDate  COWsys   GWsys  \\\n",
       "1         -9       -9       -9    -9        -9  192001  186707   \n",
       "39       210   186705        0    -9        -9  192011  186705   \n",
       "105       -9       -9       -9    -9        -9  196006  196009   \n",
       "160       -9       -9       -9    -9        -9  194603  194605   \n",
       "139       -9       -9       -9    -9        -9  192001  191005   \n",
       "\n",
       "                                                 Notes  \n",
       "1    Independent but not a COW system member from 1...  \n",
       "39   COW system interrupted 5/1940-9/1944 (Ger occu...  \n",
       "105                                                 -9  \n",
       "160  Occupied by British 1918-23 before becoming Le...  \n",
       "139                  Ceded by Dutch to British in 1814  "
      ]
     },
     "execution_count": 2,
     "metadata": {},
     "output_type": "execute_result"
    }
   ],
   "source": [
    "icow = pd.read_csv( 'colonial_data.csv' )\n",
    "icow.sample(5)"
   ]
  },
  {
   "cell_type": "markdown",
   "metadata": {},
   "source": [
    "### Country Codes\n",
    "Read in and de-duplicate the country codes used by The Correlates of War Project. Rename columns and set `country_code` as the dataframe key."
   ]
  },
  {
   "cell_type": "code",
   "execution_count": 3,
   "metadata": {},
   "outputs": [
    {
     "data": {
      "text/html": [
       "<div>\n",
       "<style scoped>\n",
       "    .dataframe tbody tr th:only-of-type {\n",
       "        vertical-align: middle;\n",
       "    }\n",
       "\n",
       "    .dataframe tbody tr th {\n",
       "        vertical-align: top;\n",
       "    }\n",
       "\n",
       "    .dataframe thead th {\n",
       "        text-align: right;\n",
       "    }\n",
       "</style>\n",
       "<table border=\"1\" class=\"dataframe\">\n",
       "  <thead>\n",
       "    <tr style=\"text-align: right;\">\n",
       "      <th></th>\n",
       "      <th>abbreviation</th>\n",
       "      <th>country_name</th>\n",
       "    </tr>\n",
       "    <tr>\n",
       "      <th>country_code</th>\n",
       "      <th></th>\n",
       "      <th></th>\n",
       "    </tr>\n",
       "  </thead>\n",
       "  <tbody>\n",
       "    <tr>\n",
       "      <th>920</th>\n",
       "      <td>NEW</td>\n",
       "      <td>New Zealand</td>\n",
       "    </tr>\n",
       "    <tr>\n",
       "      <th>626</th>\n",
       "      <td>SSD</td>\n",
       "      <td>South Sudan</td>\n",
       "    </tr>\n",
       "    <tr>\n",
       "      <th>702</th>\n",
       "      <td>TAJ</td>\n",
       "      <td>Tajikistan</td>\n",
       "    </tr>\n",
       "    <tr>\n",
       "      <th>712</th>\n",
       "      <td>MON</td>\n",
       "      <td>Mongolia</td>\n",
       "    </tr>\n",
       "    <tr>\n",
       "      <th>337</th>\n",
       "      <td>TUS</td>\n",
       "      <td>Tuscany</td>\n",
       "    </tr>\n",
       "  </tbody>\n",
       "</table>\n",
       "</div>"
      ],
      "text/plain": [
       "             abbreviation country_name\n",
       "country_code                          \n",
       "920                   NEW  New Zealand\n",
       "626                   SSD  South Sudan\n",
       "702                   TAJ   Tajikistan\n",
       "712                   MON     Mongolia\n",
       "337                   TUS      Tuscany"
      ]
     },
     "execution_count": 3,
     "metadata": {},
     "output_type": "execute_result"
    }
   ],
   "source": [
    "country_codes = pd.read_csv( 'cow_country_codes.csv' )\n",
    "country_codes.drop_duplicates( inplace=True )\n",
    "country_codes.rename( columns={'StateAbb': 'abbreviation', 'CCode': 'country_code', 'StateNme': 'country_name'}, inplace=True )\n",
    "country_codes.set_index( 'country_code', inplace=True )\n",
    "country_codes.sample(5)"
   ]
  },
  {
   "cell_type": "markdown",
   "metadata": {},
   "source": [
    "<a id='assess1'></a>\n",
    "## Assess, Part 1"
   ]
  },
  {
   "cell_type": "code",
   "execution_count": 4,
   "metadata": {
    "scrolled": true
   },
   "outputs": [
    {
     "name": "stdout",
     "output_type": "stream",
     "text": [
      "<class 'pandas.core.frame.DataFrame'>\n",
      "RangeIndex: 217 entries, 0 to 216\n",
      "Data columns (total 15 columns):\n",
      "State       217 non-null int64\n",
      "Name        217 non-null object\n",
      "ColRuler    217 non-null int64\n",
      "IndFrom     217 non-null int64\n",
      "IndDate     217 non-null int64\n",
      "IndViol     217 non-null int64\n",
      "IndType     217 non-null int64\n",
      "SecFrom     217 non-null int64\n",
      "SecDate     217 non-null int64\n",
      "SecViol     217 non-null int64\n",
      "Into        217 non-null int64\n",
      "IntoDate    217 non-null int64\n",
      "COWsys      217 non-null int64\n",
      "GWsys       217 non-null int64\n",
      "Notes       217 non-null object\n",
      "dtypes: int64(13), object(2)\n",
      "memory usage: 25.5+ KB\n"
     ]
    }
   ],
   "source": [
    "icow.info()"
   ]
  },
  {
   "cell_type": "code",
   "execution_count": 5,
   "metadata": {
    "scrolled": true
   },
   "outputs": [
    {
     "name": "stdout",
     "output_type": "stream",
     "text": [
      "17\n"
     ]
    },
    {
     "data": {
      "text/plain": [
       "array([200, 230, 220, 210, 235,  -9, 255, 300, 640, 365, 211, 325, 710,\n",
       "       740, 900,   2, 920], dtype=int64)"
      ]
     },
     "execution_count": 5,
     "metadata": {},
     "output_type": "execute_result"
    }
   ],
   "source": [
    "# Unique values in Colonial Ruler column\n",
    "print( icow['ColRuler'].nunique() )\n",
    "icow['ColRuler'].unique()"
   ]
  },
  {
   "cell_type": "code",
   "execution_count": 6,
   "metadata": {},
   "outputs": [
    {
     "data": {
      "text/plain": [
       "array([1, 0], dtype=int64)"
      ]
     },
     "execution_count": 6,
     "metadata": {},
     "output_type": "execute_result"
    }
   ],
   "source": [
    "icow['IndViol'].unique()"
   ]
  },
  {
   "cell_type": "code",
   "execution_count": 7,
   "metadata": {},
   "outputs": [
    {
     "data": {
      "text/plain": [
       "array([2, 3, 1, 4], dtype=int64)"
      ]
     },
     "execution_count": 7,
     "metadata": {},
     "output_type": "execute_result"
    }
   ],
   "source": [
    "icow['IndType'].unique()"
   ]
  },
  {
   "cell_type": "markdown",
   "metadata": {},
   "source": [
    "### Issues Found\n",
    "`1)` Remove countries with -9 in `ColRuler`, `IndFrom`, `SecFrom`, and `Into`. \n",
    "\n",
    "`2)` Rename columns to more reader-friendly format."
   ]
  },
  {
   "cell_type": "markdown",
   "metadata": {},
   "source": [
    "<a id='clean1'></a>\n",
    "## Clean, Part 1\n",
    "\n",
    "### 1) Remove Uncolonized Countries\n",
    "Delete all entries where `ColRuler`, `IndFrom`, `SecFrom`, and `Into` columns are -9. These countries were never colonized, never declared independence or seceded from another country, and never merged into another country and are therefore unnecessary in the dataset.\n",
    "\n",
    "#### Code"
   ]
  },
  {
   "cell_type": "code",
   "execution_count": 8,
   "metadata": {},
   "outputs": [],
   "source": [
    "icow.drop( icow.query( '( ColRuler == -9 ) & ( IndFrom == -9 ) & ( SecFrom == -9 ) & ( Into == -9 )' ).index, inplace=True )"
   ]
  },
  {
   "cell_type": "markdown",
   "metadata": {},
   "source": [
    "#### Test"
   ]
  },
  {
   "cell_type": "code",
   "execution_count": 9,
   "metadata": {},
   "outputs": [
    {
     "name": "stdout",
     "output_type": "stream",
     "text": [
      "17\n"
     ]
    },
    {
     "data": {
      "text/plain": [
       "array([200, 230, 220, 210, 235,  -9, 255, 300, 640, 365, 211, 325, 710,\n",
       "       740, 900,   2, 920], dtype=int64)"
      ]
     },
     "execution_count": 9,
     "metadata": {},
     "output_type": "execute_result"
    }
   ],
   "source": [
    "print( icow['ColRuler'].nunique() )\n",
    "icow['ColRuler'].unique()"
   ]
  },
  {
   "cell_type": "markdown",
   "metadata": {},
   "source": [
    "### 2) Rename Columns\n",
    "Create reader-friendly column names.\n",
    "\n",
    "#### Code"
   ]
  },
  {
   "cell_type": "code",
   "execution_count": 10,
   "metadata": {},
   "outputs": [],
   "source": [
    "icow.rename( columns={\n",
    "    'State': 'country_code',\n",
    "    'Name': 'country',\n",
    "    'ColRuler': 'colonizer',\n",
    "    'IndFrom': 'indep_from',\n",
    "    'IndDate': 'indep_date',\n",
    "    'IndViol': 'indep_violent',\n",
    "    'IndType': 'indep_type',\n",
    "    'SecFrom': 'secession_from',\n",
    "    'SecDate': 'secession_date',\n",
    "    'SecViol': 'secession_violent',\n",
    "    'Into': 'merged_into',\n",
    "    'IntoDate': 'merged_date',\n",
    "    'COWsys': 'cow_indep_date',\n",
    "    'GWsys': 'gw_indep_date',\n",
    "    'Notes': 'notes'\n",
    "}, inplace=True )"
   ]
  },
  {
   "cell_type": "markdown",
   "metadata": {},
   "source": [
    "#### Test"
   ]
  },
  {
   "cell_type": "code",
   "execution_count": 11,
   "metadata": {},
   "outputs": [
    {
     "name": "stdout",
     "output_type": "stream",
     "text": [
      "<class 'pandas.core.frame.DataFrame'>\n",
      "Int64Index: 193 entries, 0 to 216\n",
      "Data columns (total 15 columns):\n",
      "country_code         193 non-null int64\n",
      "country              193 non-null object\n",
      "colonizer            193 non-null int64\n",
      "indep_from           193 non-null int64\n",
      "indep_date           193 non-null int64\n",
      "indep_violent        193 non-null int64\n",
      "indep_type           193 non-null int64\n",
      "secession_from       193 non-null int64\n",
      "secession_date       193 non-null int64\n",
      "secession_violent    193 non-null int64\n",
      "merged_into          193 non-null int64\n",
      "merged_date          193 non-null int64\n",
      "cow_indep_date       193 non-null int64\n",
      "gw_indep_date        193 non-null int64\n",
      "notes                193 non-null object\n",
      "dtypes: int64(13), object(2)\n",
      "memory usage: 24.1+ KB\n"
     ]
    }
   ],
   "source": [
    "icow.info()"
   ]
  },
  {
   "cell_type": "markdown",
   "metadata": {},
   "source": [
    "<a id='assess2'></a>\n",
    "## Assess, Part 2"
   ]
  },
  {
   "cell_type": "code",
   "execution_count": 12,
   "metadata": {},
   "outputs": [
    {
     "name": "stdout",
     "output_type": "stream",
     "text": [
      "17\n"
     ]
    },
    {
     "data": {
      "text/plain": [
       "array([200, 230, 220, 210, 235,  -9, 255, 300, 640, 365, 211, 325, 710,\n",
       "       740, 900,   2, 920], dtype=int64)"
      ]
     },
     "execution_count": 12,
     "metadata": {},
     "output_type": "execute_result"
    }
   ],
   "source": [
    "print( icow['colonizer'].nunique() )\n",
    "icow['colonizer'].unique()"
   ]
  },
  {
   "cell_type": "code",
   "execution_count": 13,
   "metadata": {},
   "outputs": [
    {
     "name": "stdout",
     "output_type": "stream",
     "text": [
      "34\n"
     ]
    },
    {
     "data": {
      "text/plain": [
       "array([200,   2, 220,  41, 230,  89, 100, 210, 235, 140,  -9, 255, 300,\n",
       "       315, 640, 345, 365, 380, 390, 432, 211, 325, 530, 560, 625, 678,\n",
       "       710, 730, 750, 770, 820, 850, 900, 920], dtype=int64)"
      ]
     },
     "execution_count": 13,
     "metadata": {},
     "output_type": "execute_result"
    }
   ],
   "source": [
    "print( icow['indep_from'].nunique() )\n",
    "icow['indep_from'].unique()"
   ]
  },
  {
   "cell_type": "markdown",
   "metadata": {},
   "source": [
    "### Issues Found\n",
    "`1)` Add country name into dataframe for columns `colonizer` and `indep_from`.\n",
    "\n",
    "`2)` Convert `indep_date`, `cow_indep_date`, and `gw_indep_date` from int to Time Period."
   ]
  },
  {
   "cell_type": "markdown",
   "metadata": {},
   "source": [
    "<a id='clean2'></a>\n",
    "## Clean, Part 2\n",
    "\n",
    "### 1) Add Country Name for columns with Country Codes\n",
    "Insert columns to hold country name based on country codes in `colonizer`, `indep_from`, `secession_from`, and `merged_into` columns. \n",
    "\n",
    "Five Central American countries were part of the Federal Republic of Central America (country code: 89), which is not in the Correlates of War Project list. Manually update these entries. Morocco and Saudi Arabia will remain as nan because indep_from is -9.\n",
    "\n",
    "#### Code"
   ]
  },
  {
   "cell_type": "code",
   "execution_count": 14,
   "metadata": {},
   "outputs": [],
   "source": [
    "columns = ['colonizer','indep_from','secession_from','merged_into']\n",
    "for column in columns:\n",
    "    # Join on country code, then rename the joined column\n",
    "    icow = icow.join( country_codes['country_name'], on=column )\n",
    "    new_column_name = column + '_name'\n",
    "    icow.rename( columns={'country_name': new_column_name}, inplace=True )"
   ]
  },
  {
   "cell_type": "code",
   "execution_count": 15,
   "metadata": {},
   "outputs": [],
   "source": [
    "indexes = icow.query( 'indep_from == 89' ).index.tolist()\n",
    "icow.loc[ indexes, 'indep_from_name' ] = 'Federal Republic of Central America'"
   ]
  },
  {
   "cell_type": "markdown",
   "metadata": {},
   "source": [
    "#### Test"
   ]
  },
  {
   "cell_type": "code",
   "execution_count": 16,
   "metadata": {},
   "outputs": [
    {
     "name": "stdout",
     "output_type": "stream",
     "text": [
      "<class 'pandas.core.frame.DataFrame'>\n",
      "Int64Index: 193 entries, 0 to 216\n",
      "Data columns (total 19 columns):\n",
      "country_code           193 non-null int64\n",
      "country                193 non-null object\n",
      "colonizer              193 non-null int64\n",
      "indep_from             193 non-null int64\n",
      "indep_date             193 non-null int64\n",
      "indep_violent          193 non-null int64\n",
      "indep_type             193 non-null int64\n",
      "secession_from         193 non-null int64\n",
      "secession_date         193 non-null int64\n",
      "secession_violent      193 non-null int64\n",
      "merged_into            193 non-null int64\n",
      "merged_date            193 non-null int64\n",
      "cow_indep_date         193 non-null int64\n",
      "gw_indep_date          193 non-null int64\n",
      "notes                  193 non-null object\n",
      "colonizer_name         171 non-null object\n",
      "indep_from_name        178 non-null object\n",
      "secession_from_name    33 non-null object\n",
      "merged_into_name       19 non-null object\n",
      "dtypes: int64(13), object(6)\n",
      "memory usage: 35.2+ KB\n"
     ]
    }
   ],
   "source": [
    "icow.info()"
   ]
  },
  {
   "cell_type": "code",
   "execution_count": 17,
   "metadata": {},
   "outputs": [
    {
     "name": "stdout",
     "output_type": "stream",
     "text": [
      "17\n",
      "16\n"
     ]
    },
    {
     "data": {
      "text/plain": [
       "array(['United Kingdom', 'Spain', 'France', 'Netherlands', 'Portugal',\n",
       "       nan, 'Germany', 'Austria-Hungary', 'Turkey', 'Russia', 'Belgium',\n",
       "       'Italy', 'China', 'Japan', 'Australia', 'United States of America',\n",
       "       'New Zealand'], dtype=object)"
      ]
     },
     "execution_count": 17,
     "metadata": {},
     "output_type": "execute_result"
    }
   ],
   "source": [
    "print( icow['colonizer'].nunique() )\n",
    "print( icow['colonizer_name'].nunique() )\n",
    "icow['colonizer_name'].unique()"
   ]
  },
  {
   "cell_type": "code",
   "execution_count": 18,
   "metadata": {},
   "outputs": [
    {
     "name": "stdout",
     "output_type": "stream",
     "text": [
      "34\n",
      "33\n"
     ]
    },
    {
     "data": {
      "text/plain": [
       "array(['United Kingdom', 'United States of America', 'France', 'Haiti',\n",
       "       'Spain', 'Federal Republic of Central America', 'Colombia',\n",
       "       'Netherlands', 'Portugal', 'Brazil', nan, 'Germany',\n",
       "       'Austria-Hungary', 'Czechoslovakia', 'Turkey', 'Yugoslavia',\n",
       "       'Russia', 'Sweden', 'Denmark', 'Mali', 'Belgium', 'Italy',\n",
       "       'Ethiopia', 'South Africa', 'Sudan', 'Yemen Arab Republic',\n",
       "       'China', 'Korea', 'India', 'Pakistan', 'Malaysia', 'Indonesia',\n",
       "       'Australia', 'New Zealand'], dtype=object)"
      ]
     },
     "execution_count": 18,
     "metadata": {},
     "output_type": "execute_result"
    }
   ],
   "source": [
    "print( icow['indep_from'].nunique() )\n",
    "print( icow['indep_from_name'].nunique() )\n",
    "icow['indep_from_name'].unique()"
   ]
  },
  {
   "cell_type": "code",
   "execution_count": 19,
   "metadata": {
    "scrolled": true
   },
   "outputs": [
    {
     "data": {
      "text/html": [
       "<div>\n",
       "<style scoped>\n",
       "    .dataframe tbody tr th:only-of-type {\n",
       "        vertical-align: middle;\n",
       "    }\n",
       "\n",
       "    .dataframe tbody tr th {\n",
       "        vertical-align: top;\n",
       "    }\n",
       "\n",
       "    .dataframe thead th {\n",
       "        text-align: right;\n",
       "    }\n",
       "</style>\n",
       "<table border=\"1\" class=\"dataframe\">\n",
       "  <thead>\n",
       "    <tr style=\"text-align: right;\">\n",
       "      <th></th>\n",
       "      <th>country_code</th>\n",
       "      <th>country</th>\n",
       "      <th>colonizer</th>\n",
       "      <th>indep_from</th>\n",
       "      <th>indep_date</th>\n",
       "      <th>indep_violent</th>\n",
       "      <th>indep_type</th>\n",
       "      <th>secession_from</th>\n",
       "      <th>secession_date</th>\n",
       "      <th>secession_violent</th>\n",
       "      <th>merged_into</th>\n",
       "      <th>merged_date</th>\n",
       "      <th>cow_indep_date</th>\n",
       "      <th>gw_indep_date</th>\n",
       "      <th>notes</th>\n",
       "      <th>colonizer_name</th>\n",
       "      <th>indep_from_name</th>\n",
       "      <th>secession_from_name</th>\n",
       "      <th>merged_into_name</th>\n",
       "    </tr>\n",
       "  </thead>\n",
       "  <tbody>\n",
       "    <tr>\n",
       "      <th>47</th>\n",
       "      <td>240</td>\n",
       "      <td>Hanover</td>\n",
       "      <td>-9</td>\n",
       "      <td>-9</td>\n",
       "      <td>181410</td>\n",
       "      <td>1</td>\n",
       "      <td>1</td>\n",
       "      <td>-9</td>\n",
       "      <td>-9</td>\n",
       "      <td>-9</td>\n",
       "      <td>255</td>\n",
       "      <td>186607</td>\n",
       "      <td>183706</td>\n",
       "      <td>181601</td>\n",
       "      <td>Merged into unified Germany</td>\n",
       "      <td>NaN</td>\n",
       "      <td>NaN</td>\n",
       "      <td>NaN</td>\n",
       "      <td>Germany</td>\n",
       "    </tr>\n",
       "    <tr>\n",
       "      <th>48</th>\n",
       "      <td>245</td>\n",
       "      <td>Bavaria</td>\n",
       "      <td>-9</td>\n",
       "      <td>-9</td>\n",
       "      <td>150507</td>\n",
       "      <td>1</td>\n",
       "      <td>1</td>\n",
       "      <td>-9</td>\n",
       "      <td>-9</td>\n",
       "      <td>-9</td>\n",
       "      <td>255</td>\n",
       "      <td>187101</td>\n",
       "      <td>181601</td>\n",
       "      <td>181601</td>\n",
       "      <td>Merged into unified Germany</td>\n",
       "      <td>NaN</td>\n",
       "      <td>NaN</td>\n",
       "      <td>NaN</td>\n",
       "      <td>Germany</td>\n",
       "    </tr>\n",
       "    <tr>\n",
       "      <th>52</th>\n",
       "      <td>267</td>\n",
       "      <td>Baden</td>\n",
       "      <td>-9</td>\n",
       "      <td>-9</td>\n",
       "      <td>177110</td>\n",
       "      <td>0</td>\n",
       "      <td>1</td>\n",
       "      <td>-9</td>\n",
       "      <td>-9</td>\n",
       "      <td>-9</td>\n",
       "      <td>255</td>\n",
       "      <td>187012</td>\n",
       "      <td>181601</td>\n",
       "      <td>181601</td>\n",
       "      <td>Merged into unified Germany</td>\n",
       "      <td>NaN</td>\n",
       "      <td>NaN</td>\n",
       "      <td>NaN</td>\n",
       "      <td>Germany</td>\n",
       "    </tr>\n",
       "    <tr>\n",
       "      <th>53</th>\n",
       "      <td>269</td>\n",
       "      <td>Saxony</td>\n",
       "      <td>-9</td>\n",
       "      <td>-9</td>\n",
       "      <td>180612</td>\n",
       "      <td>1</td>\n",
       "      <td>4</td>\n",
       "      <td>-9</td>\n",
       "      <td>-9</td>\n",
       "      <td>-9</td>\n",
       "      <td>255</td>\n",
       "      <td>186704</td>\n",
       "      <td>181601</td>\n",
       "      <td>181601</td>\n",
       "      <td>Formed by Napoleonic partition of Holy Roman E...</td>\n",
       "      <td>NaN</td>\n",
       "      <td>NaN</td>\n",
       "      <td>NaN</td>\n",
       "      <td>Germany</td>\n",
       "    </tr>\n",
       "    <tr>\n",
       "      <th>54</th>\n",
       "      <td>271</td>\n",
       "      <td>Wuerttemburg</td>\n",
       "      <td>-9</td>\n",
       "      <td>-9</td>\n",
       "      <td>180601</td>\n",
       "      <td>1</td>\n",
       "      <td>4</td>\n",
       "      <td>-9</td>\n",
       "      <td>-9</td>\n",
       "      <td>-9</td>\n",
       "      <td>255</td>\n",
       "      <td>187012</td>\n",
       "      <td>181601</td>\n",
       "      <td>181601</td>\n",
       "      <td>Formed by Napoleonic partition of Holy Roman E...</td>\n",
       "      <td>NaN</td>\n",
       "      <td>NaN</td>\n",
       "      <td>NaN</td>\n",
       "      <td>Germany</td>\n",
       "    </tr>\n",
       "    <tr>\n",
       "      <th>55</th>\n",
       "      <td>273</td>\n",
       "      <td>Hesse - Kassel/Cassel (Hesse Electoral)</td>\n",
       "      <td>-9</td>\n",
       "      <td>-9</td>\n",
       "      <td>180608</td>\n",
       "      <td>1</td>\n",
       "      <td>4</td>\n",
       "      <td>-9</td>\n",
       "      <td>-9</td>\n",
       "      <td>-9</td>\n",
       "      <td>255</td>\n",
       "      <td>186607</td>\n",
       "      <td>181601</td>\n",
       "      <td>181601</td>\n",
       "      <td>Formed by Napoleonic partition of Holy Roman E...</td>\n",
       "      <td>NaN</td>\n",
       "      <td>NaN</td>\n",
       "      <td>NaN</td>\n",
       "      <td>Germany</td>\n",
       "    </tr>\n",
       "    <tr>\n",
       "      <th>56</th>\n",
       "      <td>275</td>\n",
       "      <td>Hesse - Darmstadt (Hesse Grand Ducal)</td>\n",
       "      <td>-9</td>\n",
       "      <td>-9</td>\n",
       "      <td>180608</td>\n",
       "      <td>1</td>\n",
       "      <td>4</td>\n",
       "      <td>-9</td>\n",
       "      <td>-9</td>\n",
       "      <td>-9</td>\n",
       "      <td>255</td>\n",
       "      <td>186704</td>\n",
       "      <td>181601</td>\n",
       "      <td>181601</td>\n",
       "      <td>Formed by Napoleonic partition of Holy Roman E...</td>\n",
       "      <td>NaN</td>\n",
       "      <td>NaN</td>\n",
       "      <td>NaN</td>\n",
       "      <td>Germany</td>\n",
       "    </tr>\n",
       "    <tr>\n",
       "      <th>57</th>\n",
       "      <td>280</td>\n",
       "      <td>Mecklenburg-Schwerin</td>\n",
       "      <td>-9</td>\n",
       "      <td>-9</td>\n",
       "      <td>162100</td>\n",
       "      <td>0</td>\n",
       "      <td>1</td>\n",
       "      <td>-9</td>\n",
       "      <td>-9</td>\n",
       "      <td>-9</td>\n",
       "      <td>255</td>\n",
       "      <td>186704</td>\n",
       "      <td>184301</td>\n",
       "      <td>181601</td>\n",
       "      <td>Merged into unified Germany</td>\n",
       "      <td>NaN</td>\n",
       "      <td>NaN</td>\n",
       "      <td>NaN</td>\n",
       "      <td>Germany</td>\n",
       "    </tr>\n",
       "    <tr>\n",
       "      <th>66</th>\n",
       "      <td>327</td>\n",
       "      <td>Papal States</td>\n",
       "      <td>-9</td>\n",
       "      <td>-9</td>\n",
       "      <td>150300</td>\n",
       "      <td>1</td>\n",
       "      <td>1</td>\n",
       "      <td>-9</td>\n",
       "      <td>-9</td>\n",
       "      <td>-9</td>\n",
       "      <td>325</td>\n",
       "      <td>186011</td>\n",
       "      <td>181601</td>\n",
       "      <td>181601</td>\n",
       "      <td>Merged into unified Italy</td>\n",
       "      <td>NaN</td>\n",
       "      <td>NaN</td>\n",
       "      <td>NaN</td>\n",
       "      <td>Italy</td>\n",
       "    </tr>\n",
       "    <tr>\n",
       "      <th>67</th>\n",
       "      <td>329</td>\n",
       "      <td>Two Sicilies</td>\n",
       "      <td>-9</td>\n",
       "      <td>-9</td>\n",
       "      <td>173400</td>\n",
       "      <td>1</td>\n",
       "      <td>1</td>\n",
       "      <td>-9</td>\n",
       "      <td>-9</td>\n",
       "      <td>-9</td>\n",
       "      <td>325</td>\n",
       "      <td>186102</td>\n",
       "      <td>181601</td>\n",
       "      <td>181601</td>\n",
       "      <td>Merged into unified Italy</td>\n",
       "      <td>NaN</td>\n",
       "      <td>NaN</td>\n",
       "      <td>NaN</td>\n",
       "      <td>Italy</td>\n",
       "    </tr>\n",
       "    <tr>\n",
       "      <th>69</th>\n",
       "      <td>332</td>\n",
       "      <td>Modena</td>\n",
       "      <td>-9</td>\n",
       "      <td>-9</td>\n",
       "      <td>145205</td>\n",
       "      <td>0</td>\n",
       "      <td>1</td>\n",
       "      <td>-9</td>\n",
       "      <td>-9</td>\n",
       "      <td>-9</td>\n",
       "      <td>325</td>\n",
       "      <td>186003</td>\n",
       "      <td>184201</td>\n",
       "      <td>181601</td>\n",
       "      <td>Merged into unified Italy</td>\n",
       "      <td>NaN</td>\n",
       "      <td>NaN</td>\n",
       "      <td>NaN</td>\n",
       "      <td>Italy</td>\n",
       "    </tr>\n",
       "    <tr>\n",
       "      <th>70</th>\n",
       "      <td>335</td>\n",
       "      <td>Parma</td>\n",
       "      <td>-9</td>\n",
       "      <td>-9</td>\n",
       "      <td>154509</td>\n",
       "      <td>0</td>\n",
       "      <td>1</td>\n",
       "      <td>-9</td>\n",
       "      <td>-9</td>\n",
       "      <td>-9</td>\n",
       "      <td>325</td>\n",
       "      <td>186003</td>\n",
       "      <td>185101</td>\n",
       "      <td>181601</td>\n",
       "      <td>Merged into unified Italy</td>\n",
       "      <td>NaN</td>\n",
       "      <td>NaN</td>\n",
       "      <td>NaN</td>\n",
       "      <td>Italy</td>\n",
       "    </tr>\n",
       "    <tr>\n",
       "      <th>71</th>\n",
       "      <td>337</td>\n",
       "      <td>Tuscany</td>\n",
       "      <td>-9</td>\n",
       "      <td>-9</td>\n",
       "      <td>156908</td>\n",
       "      <td>0</td>\n",
       "      <td>1</td>\n",
       "      <td>-9</td>\n",
       "      <td>-9</td>\n",
       "      <td>-9</td>\n",
       "      <td>325</td>\n",
       "      <td>186003</td>\n",
       "      <td>181601</td>\n",
       "      <td>181601</td>\n",
       "      <td>Merged into unified Italy</td>\n",
       "      <td>NaN</td>\n",
       "      <td>NaN</td>\n",
       "      <td>NaN</td>\n",
       "      <td>Italy</td>\n",
       "    </tr>\n",
       "    <tr>\n",
       "      <th>148</th>\n",
       "      <td>600</td>\n",
       "      <td>Morocco</td>\n",
       "      <td>220</td>\n",
       "      <td>-9</td>\n",
       "      <td>166606</td>\n",
       "      <td>1</td>\n",
       "      <td>1</td>\n",
       "      <td>-9</td>\n",
       "      <td>-9</td>\n",
       "      <td>-9</td>\n",
       "      <td>-9</td>\n",
       "      <td>-9</td>\n",
       "      <td>184701</td>\n",
       "      <td>181601</td>\n",
       "      <td>Independence interrupted by 1911-56 French occ...</td>\n",
       "      <td>France</td>\n",
       "      <td>NaN</td>\n",
       "      <td>NaN</td>\n",
       "      <td>NaN</td>\n",
       "    </tr>\n",
       "    <tr>\n",
       "      <th>162</th>\n",
       "      <td>670</td>\n",
       "      <td>Saudi Arabia</td>\n",
       "      <td>640</td>\n",
       "      <td>-9</td>\n",
       "      <td>192601</td>\n",
       "      <td>1</td>\n",
       "      <td>1</td>\n",
       "      <td>-9</td>\n",
       "      <td>-9</td>\n",
       "      <td>-9</td>\n",
       "      <td>-9</td>\n",
       "      <td>-9</td>\n",
       "      <td>192705</td>\n",
       "      <td>193209</td>\n",
       "      <td>Created by Ibn Saud 1927; united Hejaz (freed ...</td>\n",
       "      <td>Turkey</td>\n",
       "      <td>NaN</td>\n",
       "      <td>NaN</td>\n",
       "      <td>NaN</td>\n",
       "    </tr>\n",
       "  </tbody>\n",
       "</table>\n",
       "</div>"
      ],
      "text/plain": [
       "     country_code                                  country  colonizer  \\\n",
       "47            240                                  Hanover         -9   \n",
       "48            245                                  Bavaria         -9   \n",
       "52            267                                    Baden         -9   \n",
       "53            269                                   Saxony         -9   \n",
       "54            271                             Wuerttemburg         -9   \n",
       "55            273  Hesse - Kassel/Cassel (Hesse Electoral)         -9   \n",
       "56            275    Hesse - Darmstadt (Hesse Grand Ducal)         -9   \n",
       "57            280                     Mecklenburg-Schwerin         -9   \n",
       "66            327                             Papal States         -9   \n",
       "67            329                             Two Sicilies         -9   \n",
       "69            332                                   Modena         -9   \n",
       "70            335                                    Parma         -9   \n",
       "71            337                                  Tuscany         -9   \n",
       "148           600                                  Morocco        220   \n",
       "162           670                             Saudi Arabia        640   \n",
       "\n",
       "     indep_from  indep_date  indep_violent  indep_type  secession_from  \\\n",
       "47           -9      181410              1           1              -9   \n",
       "48           -9      150507              1           1              -9   \n",
       "52           -9      177110              0           1              -9   \n",
       "53           -9      180612              1           4              -9   \n",
       "54           -9      180601              1           4              -9   \n",
       "55           -9      180608              1           4              -9   \n",
       "56           -9      180608              1           4              -9   \n",
       "57           -9      162100              0           1              -9   \n",
       "66           -9      150300              1           1              -9   \n",
       "67           -9      173400              1           1              -9   \n",
       "69           -9      145205              0           1              -9   \n",
       "70           -9      154509              0           1              -9   \n",
       "71           -9      156908              0           1              -9   \n",
       "148          -9      166606              1           1              -9   \n",
       "162          -9      192601              1           1              -9   \n",
       "\n",
       "     secession_date  secession_violent  merged_into  merged_date  \\\n",
       "47               -9                 -9          255       186607   \n",
       "48               -9                 -9          255       187101   \n",
       "52               -9                 -9          255       187012   \n",
       "53               -9                 -9          255       186704   \n",
       "54               -9                 -9          255       187012   \n",
       "55               -9                 -9          255       186607   \n",
       "56               -9                 -9          255       186704   \n",
       "57               -9                 -9          255       186704   \n",
       "66               -9                 -9          325       186011   \n",
       "67               -9                 -9          325       186102   \n",
       "69               -9                 -9          325       186003   \n",
       "70               -9                 -9          325       186003   \n",
       "71               -9                 -9          325       186003   \n",
       "148              -9                 -9           -9           -9   \n",
       "162              -9                 -9           -9           -9   \n",
       "\n",
       "     cow_indep_date  gw_indep_date  \\\n",
       "47           183706         181601   \n",
       "48           181601         181601   \n",
       "52           181601         181601   \n",
       "53           181601         181601   \n",
       "54           181601         181601   \n",
       "55           181601         181601   \n",
       "56           181601         181601   \n",
       "57           184301         181601   \n",
       "66           181601         181601   \n",
       "67           181601         181601   \n",
       "69           184201         181601   \n",
       "70           185101         181601   \n",
       "71           181601         181601   \n",
       "148          184701         181601   \n",
       "162          192705         193209   \n",
       "\n",
       "                                                 notes colonizer_name  \\\n",
       "47                         Merged into unified Germany            NaN   \n",
       "48                         Merged into unified Germany            NaN   \n",
       "52                         Merged into unified Germany            NaN   \n",
       "53   Formed by Napoleonic partition of Holy Roman E...            NaN   \n",
       "54   Formed by Napoleonic partition of Holy Roman E...            NaN   \n",
       "55   Formed by Napoleonic partition of Holy Roman E...            NaN   \n",
       "56   Formed by Napoleonic partition of Holy Roman E...            NaN   \n",
       "57                         Merged into unified Germany            NaN   \n",
       "66                           Merged into unified Italy            NaN   \n",
       "67                           Merged into unified Italy            NaN   \n",
       "69                           Merged into unified Italy            NaN   \n",
       "70                           Merged into unified Italy            NaN   \n",
       "71                           Merged into unified Italy            NaN   \n",
       "148  Independence interrupted by 1911-56 French occ...         France   \n",
       "162  Created by Ibn Saud 1927; united Hejaz (freed ...         Turkey   \n",
       "\n",
       "    indep_from_name secession_from_name merged_into_name  \n",
       "47              NaN                 NaN          Germany  \n",
       "48              NaN                 NaN          Germany  \n",
       "52              NaN                 NaN          Germany  \n",
       "53              NaN                 NaN          Germany  \n",
       "54              NaN                 NaN          Germany  \n",
       "55              NaN                 NaN          Germany  \n",
       "56              NaN                 NaN          Germany  \n",
       "57              NaN                 NaN          Germany  \n",
       "66              NaN                 NaN            Italy  \n",
       "67              NaN                 NaN            Italy  \n",
       "69              NaN                 NaN            Italy  \n",
       "70              NaN                 NaN            Italy  \n",
       "71              NaN                 NaN            Italy  \n",
       "148             NaN                 NaN              NaN  \n",
       "162             NaN                 NaN              NaN  "
      ]
     },
     "execution_count": 19,
     "metadata": {},
     "output_type": "execute_result"
    }
   ],
   "source": [
    "icow[ icow['indep_from_name'].isnull() ]"
   ]
  },
  {
   "cell_type": "markdown",
   "metadata": {},
   "source": [
    "### 2) Convert date columns to datetime\n",
    "\n",
    "Convert `indep_date`, `secession_date`, `merged_date`, `cow_indep_date`, and `gw_indep_date` from int to Time Period. \n",
    "\n",
    "**Note to future me**: I originally attempted a conversion to datetime, but datetime has a limitation to dates between 1677-09-21 and 2262-04-11. A few values fall outside of this range, therefore the workaround found <a href='https://pandas.pydata.org/pandas-docs/stable/user_guide/timeseries.html#timeseries-oob' target='_new'>here</a> was used. This caused the following problem: <a href='https://stackoverflow.com/questions/58019763/jupyter-kernel-crash-when-querying-dataframe-with-period-datatype' target='_new'>Jupyter kernel crash when querying dataframe with Period datatype</a>. \n",
    "\n",
    "*Solution:* The error was caused by -9 in the `gw_indep_date` column. While the conversion to Period didn't fail, it somehow corrupted the dataframe, making queries impossible. By setting -9 dates to 000101 prior to conversion, a valid Period of 0001-01-01 is obtained and the dataframe functions properly.\n",
    "\n",
    "#### Code"
   ]
  },
  {
   "cell_type": "code",
   "execution_count": 20,
   "metadata": {},
   "outputs": [],
   "source": [
    "# Conversion function to create Time Period, copied without modification from Pandas documentation linked in the cell above\n",
    "def conv(x):\n",
    "    return pd.Period( year=x // 10000, month=x // 100 % 100, day=x % 100, freq='D' )\n",
    "\n",
    "# -9 entries in date columns cause problems with the dataframe after conversion to Period\n",
    "# This sets them to a valid far past date of 000101\n",
    "def fix_dates(x):\n",
    "    return '000101' if x == -9 else x"
   ]
  },
  {
   "cell_type": "code",
   "execution_count": 21,
   "metadata": {},
   "outputs": [],
   "source": [
    "# Convert string representations of date to Time Period\n",
    "# First, apply fix_dates function to each column to ensure missing data converts properly (-9 in the original dataset)\n",
    "# Then append '01' to create format YYYYMMDD (dataset contains only YYYYMM), then apply conversion function\n",
    "columns = ['indep_date','secession_date','merged_date','cow_indep_date','gw_indep_date']\n",
    "for column in columns:\n",
    "    icow[column] = icow[column].apply(fix_dates)\n",
    "    icow[column] = ( icow[column].astype('str') + '01' ).astype('int').apply(conv)"
   ]
  },
  {
   "cell_type": "markdown",
   "metadata": {},
   "source": [
    "#### Test"
   ]
  },
  {
   "cell_type": "code",
   "execution_count": 22,
   "metadata": {},
   "outputs": [
    {
     "name": "stdout",
     "output_type": "stream",
     "text": [
      "<class 'pandas.core.frame.DataFrame'>\n",
      "Int64Index: 193 entries, 0 to 216\n",
      "Data columns (total 19 columns):\n",
      "country_code           193 non-null int64\n",
      "country                193 non-null object\n",
      "colonizer              193 non-null int64\n",
      "indep_from             193 non-null int64\n",
      "indep_date             193 non-null period[D]\n",
      "indep_violent          193 non-null int64\n",
      "indep_type             193 non-null int64\n",
      "secession_from         193 non-null int64\n",
      "secession_date         193 non-null period[D]\n",
      "secession_violent      193 non-null int64\n",
      "merged_into            193 non-null int64\n",
      "merged_date            193 non-null period[D]\n",
      "cow_indep_date         193 non-null period[D]\n",
      "gw_indep_date          193 non-null period[D]\n",
      "notes                  193 non-null object\n",
      "colonizer_name         171 non-null object\n",
      "indep_from_name        178 non-null object\n",
      "secession_from_name    33 non-null object\n",
      "merged_into_name       19 non-null object\n",
      "dtypes: int64(8), object(6), period[D](5)\n",
      "memory usage: 35.2+ KB\n"
     ]
    }
   ],
   "source": [
    "icow.info()"
   ]
  },
  {
   "cell_type": "code",
   "execution_count": 23,
   "metadata": {},
   "outputs": [
    {
     "data": {
      "text/html": [
       "<div>\n",
       "<style scoped>\n",
       "    .dataframe tbody tr th:only-of-type {\n",
       "        vertical-align: middle;\n",
       "    }\n",
       "\n",
       "    .dataframe tbody tr th {\n",
       "        vertical-align: top;\n",
       "    }\n",
       "\n",
       "    .dataframe thead th {\n",
       "        text-align: right;\n",
       "    }\n",
       "</style>\n",
       "<table border=\"1\" class=\"dataframe\">\n",
       "  <thead>\n",
       "    <tr style=\"text-align: right;\">\n",
       "      <th></th>\n",
       "      <th>country</th>\n",
       "      <th>indep_date</th>\n",
       "      <th>cow_indep_date</th>\n",
       "      <th>gw_indep_date</th>\n",
       "    </tr>\n",
       "  </thead>\n",
       "  <tbody>\n",
       "    <tr>\n",
       "      <th>148</th>\n",
       "      <td>Morocco</td>\n",
       "      <td>1666-06-01</td>\n",
       "      <td>1847-01-01</td>\n",
       "      <td>1816-01-01</td>\n",
       "    </tr>\n",
       "    <tr>\n",
       "      <th>150</th>\n",
       "      <td>Tunisia</td>\n",
       "      <td>1591-01-01</td>\n",
       "      <td>1825-01-01</td>\n",
       "      <td>1816-01-01</td>\n",
       "    </tr>\n",
       "    <tr>\n",
       "      <th>170</th>\n",
       "      <td>Oman</td>\n",
       "      <td>1741-01-01</td>\n",
       "      <td>1971-10-01</td>\n",
       "      <td>1816-01-01</td>\n",
       "    </tr>\n",
       "  </tbody>\n",
       "</table>\n",
       "</div>"
      ],
      "text/plain": [
       "     country  indep_date cow_indep_date gw_indep_date\n",
       "148  Morocco  1666-06-01     1847-01-01    1816-01-01\n",
       "150  Tunisia  1591-01-01     1825-01-01    1816-01-01\n",
       "170     Oman  1741-01-01     1971-10-01    1816-01-01"
      ]
     },
     "execution_count": 23,
     "metadata": {},
     "output_type": "execute_result"
    }
   ],
   "source": [
    "# Check the three entries that failed when attempting conversion to datetime\n",
    "icow[ icow.index.isin( [148,150,170] ) ][['country','indep_date','cow_indep_date','gw_indep_date']]"
   ]
  },
  {
   "cell_type": "markdown",
   "metadata": {},
   "source": [
    "<a id='assess3'></a>\n",
    "## Assess, Part 3"
   ]
  },
  {
   "cell_type": "code",
   "execution_count": 24,
   "metadata": {
    "scrolled": true
   },
   "outputs": [
    {
     "data": {
      "text/plain": [
       " 200    62\n",
       " 220    25\n",
       "-9      22\n",
       " 640    21\n",
       " 230    20\n",
       " 365    12\n",
       " 235     8\n",
       " 300     5\n",
       " 210     4\n",
       " 2       3\n",
       " 211     3\n",
       " 325     2\n",
       " 740     2\n",
       " 255     1\n",
       " 900     1\n",
       " 920     1\n",
       " 710     1\n",
       "Name: colonizer, dtype: int64"
      ]
     },
     "execution_count": 24,
     "metadata": {},
     "output_type": "execute_result"
    }
   ],
   "source": [
    "icow['colonizer'].value_counts()"
   ]
  },
  {
   "cell_type": "code",
   "execution_count": 25,
   "metadata": {
    "scrolled": true
   },
   "outputs": [
    {
     "data": {
      "text/plain": [
       " 200    59\n",
       " 220    25\n",
       "-9      15\n",
       " 365    15\n",
       " 640     9\n",
       " 230     9\n",
       " 235     6\n",
       " 345     6\n",
       " 2       5\n",
       " 89      5\n",
       " 210     4\n",
       " 300     3\n",
       " 100     3\n",
       " 255     3\n",
       " 211     3\n",
       " 900     2\n",
       " 730     2\n",
       " 315     2\n",
       " 710     2\n",
       " 390     1\n",
       " 530     1\n",
       " 41      1\n",
       " 560     1\n",
       " 820     1\n",
       " 325     1\n",
       " 850     1\n",
       " 432     1\n",
       " 678     1\n",
       " 920     1\n",
       " 625     1\n",
       " 770     1\n",
       " 750     1\n",
       " 140     1\n",
       " 380     1\n",
       "Name: indep_from, dtype: int64"
      ]
     },
     "execution_count": 25,
     "metadata": {},
     "output_type": "execute_result"
    }
   ],
   "source": [
    "icow['indep_from'].value_counts()"
   ]
  },
  {
   "cell_type": "code",
   "execution_count": 26,
   "metadata": {},
   "outputs": [
    {
     "data": {
      "text/plain": [
       "-9      155\n",
       " 345      6\n",
       " 89       5\n",
       " 365      3\n",
       " 100      3\n",
       " 210      2\n",
       " 300      2\n",
       " 315      2\n",
       " 255      2\n",
       " 380      1\n",
       " 625      1\n",
       " 390      1\n",
       " 651      1\n",
       " 140      1\n",
       " 145      1\n",
       " 432      1\n",
       " 820      1\n",
       " 710      1\n",
       " 41       1\n",
       " 530      1\n",
       " 200      1\n",
       " 770      1\n",
       "Name: secession_from, dtype: int64"
      ]
     },
     "execution_count": 26,
     "metadata": {},
     "output_type": "execute_result"
    }
   ],
   "source": [
    "icow['secession_from'].value_counts()"
   ]
  },
  {
   "cell_type": "code",
   "execution_count": 27,
   "metadata": {
    "scrolled": true
   },
   "outputs": [
    {
     "data": {
      "text/plain": [
       "-9      174\n",
       " 255     10\n",
       " 325      5\n",
       " 679      2\n",
       " 510      1\n",
       " 816      1\n",
       "Name: merged_into, dtype: int64"
      ]
     },
     "execution_count": 27,
     "metadata": {},
     "output_type": "execute_result"
    }
   ],
   "source": [
    "icow['merged_into'].value_counts()"
   ]
  },
  {
   "cell_type": "markdown",
   "metadata": {},
   "source": [
    "### Issues Found\n",
    "`1)` Numerous -9 values found in `colonizer`, `indep_from`, `secession_from`, and `merged_into` columns. Split into 4 datasets, one dataset for each of the four columns where the value is not -9. "
   ]
  },
  {
   "cell_type": "markdown",
   "metadata": {},
   "source": [
    "<a id='clean3'></a>\n",
    "## Clean, Part 3\n",
    "\n",
    "### 1) Split into 4 datasets\n",
    "Create a dataset each for colonized countries, countries that declared independence, countries that seceded, and countries that merged into another. To populate these datasets, get all values that are not -9 from the corresponding columns: `colonizer`, `indep_from`, `secession_from`, `merged_into`\n",
    "\n",
    "#### Code"
   ]
  },
  {
   "cell_type": "code",
   "execution_count": 28,
   "metadata": {},
   "outputs": [
    {
     "data": {
      "text/plain": [
       "(171, 19)"
      ]
     },
     "execution_count": 28,
     "metadata": {},
     "output_type": "execute_result"
    }
   ],
   "source": [
    "colonized = icow.query( 'colonizer != -9' ).copy()\n",
    "colonized.shape"
   ]
  },
  {
   "cell_type": "code",
   "execution_count": 29,
   "metadata": {},
   "outputs": [
    {
     "data": {
      "text/plain": [
       "(178, 19)"
      ]
     },
     "execution_count": 29,
     "metadata": {},
     "output_type": "execute_result"
    }
   ],
   "source": [
    "independence = icow.query( 'indep_from != -9' ).copy()\n",
    "independence.shape"
   ]
  },
  {
   "cell_type": "code",
   "execution_count": 30,
   "metadata": {},
   "outputs": [
    {
     "data": {
      "text/plain": [
       "(38, 19)"
      ]
     },
     "execution_count": 30,
     "metadata": {},
     "output_type": "execute_result"
    }
   ],
   "source": [
    "seceded = icow.query( 'secession_from != -9' ).copy()\n",
    "seceded.shape"
   ]
  },
  {
   "cell_type": "code",
   "execution_count": 31,
   "metadata": {},
   "outputs": [
    {
     "data": {
      "text/plain": [
       "(19, 19)"
      ]
     },
     "execution_count": 31,
     "metadata": {},
     "output_type": "execute_result"
    }
   ],
   "source": [
    "merged = icow.query( 'merged_into != -9' ).copy()\n",
    "merged.shape"
   ]
  },
  {
   "cell_type": "markdown",
   "metadata": {},
   "source": [
    "#### Test"
   ]
  },
  {
   "cell_type": "code",
   "execution_count": 32,
   "metadata": {
    "scrolled": false
   },
   "outputs": [
    {
     "data": {
      "text/plain": [
       "200    62\n",
       "220    25\n",
       "640    21\n",
       "230    20\n",
       "365    12\n",
       "235     8\n",
       "300     5\n",
       "210     4\n",
       "211     3\n",
       "2       3\n",
       "740     2\n",
       "325     2\n",
       "255     1\n",
       "710     1\n",
       "920     1\n",
       "900     1\n",
       "Name: colonizer, dtype: int64"
      ]
     },
     "execution_count": 32,
     "metadata": {},
     "output_type": "execute_result"
    }
   ],
   "source": [
    "colonized['colonizer'].value_counts()"
   ]
  },
  {
   "cell_type": "code",
   "execution_count": 33,
   "metadata": {
    "scrolled": true
   },
   "outputs": [
    {
     "data": {
      "text/plain": [
       "200    59\n",
       "220    25\n",
       "365    15\n",
       "640     9\n",
       "230     9\n",
       "235     6\n",
       "345     6\n",
       "89      5\n",
       "2       5\n",
       "210     4\n",
       "100     3\n",
       "300     3\n",
       "211     3\n",
       "255     3\n",
       "710     2\n",
       "315     2\n",
       "730     2\n",
       "900     2\n",
       "325     1\n",
       "530     1\n",
       "41      1\n",
       "678     1\n",
       "560     1\n",
       "820     1\n",
       "390     1\n",
       "920     1\n",
       "432     1\n",
       "140     1\n",
       "625     1\n",
       "770     1\n",
       "380     1\n",
       "750     1\n",
       "850     1\n",
       "Name: indep_from, dtype: int64"
      ]
     },
     "execution_count": 33,
     "metadata": {},
     "output_type": "execute_result"
    }
   ],
   "source": [
    "independence['indep_from'].value_counts()"
   ]
  },
  {
   "cell_type": "code",
   "execution_count": 34,
   "metadata": {
    "scrolled": true
   },
   "outputs": [
    {
     "data": {
      "text/plain": [
       "345    6\n",
       "89     5\n",
       "365    3\n",
       "100    3\n",
       "255    2\n",
       "210    2\n",
       "315    2\n",
       "300    2\n",
       "390    1\n",
       "200    1\n",
       "380    1\n",
       "140    1\n",
       "145    1\n",
       "530    1\n",
       "651    1\n",
       "41     1\n",
       "710    1\n",
       "432    1\n",
       "625    1\n",
       "820    1\n",
       "770    1\n",
       "Name: secession_from, dtype: int64"
      ]
     },
     "execution_count": 34,
     "metadata": {},
     "output_type": "execute_result"
    }
   ],
   "source": [
    "seceded['secession_from'].value_counts()"
   ]
  },
  {
   "cell_type": "code",
   "execution_count": 35,
   "metadata": {},
   "outputs": [
    {
     "data": {
      "text/plain": [
       "255    10\n",
       "325     5\n",
       "679     2\n",
       "510     1\n",
       "816     1\n",
       "Name: merged_into, dtype: int64"
      ]
     },
     "execution_count": 35,
     "metadata": {},
     "output_type": "execute_result"
    }
   ],
   "source": [
    "merged['merged_into'].value_counts()"
   ]
  },
  {
   "cell_type": "code",
   "execution_count": null,
   "metadata": {},
   "outputs": [],
   "source": []
  },
  {
   "cell_type": "code",
   "execution_count": null,
   "metadata": {},
   "outputs": [],
   "source": []
  },
  {
   "cell_type": "code",
   "execution_count": null,
   "metadata": {},
   "outputs": [],
   "source": []
  },
  {
   "cell_type": "code",
   "execution_count": null,
   "metadata": {},
   "outputs": [],
   "source": []
  },
  {
   "cell_type": "code",
   "execution_count": null,
   "metadata": {},
   "outputs": [],
   "source": []
  },
  {
   "cell_type": "code",
   "execution_count": null,
   "metadata": {},
   "outputs": [],
   "source": []
  },
  {
   "cell_type": "markdown",
   "metadata": {},
   "source": [
    "<a id='references'></a>\n",
    "## References\n",
    "\n",
    "<li>Paul R. Hensel (2018). \"ICOW Colonial History Data Set, version 1.1.\" Available at <a href='http://www.paulhensel.org/icowcol.html' target='_new'>http://www.paulhensel.org/icowcol.html</a></li>\n",
    "<li><a href='http://www.correlatesofwar.org/data-sets/downloadable-files/cow-country-codes' target='_new'>Correlates of War country codes</a></li>"
   ]
  }
 ],
 "metadata": {
  "kernelspec": {
   "display_name": "Python 3",
   "language": "python",
   "name": "python3"
  },
  "language_info": {
   "codemirror_mode": {
    "name": "ipython",
    "version": 3
   },
   "file_extension": ".py",
   "mimetype": "text/x-python",
   "name": "python",
   "nbconvert_exporter": "python",
   "pygments_lexer": "ipython3",
   "version": "3.7.3"
  }
 },
 "nbformat": 4,
 "nbformat_minor": 2
}
