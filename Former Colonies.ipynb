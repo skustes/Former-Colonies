{
 "cells": [
  {
   "cell_type": "code",
   "execution_count": 44,
   "metadata": {},
   "outputs": [],
   "source": [
    "from bs4 import BeautifulSoup\n",
    "import requests\n",
    "import pandas as pd\n",
    "\n",
    "# Import the page\n",
    "url = 'https://en.wikipedia.org/wiki/List_of_countries_that_have_gained_independence_from_the_United_Kingdom'\n",
    "page = requests.get( url )\n",
    "soup = BeautifulSoup( page.text, 'html.parser' )"
   ]
  },
  {
   "cell_type": "code",
   "execution_count": 61,
   "metadata": {
    "scrolled": true
   },
   "outputs": [
    {
     "name": "stdout",
     "output_type": "stream",
     "text": [
      "<tr>\n",
      "<th>Country</th>\n",
      "<th>Date</th>\n",
      "<th>Year of Independence</th>\n",
      "<th>Notes\n",
      "</th></tr>\n"
     ]
    }
   ],
   "source": [
    "# Get all of the tables on this page\n",
    "tables = soup.find_all( class_='wikitable' )\n",
    "\n",
    "# Get the first table on the page\n",
    "# Additional tables in indices 1-8\n",
    "colonies = tables[0].find( 'tbody' ).find_all( 'tr' )\n",
    "colonies_data = []\n",
    "\n",
    "# Loop through the colonies, gathering the data held in each table cell ('td') into an array\n",
    "# Grab the values in the first \n",
    "for colony in colonies:\n",
    "    \n",
    "    cols = row.find_all('td')\n",
    "    cols = [ele.text.strip() for ele in cols]\n",
    "    data.append([ele for ele in cols if ele]) # Get rid of empty values"
   ]
  },
  {
   "cell_type": "code",
   "execution_count": null,
   "metadata": {},
   "outputs": [],
   "source": [
    "table_body = table.find('tbody')\n",
    "\n",
    "rows = table_body.find_all('tr')\n",
    "for row in rows:\n",
    "    cols = row.find_all('td')\n",
    "    cols = [ele.text.strip() for ele in cols]\n",
    "    data.append([ele for ele in cols if ele]) # Get rid of empty values"
   ]
  }
 ],
 "metadata": {
  "kernelspec": {
   "display_name": "Python 3",
   "language": "python",
   "name": "python3"
  },
  "language_info": {
   "codemirror_mode": {
    "name": "ipython",
    "version": 3
   },
   "file_extension": ".py",
   "mimetype": "text/x-python",
   "name": "python",
   "nbconvert_exporter": "python",
   "pygments_lexer": "ipython3",
   "version": "3.7.3"
  }
 },
 "nbformat": 4,
 "nbformat_minor": 2
}
