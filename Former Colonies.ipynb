{
 "cells": [
  {
   "cell_type": "markdown",
   "metadata": {},
   "source": [
    "# Wrangling Former Colonies\n",
    "## By: Scott Kustes\n",
    "\n",
    "### Objective:\n",
    "Wrangle a list of former colonies, their colonizers, year of colonization, and year of independence.\n",
    "\n",
    "#### Dataset:\n",
    "The dataset was gathered by scraping information from Wikipedia pages using BeautifulSoup.  The following URLs were scraped:\n",
    "- British Colonies: https://en.wikipedia.org/wiki/List_of_countries_that_have_gained_independence_from_the_United_Kingdom\n",
    "\n",
    "#### Contents\n",
    "<ul>\n",
    "    <li><a href='#gather'>Data Gathering</a>\n",
    "        <ul>\n",
    "            <li><a href='#gather-uk'>United Kingdom</a></li>\n",
    "        </ul>\n",
    "    </li>\n",
    "    <li><a href='#assess'>Assess</a>\n",
    "        <ul>\n",
    "            <li><a href='#assess-uk'>United Kingdom</a></li>\n",
    "        </ul>\n",
    "    </li>\n",
    "    <li><a href='#clean'>Clean</a>\n",
    "        <ul>\n",
    "            <li><a href='#clean-uk'>United Kingdom</a></li>\n",
    "        </ul>\n",
    "    </li>\n",
    "    <li><a href='#final'>Finished Dataframes</a></li>\n",
    "</ul>"
   ]
  },
  {
   "cell_type": "code",
   "execution_count": 87,
   "metadata": {},
   "outputs": [],
   "source": [
    "# Import necessary packages\n",
    "from bs4 import BeautifulSoup\n",
    "import requests\n",
    "import pandas as pd\n",
    "import os.path as os_path"
   ]
  },
  {
   "cell_type": "markdown",
   "metadata": {},
   "source": [
    "# Last Tested On\n",
    "> September 12, 2019\n",
    "\n",
    "BeautifulSoup code may need updates if source page format has changed."
   ]
  },
  {
   "cell_type": "markdown",
   "metadata": {},
   "source": [
    "<a id='gather'></a>\n",
    "## Gather\n",
    "\n",
    "<a id='gather-uk'></a>\n",
    "### United Kingdom\n",
    "\n",
    "There are 9 tables on the Wikipedia page. The first, second, and last tables will be used in the current wrangling effort.\n",
    "\n",
    "The first table contains former colonies. The second table contains former British dominions. The final table contains regions that were relinquished from British control without a vote for independence (e.g., Hong Kong).\n",
    "\n",
    "The remaining tables contain areas of the world still considered part of the UK for one reason or another."
   ]
  },
  {
   "cell_type": "code",
   "execution_count": 88,
   "metadata": {},
   "outputs": [],
   "source": [
    "# Import the page\n",
    "url = 'https://en.wikipedia.org/wiki/List_of_countries_that_have_gained_independence_from_the_United_Kingdom'\n",
    "page = requests.get( url )\n",
    "soup = BeautifulSoup( page.text, 'html.parser' )\n",
    "\n",
    "# Get all of the tables on this page\n",
    "tables = soup.find_all( class_='wikitable' )"
   ]
  },
  {
   "cell_type": "markdown",
   "metadata": {},
   "source": [
    "#### Get data from `Colonies` table"
   ]
  },
  {
   "cell_type": "code",
   "execution_count": 99,
   "metadata": {
    "scrolled": true
   },
   "outputs": [],
   "source": [
    "# Get the first table on the page, Colonies\n",
    "# Additional tables in indices 1-8\n",
    "colonies = tables[0].find( 'tbody' ).find_all( 'tr' )\n",
    "colonies_header = []\n",
    "colonies_data = []\n",
    "\n",
    "# Loop through the colonies, gathering the data held in each table cell ('td') into an array\n",
    "# Save the values in the first row to colonies_header\n",
    "# Save remaining values to colonies_data\n",
    "for index, row in enumerate( colonies ):\n",
    "    # Get the values in the columns\n",
    "    columns = row.find_all( 'td' ) if index > 0 else row.find_all( 'th' )\n",
    "\n",
    "    # If it isn't the first row, it's data\n",
    "    if index > 0:\n",
    "        # Append to colonies_data\n",
    "        colonies_data.append( [element.text.strip() for element in columns ] )\n",
    "    # If it is the first row, it's headers\n",
    "    else:\n",
    "        # Append to colonies_header\n",
    "        colonies_header.append( [element.text.strip() for element in columns ] )\n",
    "        colonies_header = colonies_header[0]\n",
    "\n",
    "colonies_df = pd.DataFrame( data=colonies_data, columns=colonies_header )\n",
    "colonies_df.to_csv( 'british_colonies.csv', index=False )"
   ]
  },
  {
   "cell_type": "code",
   "execution_count": 103,
   "metadata": {},
   "outputs": [
    {
     "data": {
      "text/html": [
       "<div>\n",
       "<style scoped>\n",
       "    .dataframe tbody tr th:only-of-type {\n",
       "        vertical-align: middle;\n",
       "    }\n",
       "\n",
       "    .dataframe tbody tr th {\n",
       "        vertical-align: top;\n",
       "    }\n",
       "\n",
       "    .dataframe thead th {\n",
       "        text-align: right;\n",
       "    }\n",
       "</style>\n",
       "<table border=\"1\" class=\"dataframe\">\n",
       "  <thead>\n",
       "    <tr style=\"text-align: right;\">\n",
       "      <th></th>\n",
       "      <th>Country</th>\n",
       "      <th>Date</th>\n",
       "      <th>Year of Independence</th>\n",
       "      <th>Notes</th>\n",
       "    </tr>\n",
       "  </thead>\n",
       "  <tbody>\n",
       "    <tr>\n",
       "      <th>11</th>\n",
       "      <td>Dominica</td>\n",
       "      <td>3 November</td>\n",
       "      <td>1978</td>\n",
       "      <td></td>\n",
       "    </tr>\n",
       "    <tr>\n",
       "      <th>5</th>\n",
       "      <td>Barbados</td>\n",
       "      <td>30 November</td>\n",
       "      <td>1966</td>\n",
       "      <td>Barbados Independence Act 1966</td>\n",
       "    </tr>\n",
       "    <tr>\n",
       "      <th>32</th>\n",
       "      <td>Maldives</td>\n",
       "      <td>26 July</td>\n",
       "      <td>1965</td>\n",
       "      <td></td>\n",
       "    </tr>\n",
       "    <tr>\n",
       "      <th>46</th>\n",
       "      <td>Solomon Islands</td>\n",
       "      <td>7 July</td>\n",
       "      <td>1978</td>\n",
       "      <td></td>\n",
       "    </tr>\n",
       "    <tr>\n",
       "      <th>21</th>\n",
       "      <td>Iraq</td>\n",
       "      <td>3 October</td>\n",
       "      <td>1932</td>\n",
       "      <td></td>\n",
       "    </tr>\n",
       "  </tbody>\n",
       "</table>\n",
       "</div>"
      ],
      "text/plain": [
       "            Country         Date Year of Independence  \\\n",
       "11         Dominica   3 November                 1978   \n",
       "5          Barbados  30 November                 1966   \n",
       "32         Maldives      26 July                 1965   \n",
       "46  Solomon Islands       7 July                 1978   \n",
       "21             Iraq    3 October                 1932   \n",
       "\n",
       "                             Notes  \n",
       "11                                  \n",
       "5   Barbados Independence Act 1966  \n",
       "32                                  \n",
       "46                                  \n",
       "21                                  "
      ]
     },
     "execution_count": 103,
     "metadata": {},
     "output_type": "execute_result"
    }
   ],
   "source": [
    "colonies_df.sample(5)"
   ]
  },
  {
   "cell_type": "markdown",
   "metadata": {},
   "source": [
    "#### Get data from `Evolution of Dominions to Independence` table"
   ]
  },
  {
   "cell_type": "code",
   "execution_count": 101,
   "metadata": {
    "scrolled": true
   },
   "outputs": [],
   "source": [
    "# Get the second table on the page, Evolution of Dominions to Independence\n",
    "dominions = tables[1].find( 'tbody' ).find_all( 'tr' )\n",
    "dominions_header = []\n",
    "dominions_data = []\n",
    "\n",
    "# Loop through the colonies, gathering the data held in each table cell ('td') into an array\n",
    "# Save the values in the first row to colonies_header\n",
    "# Save remaining values to colonies_data\n",
    "for index, row in enumerate( dominions ):\n",
    "    # Get the values in the columns\n",
    "    columns = row.find_all( 'td' ) if index > 0 else row.find_all( 'th' )\n",
    "\n",
    "    # If it isn't the first row, it's data\n",
    "    if index > 0:\n",
    "        # Append to colonies_data\n",
    "        dominions_data.append( [element.text.strip() for element in columns ] )\n",
    "    # If it is the first row, it's headers\n",
    "    else:\n",
    "        # Append to colonies_header\n",
    "        dominions_header.append( [element.text.strip() for element in columns ] )\n",
    "        dominions_header = dominions_header[0]\n",
    "\n",
    "dominions_df = pd.DataFrame( data=dominions_data, columns=dominions_header )\n",
    "dominions_df.to_csv( 'british_dominions.csv', index=False )"
   ]
  },
  {
   "cell_type": "code",
   "execution_count": 102,
   "metadata": {
    "scrolled": true
   },
   "outputs": [
    {
     "data": {
      "text/html": [
       "<div>\n",
       "<style scoped>\n",
       "    .dataframe tbody tr th:only-of-type {\n",
       "        vertical-align: middle;\n",
       "    }\n",
       "\n",
       "    .dataframe tbody tr th {\n",
       "        vertical-align: top;\n",
       "    }\n",
       "\n",
       "    .dataframe thead th {\n",
       "        text-align: right;\n",
       "    }\n",
       "</style>\n",
       "<table border=\"1\" class=\"dataframe\">\n",
       "  <thead>\n",
       "    <tr style=\"text-align: right;\">\n",
       "      <th></th>\n",
       "      <th>Country</th>\n",
       "      <th>Date of Dominion Status</th>\n",
       "      <th>Date of adoption of the Statute of Westminster</th>\n",
       "      <th>Date of final relinquishment of British powers</th>\n",
       "      <th>Final Event in question.</th>\n",
       "      <th>Other important Dates</th>\n",
       "    </tr>\n",
       "  </thead>\n",
       "  <tbody>\n",
       "    <tr>\n",
       "      <th>0</th>\n",
       "      <td>Australia</td>\n",
       "      <td>1 January 1901</td>\n",
       "      <td>9 October 1942 (effective from 1939)</td>\n",
       "      <td>3 March 1986</td>\n",
       "      <td>Australia Act 1986</td>\n",
       "      <td></td>\n",
       "    </tr>\n",
       "    <tr>\n",
       "      <th>1</th>\n",
       "      <td>Canada</td>\n",
       "      <td>1 July 1867</td>\n",
       "      <td>11 December 1931</td>\n",
       "      <td>17 April 1982</td>\n",
       "      <td>Canada Act 1982</td>\n",
       "      <td></td>\n",
       "    </tr>\n",
       "    <tr>\n",
       "      <th>2</th>\n",
       "      <td>Ireland</td>\n",
       "      <td>6 December 1922</td>\n",
       "      <td>11 December 1931</td>\n",
       "      <td>18 April 1949</td>\n",
       "      <td>Republic of Ireland Act and Ireland Act 1949</td>\n",
       "      <td>The 1916 Proclamation of the Irish Republic an...</td>\n",
       "    </tr>\n",
       "    <tr>\n",
       "      <th>3</th>\n",
       "      <td>Dominion of Newfoundland</td>\n",
       "      <td>26 September 1907</td>\n",
       "      <td>—</td>\n",
       "      <td>17 April 1982</td>\n",
       "      <td>Canada Act 1982</td>\n",
       "      <td>Newfoundland voted to join Canada in 1948 in a...</td>\n",
       "    </tr>\n",
       "    <tr>\n",
       "      <th>4</th>\n",
       "      <td>South Africa</td>\n",
       "      <td>31 May 1910</td>\n",
       "      <td>11 December 1931</td>\n",
       "      <td>21 May 1961</td>\n",
       "      <td>South African Constitution of 1961</td>\n",
       "      <td></td>\n",
       "    </tr>\n",
       "    <tr>\n",
       "      <th>5</th>\n",
       "      <td>New Zealand</td>\n",
       "      <td>26 September 1907</td>\n",
       "      <td>25 November 1947</td>\n",
       "      <td>13 December 1986</td>\n",
       "      <td>Constitution Act 1986</td>\n",
       "      <td>Declaration of Independence of New Zealand 183...</td>\n",
       "    </tr>\n",
       "  </tbody>\n",
       "</table>\n",
       "</div>"
      ],
      "text/plain": [
       "                    Country Date of Dominion Status  \\\n",
       "0                 Australia          1 January 1901   \n",
       "1                    Canada             1 July 1867   \n",
       "2                   Ireland         6 December 1922   \n",
       "3  Dominion of Newfoundland       26 September 1907   \n",
       "4              South Africa             31 May 1910   \n",
       "5               New Zealand       26 September 1907   \n",
       "\n",
       "  Date of adoption of the Statute of Westminster  \\\n",
       "0           9 October 1942 (effective from 1939)   \n",
       "1                               11 December 1931   \n",
       "2                               11 December 1931   \n",
       "3                                              —   \n",
       "4                               11 December 1931   \n",
       "5                               25 November 1947   \n",
       "\n",
       "  Date of final relinquishment of British powers  \\\n",
       "0                                   3 March 1986   \n",
       "1                                  17 April 1982   \n",
       "2                                  18 April 1949   \n",
       "3                                  17 April 1982   \n",
       "4                                    21 May 1961   \n",
       "5                               13 December 1986   \n",
       "\n",
       "                       Final Event in question.  \\\n",
       "0                            Australia Act 1986   \n",
       "1                               Canada Act 1982   \n",
       "2  Republic of Ireland Act and Ireland Act 1949   \n",
       "3                               Canada Act 1982   \n",
       "4            South African Constitution of 1961   \n",
       "5                         Constitution Act 1986   \n",
       "\n",
       "                               Other important Dates  \n",
       "0                                                     \n",
       "1                                                     \n",
       "2  The 1916 Proclamation of the Irish Republic an...  \n",
       "3  Newfoundland voted to join Canada in 1948 in a...  \n",
       "4                                                     \n",
       "5  Declaration of Independence of New Zealand 183...  "
      ]
     },
     "execution_count": 102,
     "metadata": {},
     "output_type": "execute_result"
    }
   ],
   "source": [
    "dominions_df"
   ]
  },
  {
   "cell_type": "markdown",
   "metadata": {},
   "source": [
    "#### Get data from `Countries or region which did not vote to terminate British rule yet were relinquished` table"
   ]
  },
  {
   "cell_type": "code",
   "execution_count": 104,
   "metadata": {
    "scrolled": true
   },
   "outputs": [],
   "source": [
    "# Get the final table on the page, Countries or region which did not vote to terminate British rule yet were relinquished\n",
    "relinquished = tables[8].find( 'tbody' ).find_all( 'tr' )\n",
    "relinquished_header = []\n",
    "relinquished_data = []\n",
    "\n",
    "# Loop through the colonies, gathering the data held in each table cell ('td') into an array\n",
    "# Save the values in the first row to colonies_header\n",
    "# Save remaining values to colonies_data\n",
    "for index, row in enumerate( relinquished ):\n",
    "    # Get the values in the columns\n",
    "    columns = row.find_all( 'td' ) if index > 0 else row.find_all( 'th' )\n",
    "\n",
    "    # If it isn't the first row, it's data\n",
    "    if index > 0:\n",
    "        # Append to colonies_data\n",
    "        relinquished_data.append( [element.text.strip() for element in columns ] )\n",
    "    # If it is the first row, it's headers\n",
    "    else:\n",
    "        # Append to colonies_header\n",
    "        relinquished_header.append( [element.text.strip() for element in columns ] )\n",
    "        relinquished_header = relinquished_header[0]\n",
    "\n",
    "relinquished_df = pd.DataFrame( data=relinquished_data, columns=relinquished_header )\n",
    "relinquished_df.to_csv( 'british_relinquished.csv', index=False )"
   ]
  },
  {
   "cell_type": "code",
   "execution_count": 106,
   "metadata": {
    "scrolled": true
   },
   "outputs": [
    {
     "data": {
      "text/html": [
       "<div>\n",
       "<style scoped>\n",
       "    .dataframe tbody tr th:only-of-type {\n",
       "        vertical-align: middle;\n",
       "    }\n",
       "\n",
       "    .dataframe tbody tr th {\n",
       "        vertical-align: top;\n",
       "    }\n",
       "\n",
       "    .dataframe thead th {\n",
       "        text-align: right;\n",
       "    }\n",
       "</style>\n",
       "<table border=\"1\" class=\"dataframe\">\n",
       "  <thead>\n",
       "    <tr style=\"text-align: right;\">\n",
       "      <th></th>\n",
       "      <th>Country</th>\n",
       "      <th>Date</th>\n",
       "      <th>Year</th>\n",
       "      <th>Notes</th>\n",
       "    </tr>\n",
       "  </thead>\n",
       "  <tbody>\n",
       "    <tr>\n",
       "      <th>0</th>\n",
       "      <td>Hong Kong</td>\n",
       "      <td>30 June</td>\n",
       "      <td>1997</td>\n",
       "      <td>In 1984 the British government signed the Sino...</td>\n",
       "    </tr>\n",
       "  </tbody>\n",
       "</table>\n",
       "</div>"
      ],
      "text/plain": [
       "     Country     Date  Year                                              Notes\n",
       "0  Hong Kong  30 June  1997  In 1984 the British government signed the Sino..."
      ]
     },
     "execution_count": 106,
     "metadata": {},
     "output_type": "execute_result"
    }
   ],
   "source": [
    "relinquished_df"
   ]
  },
  {
   "cell_type": "markdown",
   "metadata": {},
   "source": [
    "<a id='assess'></a>\n",
    "## Assess\n",
    "\n",
    "<a id='assess-uk'></a>\n",
    "### United Kingdom"
   ]
  },
  {
   "cell_type": "code",
   "execution_count": null,
   "metadata": {},
   "outputs": [],
   "source": []
  },
  {
   "cell_type": "code",
   "execution_count": null,
   "metadata": {},
   "outputs": [],
   "source": []
  },
  {
   "cell_type": "code",
   "execution_count": null,
   "metadata": {},
   "outputs": [],
   "source": []
  }
 ],
 "metadata": {
  "kernelspec": {
   "display_name": "Python 3",
   "language": "python",
   "name": "python3"
  },
  "language_info": {
   "codemirror_mode": {
    "name": "ipython",
    "version": 3
   },
   "file_extension": ".py",
   "mimetype": "text/x-python",
   "name": "python",
   "nbconvert_exporter": "python",
   "pygments_lexer": "ipython3",
   "version": "3.7.3"
  }
 },
 "nbformat": 4,
 "nbformat_minor": 2
}
