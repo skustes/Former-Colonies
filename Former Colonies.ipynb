{
 "cells": [
  {
   "cell_type": "markdown",
   "metadata": {},
   "source": [
    "# Wrangling Former Colonies\n",
    "## By: Scott Kustes\n",
    "\n",
    "### Objective:\n",
    "Compile a list of former colonies of modern countries. ADD INFO ABOUT WHAT DATA IS INCLUDED IN FINAL OUTPUT\n",
    "\n",
    "#### Discussion:\n",
    "History is complex. For many countries, the date of independence is not clear cut. This dataset contains Dr. Hensel's determination of independence date as the point at which a country makes its own foreign and domestic policy decisions. It also contains the independence dates as determined by The Correlates of War Project and the Gleditsch/Ward list of independent states for comparison. In some instances, there are vast differences between the dates.\n",
    "\n",
    "#### Datasets:\n",
    "The primary dataset was downloaded from <a href='http://www.paulhensel.org/icow.html' target='_new'>The Issue Correlates of War Project</a>. Additional datasets were downloaded from <a href='http://www.correlatesofwar.org' target='_new'>The Correlates of War Project</a>.  For specific dataset citations, see the References section at the bottom of the notebook.\n",
    "\n",
    "#### Contents\n",
    "<ul>\n",
    "    <li><a href='#gather'>Data Gathering</a></li>\n",
    "    <li><a href='#assess1'>Assess, Part 1</a></li>\n",
    "    <li><a href='#clean1'>Clean, Part 1</a></li>\n",
    "    <li><a href='#assess2'>Assess, Part 2</a></li>\n",
    "    <li><a href='#clean2'>Clean, Part 2</a></li>\n",
    "    <li><a href='#final'>Finished Dataframes</a></li>\n",
    "    <li><a href='#references'>References</a></li>\n",
    "</ul>"
   ]
  },
  {
   "cell_type": "code",
   "execution_count": 1,
   "metadata": {},
   "outputs": [],
   "source": [
    "# Import packages\n",
    "import requests\n",
    "import pandas as pd\n",
    "import os.path as os_path"
   ]
  },
  {
   "cell_type": "markdown",
   "metadata": {},
   "source": [
    "<a id='gather'></a>\n",
    "## Data Gathering\n",
    "### Colonization Data"
   ]
  },
  {
   "cell_type": "code",
   "execution_count": 2,
   "metadata": {},
   "outputs": [
    {
     "data": {
      "text/html": [
       "<div>\n",
       "<style scoped>\n",
       "    .dataframe tbody tr th:only-of-type {\n",
       "        vertical-align: middle;\n",
       "    }\n",
       "\n",
       "    .dataframe tbody tr th {\n",
       "        vertical-align: top;\n",
       "    }\n",
       "\n",
       "    .dataframe thead th {\n",
       "        text-align: right;\n",
       "    }\n",
       "</style>\n",
       "<table border=\"1\" class=\"dataframe\">\n",
       "  <thead>\n",
       "    <tr style=\"text-align: right;\">\n",
       "      <th></th>\n",
       "      <th>State</th>\n",
       "      <th>Name</th>\n",
       "      <th>ColRuler</th>\n",
       "      <th>IndFrom</th>\n",
       "      <th>IndDate</th>\n",
       "      <th>IndViol</th>\n",
       "      <th>IndType</th>\n",
       "      <th>SecFrom</th>\n",
       "      <th>SecDate</th>\n",
       "      <th>SecViol</th>\n",
       "      <th>Into</th>\n",
       "      <th>IntoDate</th>\n",
       "      <th>COWsys</th>\n",
       "      <th>GWsys</th>\n",
       "      <th>Notes</th>\n",
       "    </tr>\n",
       "  </thead>\n",
       "  <tbody>\n",
       "    <tr>\n",
       "      <th>24</th>\n",
       "      <td>101</td>\n",
       "      <td>Venezuela</td>\n",
       "      <td>230</td>\n",
       "      <td>100</td>\n",
       "      <td>183001</td>\n",
       "      <td>0</td>\n",
       "      <td>3</td>\n",
       "      <td>100</td>\n",
       "      <td>183001</td>\n",
       "      <td>0</td>\n",
       "      <td>-9</td>\n",
       "      <td>-9</td>\n",
       "      <td>184101</td>\n",
       "      <td>182901</td>\n",
       "      <td>Seceded from Gran Colombia (not in COW system;...</td>\n",
       "    </tr>\n",
       "    <tr>\n",
       "      <th>27</th>\n",
       "      <td>130</td>\n",
       "      <td>Ecuador</td>\n",
       "      <td>230</td>\n",
       "      <td>100</td>\n",
       "      <td>183005</td>\n",
       "      <td>0</td>\n",
       "      <td>3</td>\n",
       "      <td>100</td>\n",
       "      <td>183005</td>\n",
       "      <td>0</td>\n",
       "      <td>-9</td>\n",
       "      <td>-9</td>\n",
       "      <td>185401</td>\n",
       "      <td>183005</td>\n",
       "      <td>Seceded from Gran Colombia (not in COW system;...</td>\n",
       "    </tr>\n",
       "    <tr>\n",
       "      <th>75</th>\n",
       "      <td>343</td>\n",
       "      <td>North Macedonia (Macedonia/FYROM)</td>\n",
       "      <td>640</td>\n",
       "      <td>345</td>\n",
       "      <td>199109</td>\n",
       "      <td>0</td>\n",
       "      <td>3</td>\n",
       "      <td>345</td>\n",
       "      <td>199109</td>\n",
       "      <td>0</td>\n",
       "      <td>-9</td>\n",
       "      <td>-9</td>\n",
       "      <td>199304</td>\n",
       "      <td>199111</td>\n",
       "      <td>\"Former Yugoslav Republic of...\" due to Greek ...</td>\n",
       "    </tr>\n",
       "    <tr>\n",
       "      <th>91</th>\n",
       "      <td>370</td>\n",
       "      <td>Belarus</td>\n",
       "      <td>365</td>\n",
       "      <td>365</td>\n",
       "      <td>199112</td>\n",
       "      <td>0</td>\n",
       "      <td>3</td>\n",
       "      <td>-9</td>\n",
       "      <td>-9</td>\n",
       "      <td>-9</td>\n",
       "      <td>-9</td>\n",
       "      <td>-9</td>\n",
       "      <td>199112</td>\n",
       "      <td>199108</td>\n",
       "      <td>Under Polish rule until obtained by Russia in ...</td>\n",
       "    </tr>\n",
       "    <tr>\n",
       "      <th>173</th>\n",
       "      <td>702</td>\n",
       "      <td>Tajikistan</td>\n",
       "      <td>365</td>\n",
       "      <td>365</td>\n",
       "      <td>199112</td>\n",
       "      <td>0</td>\n",
       "      <td>3</td>\n",
       "      <td>-9</td>\n",
       "      <td>-9</td>\n",
       "      <td>-9</td>\n",
       "      <td>-9</td>\n",
       "      <td>-9</td>\n",
       "      <td>199112</td>\n",
       "      <td>199109</td>\n",
       "      <td>-9</td>\n",
       "    </tr>\n",
       "  </tbody>\n",
       "</table>\n",
       "</div>"
      ],
      "text/plain": [
       "     State                               Name  ColRuler  IndFrom  IndDate  \\\n",
       "24     101                          Venezuela       230      100   183001   \n",
       "27     130                            Ecuador       230      100   183005   \n",
       "75     343  North Macedonia (Macedonia/FYROM)       640      345   199109   \n",
       "91     370                            Belarus       365      365   199112   \n",
       "173    702                         Tajikistan       365      365   199112   \n",
       "\n",
       "     IndViol  IndType  SecFrom  SecDate  SecViol  Into  IntoDate  COWsys  \\\n",
       "24         0        3      100   183001        0    -9        -9  184101   \n",
       "27         0        3      100   183005        0    -9        -9  185401   \n",
       "75         0        3      345   199109        0    -9        -9  199304   \n",
       "91         0        3       -9       -9       -9    -9        -9  199112   \n",
       "173        0        3       -9       -9       -9    -9        -9  199112   \n",
       "\n",
       "      GWsys                                              Notes  \n",
       "24   182901  Seceded from Gran Colombia (not in COW system;...  \n",
       "27   183005  Seceded from Gran Colombia (not in COW system;...  \n",
       "75   199111  \"Former Yugoslav Republic of...\" due to Greek ...  \n",
       "91   199108  Under Polish rule until obtained by Russia in ...  \n",
       "173  199109                                                 -9  "
      ]
     },
     "execution_count": 2,
     "metadata": {},
     "output_type": "execute_result"
    }
   ],
   "source": [
    "icow = pd.read_csv( 'colonial_data.csv' )\n",
    "icow.sample(5)"
   ]
  },
  {
   "cell_type": "markdown",
   "metadata": {},
   "source": [
    "### Country Codes\n",
    "Read in and de-duplicate the country codes used by The Correlates of War Project. Rename columns and set `country_code` as the dataframe key."
   ]
  },
  {
   "cell_type": "code",
   "execution_count": 3,
   "metadata": {},
   "outputs": [
    {
     "data": {
      "text/html": [
       "<div>\n",
       "<style scoped>\n",
       "    .dataframe tbody tr th:only-of-type {\n",
       "        vertical-align: middle;\n",
       "    }\n",
       "\n",
       "    .dataframe tbody tr th {\n",
       "        vertical-align: top;\n",
       "    }\n",
       "\n",
       "    .dataframe thead th {\n",
       "        text-align: right;\n",
       "    }\n",
       "</style>\n",
       "<table border=\"1\" class=\"dataframe\">\n",
       "  <thead>\n",
       "    <tr style=\"text-align: right;\">\n",
       "      <th></th>\n",
       "      <th>abbreviation</th>\n",
       "      <th>country_name</th>\n",
       "    </tr>\n",
       "    <tr>\n",
       "      <th>country_code</th>\n",
       "      <th></th>\n",
       "      <th></th>\n",
       "    </tr>\n",
       "  </thead>\n",
       "  <tbody>\n",
       "    <tr>\n",
       "      <th>701</th>\n",
       "      <td>TKM</td>\n",
       "      <td>Turkmenistan</td>\n",
       "    </tr>\n",
       "    <tr>\n",
       "      <th>355</th>\n",
       "      <td>BUL</td>\n",
       "      <td>Bulgaria</td>\n",
       "    </tr>\n",
       "    <tr>\n",
       "      <th>365</th>\n",
       "      <td>RUS</td>\n",
       "      <td>Russia</td>\n",
       "    </tr>\n",
       "    <tr>\n",
       "      <th>438</th>\n",
       "      <td>GUI</td>\n",
       "      <td>Guinea</td>\n",
       "    </tr>\n",
       "    <tr>\n",
       "      <th>31</th>\n",
       "      <td>BHM</td>\n",
       "      <td>Bahamas</td>\n",
       "    </tr>\n",
       "  </tbody>\n",
       "</table>\n",
       "</div>"
      ],
      "text/plain": [
       "             abbreviation  country_name\n",
       "country_code                           \n",
       "701                   TKM  Turkmenistan\n",
       "355                   BUL      Bulgaria\n",
       "365                   RUS        Russia\n",
       "438                   GUI        Guinea\n",
       "31                    BHM       Bahamas"
      ]
     },
     "execution_count": 3,
     "metadata": {},
     "output_type": "execute_result"
    }
   ],
   "source": [
    "country_codes = pd.read_csv( 'cow_country_codes.csv' )\n",
    "country_codes.drop_duplicates( inplace=True )\n",
    "country_codes.rename( columns={'StateAbb': 'abbreviation', 'CCode': 'country_code', 'StateNme': 'country_name'}, inplace=True )\n",
    "country_codes.set_index( 'country_code', inplace=True )\n",
    "country_codes.sample(5)"
   ]
  },
  {
   "cell_type": "markdown",
   "metadata": {},
   "source": [
    "<a id='assess1'></a>\n",
    "## Assess, Part 1"
   ]
  },
  {
   "cell_type": "code",
   "execution_count": 4,
   "metadata": {
    "scrolled": true
   },
   "outputs": [
    {
     "name": "stdout",
     "output_type": "stream",
     "text": [
      "<class 'pandas.core.frame.DataFrame'>\n",
      "RangeIndex: 217 entries, 0 to 216\n",
      "Data columns (total 15 columns):\n",
      "State       217 non-null int64\n",
      "Name        217 non-null object\n",
      "ColRuler    217 non-null int64\n",
      "IndFrom     217 non-null int64\n",
      "IndDate     217 non-null int64\n",
      "IndViol     217 non-null int64\n",
      "IndType     217 non-null int64\n",
      "SecFrom     217 non-null int64\n",
      "SecDate     217 non-null int64\n",
      "SecViol     217 non-null int64\n",
      "Into        217 non-null int64\n",
      "IntoDate    217 non-null int64\n",
      "COWsys      217 non-null int64\n",
      "GWsys       217 non-null int64\n",
      "Notes       217 non-null object\n",
      "dtypes: int64(13), object(2)\n",
      "memory usage: 25.5+ KB\n"
     ]
    }
   ],
   "source": [
    "icow.info()"
   ]
  },
  {
   "cell_type": "code",
   "execution_count": 5,
   "metadata": {
    "scrolled": true
   },
   "outputs": [
    {
     "name": "stdout",
     "output_type": "stream",
     "text": [
      "17\n"
     ]
    },
    {
     "data": {
      "text/plain": [
       "array([200, 230, 220, 210, 235,  -9, 255, 300, 640, 365, 211, 325, 710,\n",
       "       740, 900,   2, 920], dtype=int64)"
      ]
     },
     "execution_count": 5,
     "metadata": {},
     "output_type": "execute_result"
    }
   ],
   "source": [
    "# Unique values in Colonial Ruler column\n",
    "print( icow['ColRuler'].nunique() )\n",
    "icow['ColRuler'].unique()"
   ]
  },
  {
   "cell_type": "code",
   "execution_count": 6,
   "metadata": {},
   "outputs": [
    {
     "data": {
      "text/plain": [
       "array([1, 0], dtype=int64)"
      ]
     },
     "execution_count": 6,
     "metadata": {},
     "output_type": "execute_result"
    }
   ],
   "source": [
    "icow['IndViol'].unique()"
   ]
  },
  {
   "cell_type": "code",
   "execution_count": 7,
   "metadata": {},
   "outputs": [
    {
     "data": {
      "text/plain": [
       "array([2, 3, 1, 4], dtype=int64)"
      ]
     },
     "execution_count": 7,
     "metadata": {},
     "output_type": "execute_result"
    }
   ],
   "source": [
    "icow['IndType'].unique()"
   ]
  },
  {
   "cell_type": "markdown",
   "metadata": {},
   "source": [
    "### Issues Found\n",
    "`1)` Remove countries with -9 in ColRuler. These places were never colonized.\n",
    "\n",
    "`2)` Drop columns related to secession (\"Sec\" columns) and merging into another country (\"Into\" columns).\n",
    "\n",
    "`3)` Rename columns to more reader-friendly format."
   ]
  },
  {
   "cell_type": "markdown",
   "metadata": {},
   "source": [
    "<a id='clean1'></a>\n",
    "## Clean, Part 1\n",
    "\n",
    "### 1) Remove Uncolonized Countries\n",
    "Delete all entries where ColRuler column is -9. This indicates a country that was never colonized.\n",
    "\n",
    "#### Code"
   ]
  },
  {
   "cell_type": "code",
   "execution_count": 8,
   "metadata": {},
   "outputs": [],
   "source": [
    "icow.drop( icow.query( 'ColRuler == -9' ).index, inplace=True )"
   ]
  },
  {
   "cell_type": "markdown",
   "metadata": {},
   "source": [
    "#### Test"
   ]
  },
  {
   "cell_type": "code",
   "execution_count": 9,
   "metadata": {},
   "outputs": [
    {
     "name": "stdout",
     "output_type": "stream",
     "text": [
      "16\n"
     ]
    },
    {
     "data": {
      "text/plain": [
       "array([200, 230, 220, 210, 235, 255, 300, 640, 365, 211, 325, 710, 740,\n",
       "       900,   2, 920], dtype=int64)"
      ]
     },
     "execution_count": 9,
     "metadata": {},
     "output_type": "execute_result"
    }
   ],
   "source": [
    "print( icow['ColRuler'].nunique() )\n",
    "icow['ColRuler'].unique()"
   ]
  },
  {
   "cell_type": "markdown",
   "metadata": {},
   "source": [
    "### Drop Unnecessary Columns\n",
    "Drop columns related to secession from or merging into another country: `SecFrom`, `SecDate`, `SecViol`, `Into`, `IntoDate`\n",
    "\n",
    "#### Code"
   ]
  },
  {
   "cell_type": "code",
   "execution_count": 10,
   "metadata": {},
   "outputs": [],
   "source": [
    "icow.drop( columns=['SecFrom','SecDate','SecViol','Into','IntoDate'], axis=1, inplace=True )"
   ]
  },
  {
   "cell_type": "markdown",
   "metadata": {},
   "source": [
    "#### Test"
   ]
  },
  {
   "cell_type": "code",
   "execution_count": 11,
   "metadata": {},
   "outputs": [
    {
     "name": "stdout",
     "output_type": "stream",
     "text": [
      "<class 'pandas.core.frame.DataFrame'>\n",
      "Int64Index: 171 entries, 0 to 216\n",
      "Data columns (total 10 columns):\n",
      "State       171 non-null int64\n",
      "Name        171 non-null object\n",
      "ColRuler    171 non-null int64\n",
      "IndFrom     171 non-null int64\n",
      "IndDate     171 non-null int64\n",
      "IndViol     171 non-null int64\n",
      "IndType     171 non-null int64\n",
      "COWsys      171 non-null int64\n",
      "GWsys       171 non-null int64\n",
      "Notes       171 non-null object\n",
      "dtypes: int64(8), object(2)\n",
      "memory usage: 14.7+ KB\n"
     ]
    }
   ],
   "source": [
    "icow.info()"
   ]
  },
  {
   "cell_type": "markdown",
   "metadata": {},
   "source": [
    "### 3) Rename Columns\n",
    "Create reader-friendly column names.\n",
    "\n",
    "#### Code"
   ]
  },
  {
   "cell_type": "code",
   "execution_count": 12,
   "metadata": {},
   "outputs": [],
   "source": [
    "icow.rename( columns={\n",
    "    'State': 'country_code',\n",
    "    'Name': 'country',\n",
    "    'ColRuler': 'colonizer',\n",
    "    'IndFrom': 'indep_from',\n",
    "    'IndDate': 'indep_date',\n",
    "    'IndViol': 'indep_violent',\n",
    "    'IndType': 'indep_type',\n",
    "    'COWsys': 'cow_system_ind_date',\n",
    "    'GWsys': 'gw_system_ind_date',\n",
    "    'Notes': 'notes'\n",
    "}, inplace=True )"
   ]
  },
  {
   "cell_type": "markdown",
   "metadata": {},
   "source": [
    "#### Test"
   ]
  },
  {
   "cell_type": "code",
   "execution_count": 13,
   "metadata": {},
   "outputs": [
    {
     "name": "stdout",
     "output_type": "stream",
     "text": [
      "<class 'pandas.core.frame.DataFrame'>\n",
      "Int64Index: 171 entries, 0 to 216\n",
      "Data columns (total 10 columns):\n",
      "country_code           171 non-null int64\n",
      "country                171 non-null object\n",
      "colonizer              171 non-null int64\n",
      "indep_from             171 non-null int64\n",
      "indep_date             171 non-null int64\n",
      "indep_violent          171 non-null int64\n",
      "indep_type             171 non-null int64\n",
      "cow_system_ind_date    171 non-null int64\n",
      "gw_system_ind_date     171 non-null int64\n",
      "notes                  171 non-null object\n",
      "dtypes: int64(8), object(2)\n",
      "memory usage: 14.7+ KB\n"
     ]
    }
   ],
   "source": [
    "icow.info()"
   ]
  },
  {
   "cell_type": "markdown",
   "metadata": {},
   "source": [
    "<a id='assess2'></a>\n",
    "## Assess, Part 2"
   ]
  },
  {
   "cell_type": "code",
   "execution_count": 14,
   "metadata": {},
   "outputs": [
    {
     "name": "stdout",
     "output_type": "stream",
     "text": [
      "16\n"
     ]
    },
    {
     "data": {
      "text/plain": [
       "array([200, 230, 220, 210, 235, 255, 300, 640, 365, 211, 325, 710, 740,\n",
       "       900,   2, 920], dtype=int64)"
      ]
     },
     "execution_count": 14,
     "metadata": {},
     "output_type": "execute_result"
    }
   ],
   "source": [
    "print( icow['colonizer'].nunique() )\n",
    "icow['colonizer'].unique()"
   ]
  },
  {
   "cell_type": "code",
   "execution_count": 15,
   "metadata": {},
   "outputs": [
    {
     "name": "stdout",
     "output_type": "stream",
     "text": [
      "32\n"
     ]
    },
    {
     "data": {
      "text/plain": [
       "array([200,   2, 220,  41, 230,  89, 100, 210, 235, 140, 255, 300, 315,\n",
       "       640, 345, 365, 432, 211, 325, 530, 560,  -9, 625, 678, 710, 730,\n",
       "       750, 770, 820, 850, 900, 920], dtype=int64)"
      ]
     },
     "execution_count": 15,
     "metadata": {},
     "output_type": "execute_result"
    }
   ],
   "source": [
    "print( icow['indep_from'].nunique() )\n",
    "icow['indep_from'].unique()"
   ]
  },
  {
   "cell_type": "markdown",
   "metadata": {},
   "source": [
    "### Issues Found\n",
    "`1)` Merge country name into dataframe for columns `colonizer` and `indep_from`.\n",
    "\n",
    "`2)` Convert `indep_date`, `cow_system_ind_date`, and `gw_system_ind_date` from int to datetime."
   ]
  },
  {
   "cell_type": "markdown",
   "metadata": {},
   "source": [
    "<a id='clean2'></a>\n",
    "## Clean, Part 2\n",
    "\n",
    "### 1) Merge Country Name for columns with Country Codes\n",
    "Insert columns to hold country name based on country codes in `colonizer` and `indep_from` columns.\n",
    "\n",
    "#### Code"
   ]
  },
  {
   "cell_type": "code",
   "execution_count": 16,
   "metadata": {},
   "outputs": [],
   "source": [
    "columns = ['colonizer','indep_from']\n",
    "for column in columns:\n",
    "    # Join on country code, then rename the joined column\n",
    "    icow = icow.join( country_codes['country_name'], on=column )\n",
    "    new_column_name = column + '_name'\n",
    "    icow.rename( columns={'country_name': new_column_name}, inplace=True )"
   ]
  },
  {
   "cell_type": "markdown",
   "metadata": {},
   "source": [
    "#### Test"
   ]
  },
  {
   "cell_type": "code",
   "execution_count": 17,
   "metadata": {},
   "outputs": [
    {
     "name": "stdout",
     "output_type": "stream",
     "text": [
      "<class 'pandas.core.frame.DataFrame'>\n",
      "Int64Index: 171 entries, 0 to 216\n",
      "Data columns (total 12 columns):\n",
      "country_code           171 non-null int64\n",
      "country                171 non-null object\n",
      "colonizer              171 non-null int64\n",
      "indep_from             171 non-null int64\n",
      "indep_date             171 non-null int64\n",
      "indep_violent          171 non-null int64\n",
      "indep_type             171 non-null int64\n",
      "cow_system_ind_date    171 non-null int64\n",
      "gw_system_ind_date     171 non-null int64\n",
      "notes                  171 non-null object\n",
      "colonizer_name         171 non-null object\n",
      "indep_from_name        164 non-null object\n",
      "dtypes: int64(8), object(4)\n",
      "memory usage: 17.4+ KB\n"
     ]
    }
   ],
   "source": [
    "icow.info()"
   ]
  },
  {
   "cell_type": "code",
   "execution_count": 18,
   "metadata": {},
   "outputs": [
    {
     "data": {
      "text/plain": [
       "(array(['United Kingdom', 'Spain', 'France', 'Netherlands', 'Portugal',\n",
       "        'Germany', 'Austria-Hungary', 'Turkey', 'Russia', 'Belgium',\n",
       "        'Italy', 'China', 'Japan', 'Australia', 'United States of America',\n",
       "        'New Zealand'], dtype=object),\n",
       " array(['United Kingdom', 'United States of America', 'France', 'Haiti',\n",
       "        'Spain', nan, 'Colombia', 'Netherlands', 'Portugal', 'Brazil',\n",
       "        'Germany', 'Austria-Hungary', 'Czechoslovakia', 'Turkey',\n",
       "        'Yugoslavia', 'Russia', 'Mali', 'Belgium', 'Italy', 'Ethiopia',\n",
       "        'South Africa', 'Sudan', 'Yemen Arab Republic', 'China', 'Korea',\n",
       "        'India', 'Pakistan', 'Malaysia', 'Indonesia', 'Australia',\n",
       "        'New Zealand'], dtype=object))"
      ]
     },
     "execution_count": 18,
     "metadata": {},
     "output_type": "execute_result"
    }
   ],
   "source": [
    "icow['colonizer_name'].unique(), icow['indep_from_name'].unique()"
   ]
  },
  {
   "cell_type": "markdown",
   "metadata": {},
   "source": [
    "### 2) Convert date columns to datetime\n",
    "\n",
    "Convert `indep_date`, `cow_system_ind_date`, and `gw_system_ind_date` from int to Time Period. \n",
    "\n",
    "Note: I originally attempted a conversion to datetime, but datetime has a limitation to dates between 1677-09-21 and 2262-04-11. A few values fall outside of this range, therefore the workaround found <a href='https://pandas.pydata.org/pandas-docs/stable/user_guide/timeseries.html#timeseries-oob' target='_new'>here</a> was used.\n",
    "\n",
    "#### Code"
   ]
  },
  {
   "cell_type": "code",
   "execution_count": 19,
   "metadata": {},
   "outputs": [],
   "source": [
    "# Conversion function to create Time Period, copied without modification from Pandas documentation linked in the cell above\n",
    "def conv(x):\n",
    "    return pd.Period( year=x // 10000, month=x // 100 % 100, day=x % 100, freq='D' )"
   ]
  },
  {
   "cell_type": "code",
   "execution_count": 20,
   "metadata": {},
   "outputs": [],
   "source": [
    "# Dates contain only year and month in form YYYYMM\n",
    "# First, append an '01' to create format YYYYMMDD, then apply conversion function\n",
    "columns = ['indep_date', 'cow_system_ind_date', 'gw_system_ind_date']\n",
    "for column in columns:\n",
    "    icow[column] = ( icow[column].astype('str') + '01' ).astype('int').apply(conv)"
   ]
  },
  {
   "cell_type": "markdown",
   "metadata": {},
   "source": [
    "#### Test"
   ]
  },
  {
   "cell_type": "code",
   "execution_count": 21,
   "metadata": {},
   "outputs": [
    {
     "name": "stdout",
     "output_type": "stream",
     "text": [
      "<class 'pandas.core.frame.DataFrame'>\n",
      "Int64Index: 171 entries, 0 to 216\n",
      "Data columns (total 12 columns):\n",
      "country_code           171 non-null int64\n",
      "country                171 non-null object\n",
      "colonizer              171 non-null int64\n",
      "indep_from             171 non-null int64\n",
      "indep_date             171 non-null period[D]\n",
      "indep_violent          171 non-null int64\n",
      "indep_type             171 non-null int64\n",
      "cow_system_ind_date    171 non-null period[D]\n",
      "gw_system_ind_date     171 non-null period[D]\n",
      "notes                  171 non-null object\n",
      "colonizer_name         171 non-null object\n",
      "indep_from_name        164 non-null object\n",
      "dtypes: int64(5), object(4), period[D](3)\n",
      "memory usage: 17.4+ KB\n"
     ]
    }
   ],
   "source": [
    "icow.info()"
   ]
  },
  {
   "cell_type": "code",
   "execution_count": 22,
   "metadata": {},
   "outputs": [
    {
     "data": {
      "text/html": [
       "<div>\n",
       "<style scoped>\n",
       "    .dataframe tbody tr th:only-of-type {\n",
       "        vertical-align: middle;\n",
       "    }\n",
       "\n",
       "    .dataframe tbody tr th {\n",
       "        vertical-align: top;\n",
       "    }\n",
       "\n",
       "    .dataframe thead th {\n",
       "        text-align: right;\n",
       "    }\n",
       "</style>\n",
       "<table border=\"1\" class=\"dataframe\">\n",
       "  <thead>\n",
       "    <tr style=\"text-align: right;\">\n",
       "      <th></th>\n",
       "      <th>country</th>\n",
       "      <th>indep_date</th>\n",
       "      <th>cow_system_ind_date</th>\n",
       "      <th>gw_system_ind_date</th>\n",
       "    </tr>\n",
       "  </thead>\n",
       "  <tbody>\n",
       "    <tr>\n",
       "      <th>148</th>\n",
       "      <td>Morocco</td>\n",
       "      <td>1666-06-01</td>\n",
       "      <td>1847-01-01</td>\n",
       "      <td>1816-01-01</td>\n",
       "    </tr>\n",
       "    <tr>\n",
       "      <th>150</th>\n",
       "      <td>Tunisia</td>\n",
       "      <td>1591-01-01</td>\n",
       "      <td>1825-01-01</td>\n",
       "      <td>1816-01-01</td>\n",
       "    </tr>\n",
       "    <tr>\n",
       "      <th>170</th>\n",
       "      <td>Oman</td>\n",
       "      <td>1741-01-01</td>\n",
       "      <td>1971-10-01</td>\n",
       "      <td>1816-01-01</td>\n",
       "    </tr>\n",
       "  </tbody>\n",
       "</table>\n",
       "</div>"
      ],
      "text/plain": [
       "     country  indep_date cow_system_ind_date gw_system_ind_date\n",
       "148  Morocco  1666-06-01          1847-01-01         1816-01-01\n",
       "150  Tunisia  1591-01-01          1825-01-01         1816-01-01\n",
       "170     Oman  1741-01-01          1971-10-01         1816-01-01"
      ]
     },
     "execution_count": 22,
     "metadata": {},
     "output_type": "execute_result"
    }
   ],
   "source": [
    "# Spot check three entries that failed when attempting conversion to datetime\n",
    "icow[ icow.index.isin( [148,150,170] ) ][['country','indep_date','cow_system_ind_date','gw_system_ind_date']]"
   ]
  },
  {
   "cell_type": "code",
   "execution_count": null,
   "metadata": {},
   "outputs": [],
   "source": []
  },
  {
   "cell_type": "code",
   "execution_count": null,
   "metadata": {},
   "outputs": [],
   "source": []
  },
  {
   "cell_type": "code",
   "execution_count": null,
   "metadata": {},
   "outputs": [],
   "source": []
  },
  {
   "cell_type": "markdown",
   "metadata": {},
   "source": [
    "<a id='references'></a>\n",
    "## References\n",
    "\n",
    "<li>Paul R. Hensel (2018). \"ICOW Colonial History Data Set, version 1.1.\" Available at <a href='http://www.paulhensel.org/icowcol.html' target='_new'>http://www.paulhensel.org/icowcol.html</a></li>\n",
    "<li><a href='http://www.correlatesofwar.org/data-sets/downloadable-files/cow-country-codes' target='_new'>Correlates of War country codes</a></li>"
   ]
  }
 ],
 "metadata": {
  "kernelspec": {
   "display_name": "Python 3",
   "language": "python",
   "name": "python3"
  },
  "language_info": {
   "codemirror_mode": {
    "name": "ipython",
    "version": 3
   },
   "file_extension": ".py",
   "mimetype": "text/x-python",
   "name": "python",
   "nbconvert_exporter": "python",
   "pygments_lexer": "ipython3",
   "version": "3.7.3"
  }
 },
 "nbformat": 4,
 "nbformat_minor": 2
}
