{
 "cells": [
  {
   "cell_type": "markdown",
   "metadata": {},
   "source": [
    "Notes: \n",
    "- Set cow_codes to 0 in database.\n",
    "- Delete `new_societies` that were added\n",
    "- Verify proper Federal Republic of Central America\n",
    "- Rerun database updates and insertions."
   ]
  },
  {
   "cell_type": "markdown",
   "metadata": {},
   "source": [
    "# Update Societies\n",
    "## By: Scott Kustes\n",
    "\n",
    "### Objective:\n",
    "Update the societies that are already in the database.  Test\n",
    "\n",
    "#### Contents\n",
    "<ul>\n",
    "    <li><a href='#gather'>Data Gathering</a></li>\n",
    "    <li><a href='#assess1'>Assess, Part 1</a></li>\n",
    "    <li><a href='#clean1'>Clean, Part 1</a></li>\n",
    "    <li><a href='#assess2'>Assess, Part 2</a></li>\n",
    "    <li><a href='#clean2'>Clean, Part 2</a></li>\n",
    "    <li><a href='#assess3'>Assess, Part 3</a></li>\n",
    "    <li><a href='#clean3'>Clean, Part 3</a></li>\n",
    "    <li><a href='#final'>Finished Dataframes</a></li>\n",
    "    <li><a href='#references'>References</a></li>\n",
    "</ul>"
   ]
  },
  {
   "cell_type": "code",
   "execution_count": 1,
   "metadata": {},
   "outputs": [],
   "source": [
    "# Import packages\n",
    "import requests\n",
    "import pandas as pd"
   ]
  },
  {
   "cell_type": "code",
   "execution_count": 4,
   "metadata": {},
   "outputs": [],
   "source": [
    "# Import classes and functions needed for this analysis from config module\n",
    "# These are only available on my computer\n",
    "from config import dbaccess, validator, society, error_dict_to_string\n",
    "\n",
    "# Create an instance of the DBAccess class for running queries\n",
    "db = dbaccess.DBAccess()\n",
    "\n",
    "# Create an instance of the Validator class for validating data prior to inserting/updating database\n",
    "val = validator.Validator()"
   ]
  },
  {
   "cell_type": "markdown",
   "metadata": {},
   "source": [
    "<a id='gather'></a>\n",
    "## Data Gathering\n",
    "Note: Due to making updates and insertions to the `society` database table based on this and other analyses, some of the notes below may no longer reflect reality as it was when this analysis was initially conducted. For instance, after the insertion of `new_societies` into the database, there are no longer any new societies to be inserted.\n",
    "\n",
    "### Colonization Data"
   ]
  },
  {
   "cell_type": "code",
   "execution_count": 39,
   "metadata": {},
   "outputs": [
    {
     "data": {
      "text/html": [
       "<div>\n",
       "<style scoped>\n",
       "    .dataframe tbody tr th:only-of-type {\n",
       "        vertical-align: middle;\n",
       "    }\n",
       "\n",
       "    .dataframe tbody tr th {\n",
       "        vertical-align: top;\n",
       "    }\n",
       "\n",
       "    .dataframe thead th {\n",
       "        text-align: right;\n",
       "    }\n",
       "</style>\n",
       "<table border=\"1\" class=\"dataframe\">\n",
       "  <thead>\n",
       "    <tr style=\"text-align: right;\">\n",
       "      <th></th>\n",
       "      <th>State</th>\n",
       "      <th>Name</th>\n",
       "      <th>ColRuler</th>\n",
       "      <th>IndFrom</th>\n",
       "      <th>IndDate</th>\n",
       "      <th>IndViol</th>\n",
       "      <th>IndType</th>\n",
       "      <th>SecFrom</th>\n",
       "      <th>SecDate</th>\n",
       "      <th>SecViol</th>\n",
       "      <th>Into</th>\n",
       "      <th>IntoDate</th>\n",
       "      <th>COWsys</th>\n",
       "      <th>GWsys</th>\n",
       "      <th>Notes</th>\n",
       "    </tr>\n",
       "  </thead>\n",
       "  <tbody>\n",
       "    <tr>\n",
       "      <td>195</td>\n",
       "      <td>816</td>\n",
       "      <td>Vietnam/Dem.Rep.Vietnam (North)</td>\n",
       "      <td>220</td>\n",
       "      <td>220</td>\n",
       "      <td>195407</td>\n",
       "      <td>1</td>\n",
       "      <td>2</td>\n",
       "      <td>-9</td>\n",
       "      <td>-9</td>\n",
       "      <td>-9</td>\n",
       "      <td>-9</td>\n",
       "      <td>-9</td>\n",
       "      <td>195407</td>\n",
       "      <td>195405</td>\n",
       "      <td>G&amp;W add earlier indep from 1/1/1816-1/1/1893</td>\n",
       "    </tr>\n",
       "    <tr>\n",
       "      <td>168</td>\n",
       "      <td>694</td>\n",
       "      <td>Qatar</td>\n",
       "      <td>200</td>\n",
       "      <td>200</td>\n",
       "      <td>197109</td>\n",
       "      <td>0</td>\n",
       "      <td>2</td>\n",
       "      <td>-9</td>\n",
       "      <td>-9</td>\n",
       "      <td>-9</td>\n",
       "      <td>-9</td>\n",
       "      <td>-9</td>\n",
       "      <td>197109</td>\n",
       "      <td>197109</td>\n",
       "      <td>Terr chg also codes as becoming indep in 1915 ...</td>\n",
       "    </tr>\n",
       "    <tr>\n",
       "      <td>109</td>\n",
       "      <td>436</td>\n",
       "      <td>Niger</td>\n",
       "      <td>220</td>\n",
       "      <td>220</td>\n",
       "      <td>196008</td>\n",
       "      <td>0</td>\n",
       "      <td>2</td>\n",
       "      <td>-9</td>\n",
       "      <td>-9</td>\n",
       "      <td>-9</td>\n",
       "      <td>-9</td>\n",
       "      <td>-9</td>\n",
       "      <td>196010</td>\n",
       "      <td>196008</td>\n",
       "      <td>Part of French West Africa</td>\n",
       "    </tr>\n",
       "    <tr>\n",
       "      <td>48</td>\n",
       "      <td>245</td>\n",
       "      <td>Bavaria</td>\n",
       "      <td>-9</td>\n",
       "      <td>-9</td>\n",
       "      <td>150507</td>\n",
       "      <td>1</td>\n",
       "      <td>1</td>\n",
       "      <td>-9</td>\n",
       "      <td>-9</td>\n",
       "      <td>-9</td>\n",
       "      <td>255</td>\n",
       "      <td>187101</td>\n",
       "      <td>181601</td>\n",
       "      <td>181601</td>\n",
       "      <td>Merged into unified Germany</td>\n",
       "    </tr>\n",
       "    <tr>\n",
       "      <td>99</td>\n",
       "      <td>395</td>\n",
       "      <td>Iceland</td>\n",
       "      <td>-9</td>\n",
       "      <td>390</td>\n",
       "      <td>194406</td>\n",
       "      <td>0</td>\n",
       "      <td>3</td>\n",
       "      <td>390</td>\n",
       "      <td>194406</td>\n",
       "      <td>0</td>\n",
       "      <td>-9</td>\n",
       "      <td>-9</td>\n",
       "      <td>194406</td>\n",
       "      <td>194406</td>\n",
       "      <td>-9</td>\n",
       "    </tr>\n",
       "  </tbody>\n",
       "</table>\n",
       "</div>"
      ],
      "text/plain": [
       "     State                             Name  ColRuler  IndFrom  IndDate  \\\n",
       "195    816  Vietnam/Dem.Rep.Vietnam (North)       220      220   195407   \n",
       "168    694                            Qatar       200      200   197109   \n",
       "109    436                            Niger       220      220   196008   \n",
       "48     245                          Bavaria        -9       -9   150507   \n",
       "99     395                          Iceland        -9      390   194406   \n",
       "\n",
       "     IndViol  IndType  SecFrom  SecDate  SecViol  Into  IntoDate  COWsys  \\\n",
       "195        1        2       -9       -9       -9    -9        -9  195407   \n",
       "168        0        2       -9       -9       -9    -9        -9  197109   \n",
       "109        0        2       -9       -9       -9    -9        -9  196010   \n",
       "48         1        1       -9       -9       -9   255    187101  181601   \n",
       "99         0        3      390   194406        0    -9        -9  194406   \n",
       "\n",
       "      GWsys                                              Notes  \n",
       "195  195405       G&W add earlier indep from 1/1/1816-1/1/1893  \n",
       "168  197109  Terr chg also codes as becoming indep in 1915 ...  \n",
       "109  196008                         Part of French West Africa  \n",
       "48   181601                        Merged into unified Germany  \n",
       "99   194406                                                 -9  "
      ]
     },
     "execution_count": 39,
     "metadata": {},
     "output_type": "execute_result"
    }
   ],
   "source": [
    "icow = pd.read_csv( 'colonial_data.csv' )\n",
    "icow.sample(5)"
   ]
  },
  {
   "cell_type": "markdown",
   "metadata": {},
   "source": [
    "### Country Codes\n",
    "Read in and de-duplicate the country codes used by The Correlates of War Project. Rename columns."
   ]
  },
  {
   "cell_type": "code",
   "execution_count": 9,
   "metadata": {
    "scrolled": false
   },
   "outputs": [
    {
     "data": {
      "text/html": [
       "<div>\n",
       "<style scoped>\n",
       "    .dataframe tbody tr th:only-of-type {\n",
       "        vertical-align: middle;\n",
       "    }\n",
       "\n",
       "    .dataframe tbody tr th {\n",
       "        vertical-align: top;\n",
       "    }\n",
       "\n",
       "    .dataframe thead th {\n",
       "        text-align: right;\n",
       "    }\n",
       "</style>\n",
       "<table border=\"1\" class=\"dataframe\">\n",
       "  <thead>\n",
       "    <tr style=\"text-align: right;\">\n",
       "      <th></th>\n",
       "      <th>abbreviation</th>\n",
       "      <th>cow_code</th>\n",
       "      <th>country_name</th>\n",
       "    </tr>\n",
       "  </thead>\n",
       "  <tbody>\n",
       "    <tr>\n",
       "      <td>138</td>\n",
       "      <td>NIG</td>\n",
       "      <td>475</td>\n",
       "      <td>Nigeria</td>\n",
       "    </tr>\n",
       "    <tr>\n",
       "      <td>161</td>\n",
       "      <td>NAM</td>\n",
       "      <td>565</td>\n",
       "      <td>Namibia</td>\n",
       "    </tr>\n",
       "    <tr>\n",
       "      <td>129</td>\n",
       "      <td>NIR</td>\n",
       "      <td>436</td>\n",
       "      <td>Niger</td>\n",
       "    </tr>\n",
       "    <tr>\n",
       "      <td>125</td>\n",
       "      <td>MLI</td>\n",
       "      <td>432</td>\n",
       "      <td>Mali</td>\n",
       "    </tr>\n",
       "    <tr>\n",
       "      <td>148</td>\n",
       "      <td>BUI</td>\n",
       "      <td>516</td>\n",
       "      <td>Burundi</td>\n",
       "    </tr>\n",
       "  </tbody>\n",
       "</table>\n",
       "</div>"
      ],
      "text/plain": [
       "    abbreviation  cow_code country_name\n",
       "138          NIG       475      Nigeria\n",
       "161          NAM       565      Namibia\n",
       "129          NIR       436        Niger\n",
       "125          MLI       432         Mali\n",
       "148          BUI       516      Burundi"
      ]
     },
     "execution_count": 9,
     "metadata": {},
     "output_type": "execute_result"
    }
   ],
   "source": [
    "country_codes = pd.read_csv( 'cow_country_codes.csv' )\n",
    "country_codes.drop_duplicates( inplace=True )\n",
    "country_codes.rename( columns={'StateAbb': 'abbreviation', 'CCode': 'cow_code', 'StateNme': 'country_name'}, inplace=True )\n",
    "country_codes.sample(5)"
   ]
  },
  {
   "cell_type": "markdown",
   "metadata": {},
   "source": [
    "Add \"Federal Republic of Central America\" with `cow_code` of 89. This value is in the `indep_from` column for Guatemala, Honduras, El Salvador, Nicaragua, and Costa Rica, but isn't in the `country_codes` dataset."
   ]
  },
  {
   "cell_type": "code",
   "execution_count": 53,
   "metadata": {},
   "outputs": [],
   "source": [
    "frca = {'abbreviation':'FRC', 'cow_code':89, 'country_name': 'Federal Republic of Central America'}\n",
    "country_codes = country_codes.append(frca, ignore_index=True)"
   ]
  },
  {
   "cell_type": "markdown",
   "metadata": {},
   "source": [
    "#### Match COW Countries with `society` Table\n",
    "Many countries already exist in the `society` database table, based on United Nations data. Match COW Project countries with those in the database and execute an UPDATE query to set their `cow_code` field to the corresponding value in the `country_codes` dataframe. Add countries in the COW data that are not in the database to `society`."
   ]
  },
  {
   "cell_type": "code",
   "execution_count": 10,
   "metadata": {},
   "outputs": [
    {
     "data": {
      "text/html": [
       "<div>\n",
       "<style scoped>\n",
       "    .dataframe tbody tr th:only-of-type {\n",
       "        vertical-align: middle;\n",
       "    }\n",
       "\n",
       "    .dataframe tbody tr th {\n",
       "        vertical-align: top;\n",
       "    }\n",
       "\n",
       "    .dataframe thead th {\n",
       "        text-align: right;\n",
       "    }\n",
       "</style>\n",
       "<table border=\"1\" class=\"dataframe\">\n",
       "  <thead>\n",
       "    <tr style=\"text-align: right;\">\n",
       "      <th></th>\n",
       "      <th>society_id</th>\n",
       "      <th>common_name</th>\n",
       "    </tr>\n",
       "  </thead>\n",
       "  <tbody>\n",
       "    <tr>\n",
       "      <td>220</td>\n",
       "      <td>221</td>\n",
       "      <td>Timor-Leste</td>\n",
       "    </tr>\n",
       "    <tr>\n",
       "      <td>141</td>\n",
       "      <td>142</td>\n",
       "      <td>Micronesia</td>\n",
       "    </tr>\n",
       "    <tr>\n",
       "      <td>73</td>\n",
       "      <td>74</td>\n",
       "      <td>Fiji</td>\n",
       "    </tr>\n",
       "    <tr>\n",
       "      <td>172</td>\n",
       "      <td>173</td>\n",
       "      <td>Pitcairn</td>\n",
       "    </tr>\n",
       "    <tr>\n",
       "      <td>224</td>\n",
       "      <td>225</td>\n",
       "      <td>Trinidad and Tobago</td>\n",
       "    </tr>\n",
       "  </tbody>\n",
       "</table>\n",
       "</div>"
      ],
      "text/plain": [
       "     society_id          common_name\n",
       "220         221          Timor-Leste\n",
       "141         142           Micronesia\n",
       "73           74                 Fiji\n",
       "172         173             Pitcairn\n",
       "224         225  Trinidad and Tobago"
      ]
     },
     "execution_count": 10,
     "metadata": {},
     "output_type": "execute_result"
    }
   ],
   "source": [
    "# Get societies from the database\n",
    "query = db.run_query('SELECT society_id, common_name FROM society')\n",
    "societies = pd.DataFrame.from_dict(query['data'])\n",
    "societies.sample(5)"
   ]
  },
  {
   "cell_type": "markdown",
   "metadata": {},
   "source": [
    "Find entries in `country_codes` that are not in the `societies` dataframe (i.e., not in the `society` database table)."
   ]
  },
  {
   "cell_type": "code",
   "execution_count": 11,
   "metadata": {
    "scrolled": true
   },
   "outputs": [
    {
     "name": "stdout",
     "output_type": "stream",
     "text": [
      "(15, 3)\n"
     ]
    },
    {
     "data": {
      "text/html": [
       "<div>\n",
       "<style scoped>\n",
       "    .dataframe tbody tr th:only-of-type {\n",
       "        vertical-align: middle;\n",
       "    }\n",
       "\n",
       "    .dataframe tbody tr th {\n",
       "        vertical-align: top;\n",
       "    }\n",
       "\n",
       "    .dataframe thead th {\n",
       "        text-align: right;\n",
       "    }\n",
       "</style>\n",
       "<table border=\"1\" class=\"dataframe\">\n",
       "  <thead>\n",
       "    <tr style=\"text-align: right;\">\n",
       "      <th></th>\n",
       "      <th>abbreviation</th>\n",
       "      <th>cow_code</th>\n",
       "      <th>country_name</th>\n",
       "    </tr>\n",
       "  </thead>\n",
       "  <tbody>\n",
       "    <tr>\n",
       "      <td>0</td>\n",
       "      <td>USA</td>\n",
       "      <td>2</td>\n",
       "      <td>United States of America</td>\n",
       "    </tr>\n",
       "    <tr>\n",
       "      <td>2</td>\n",
       "      <td>BHM</td>\n",
       "      <td>31</td>\n",
       "      <td>Bahamas</td>\n",
       "    </tr>\n",
       "    <tr>\n",
       "      <td>14</td>\n",
       "      <td>SLU</td>\n",
       "      <td>56</td>\n",
       "      <td>St. Lucia</td>\n",
       "    </tr>\n",
       "    <tr>\n",
       "      <td>15</td>\n",
       "      <td>SVG</td>\n",
       "      <td>57</td>\n",
       "      <td>St. Vincent and the Grenadines</td>\n",
       "    </tr>\n",
       "    <tr>\n",
       "      <td>16</td>\n",
       "      <td>AAB</td>\n",
       "      <td>58</td>\n",
       "      <td>Antigua &amp; Barbuda</td>\n",
       "    </tr>\n",
       "    <tr>\n",
       "      <td>17</td>\n",
       "      <td>SKN</td>\n",
       "      <td>60</td>\n",
       "      <td>St. Kitts and Nevis</td>\n",
       "    </tr>\n",
       "    <tr>\n",
       "      <td>41</td>\n",
       "      <td>NTH</td>\n",
       "      <td>210</td>\n",
       "      <td>Netherlands</td>\n",
       "    </tr>\n",
       "    <tr>\n",
       "      <td>75</td>\n",
       "      <td>CZR</td>\n",
       "      <td>316</td>\n",
       "      <td>Czech Republic</td>\n",
       "    </tr>\n",
       "    <tr>\n",
       "      <td>120</td>\n",
       "      <td>CAP</td>\n",
       "      <td>402</td>\n",
       "      <td>Cape Verde</td>\n",
       "    </tr>\n",
       "    <tr>\n",
       "      <td>121</td>\n",
       "      <td>STP</td>\n",
       "      <td>403</td>\n",
       "      <td>Sao Tome and Principe</td>\n",
       "    </tr>\n",
       "    <tr>\n",
       "      <td>130</td>\n",
       "      <td>CDI</td>\n",
       "      <td>437</td>\n",
       "      <td>Ivory Coast</td>\n",
       "    </tr>\n",
       "    <tr>\n",
       "      <td>143</td>\n",
       "      <td>DRC</td>\n",
       "      <td>490</td>\n",
       "      <td>Democratic Republic of the Congo</td>\n",
       "    </tr>\n",
       "    <tr>\n",
       "      <td>164</td>\n",
       "      <td>SWA</td>\n",
       "      <td>572</td>\n",
       "      <td>Swaziland</td>\n",
       "    </tr>\n",
       "    <tr>\n",
       "      <td>228</td>\n",
       "      <td>ETM</td>\n",
       "      <td>860</td>\n",
       "      <td>East Timor</td>\n",
       "    </tr>\n",
       "    <tr>\n",
       "      <td>241</td>\n",
       "      <td>FSM</td>\n",
       "      <td>987</td>\n",
       "      <td>Federated States of Micronesia</td>\n",
       "    </tr>\n",
       "  </tbody>\n",
       "</table>\n",
       "</div>"
      ],
      "text/plain": [
       "    abbreviation  cow_code                      country_name\n",
       "0            USA         2          United States of America\n",
       "2            BHM        31                           Bahamas\n",
       "14           SLU        56                         St. Lucia\n",
       "15           SVG        57    St. Vincent and the Grenadines\n",
       "16           AAB        58                 Antigua & Barbuda\n",
       "17           SKN        60               St. Kitts and Nevis\n",
       "41           NTH       210                       Netherlands\n",
       "75           CZR       316                    Czech Republic\n",
       "120          CAP       402                        Cape Verde\n",
       "121          STP       403             Sao Tome and Principe\n",
       "130          CDI       437                       Ivory Coast\n",
       "143          DRC       490  Democratic Republic of the Congo\n",
       "164          SWA       572                         Swaziland\n",
       "228          ETM       860                        East Timor\n",
       "241          FSM       987    Federated States of Micronesia"
      ]
     },
     "execution_count": 11,
     "metadata": {},
     "output_type": "execute_result"
    }
   ],
   "source": [
    "print( country_codes[ ~country_codes['country_name'].isin(list(societies['common_name'].unique())) ].shape )\n",
    "country_codes[ ~country_codes['country_name'].isin(list(societies['common_name'].unique())) ]"
   ]
  },
  {
   "cell_type": "markdown",
   "metadata": {},
   "source": [
    "Fifteen of these 40 unmatched countries are already in `societies`, but `country_name` in `country_codes` is different from `common_name` in `societies`. Update `country_name` in `country_codes` dataframe to match `common_name`. Create two dataframes, one for countries already in the database that need to be updated with COW country codes and one for countries that need to be added to the database."
   ]
  },
  {
   "cell_type": "code",
   "execution_count": 19,
   "metadata": {},
   "outputs": [],
   "source": [
    "# Update country_name to match common_name in the database\n",
    "update_cow = {\n",
    "    'United States of America': 'USA',\n",
    "    'Bahamas': 'The Bahamas',\n",
    "    'St. Lucia': 'Saint Lucia',\n",
    "    'St. Vincent and the Grenadines': 'Saint Vincent and the Grenadines',\n",
    "    'Antigua & Barbuda': 'Antigua and Barbuda',\n",
    "    'St. Kitts and Nevis': 'Saint Kitts and Nevis',\n",
    "    'Netherlands': 'The Netherlands',\n",
    "    'Czech Republic': 'Czechia',\n",
    "    'Cape Verde': 'Cabo Verde',\n",
    "    'Sao Tome and Principe': 'São Tomé and Príncipe',\n",
    "    'Ivory Coast': 'Côte d’Ivoire',\n",
    "    'Democratic Republic of the Congo': 'DRC',\n",
    "    'Swaziland': 'Eswatini',\n",
    "    'East Timor': 'Timor-Leste',\n",
    "    'Federated States of Micronesia': 'Micronesia'\n",
    "}\n",
    "country_codes.replace({'country_name': update_cow}, inplace=True)\n",
    "\n",
    "####### Create two dataframes\n",
    "# Societies already in the database that need to be updated with COW country code\n",
    "# Use inner merge to get countries with data in database and country_codes dataframe\n",
    "existing_societies = country_codes.merge( societies, left_on='country_name', right_on='common_name', how='inner' )\n",
    "\n",
    "# Societies that need to be added to the database\n",
    "# Find country_name in country_codes dataframe that aren't in existing_societies\n",
    "new_societies = country_codes[ ~country_codes['country_name'].isin(list(existing_societies['country_name'].unique())) ].copy()"
   ]
  },
  {
   "cell_type": "code",
   "execution_count": 28,
   "metadata": {},
   "outputs": [
    {
     "name": "stdout",
     "output_type": "stream",
     "text": [
      "New: 0\n",
      "Existing: 217\n"
     ]
    }
   ],
   "source": [
    "# There were originally 25 new_societies and 192 existing_societies\n",
    "print( 'New:', new_societies.shape[0] )\n",
    "print( 'Existing:', existing_societies.shape[0] )"
   ]
  },
  {
   "cell_type": "markdown",
   "metadata": {},
   "source": [
    "#### Update `society` Table\n",
    "`1)` Update `society` table in database: Set `cow_code` for records in `existing_societies`.\n",
    "\n",
    "`2)` Create necessary information for records in `new_societies` and add to `society` table."
   ]
  },
  {
   "cell_type": "markdown",
   "metadata": {},
   "source": [
    "##### Update Existing Societies with COW Country Code"
   ]
  },
  {
   "cell_type": "code",
   "execution_count": 21,
   "metadata": {},
   "outputs": [
    {
     "name": "stdout",
     "output_type": "stream",
     "text": [
      "Number of errors: 0\n"
     ]
    }
   ],
   "source": [
    "# Check if any of the values fall outside of the 0-999 range for COW country codes\n",
    "# print( \"Number of errors:\", existing_societies[val.integer_out_of_bounds(existing_societies['cow_code'],0,999)].shape[0] )"
   ]
  },
  {
   "cell_type": "code",
   "execution_count": 22,
   "metadata": {
    "scrolled": true
   },
   "outputs": [
    {
     "name": "stdout",
     "output_type": "stream",
     "text": [
      "This has already been run and 192 records were updated.\n"
     ]
    }
   ],
   "source": [
    "# Build an UPDATE statement for each row, then execute them\n",
    "def build_update_statement(row):\n",
    "    return 'UPDATE society SET cow_code = ' + str(row['cow_code']) + ' WHERE society_id = ' + str(row['society_id'])\n",
    "\n",
    "# Create UPDATE statement and execute\n",
    "existing_societies['update_statement'] = existing_societies.apply(build_update_statement, axis=1)\n",
    "\n",
    "#records_updated = 0\n",
    "#row = 1\n",
    "#print( 'Attempting update of', existing_societies.shape[0], 'rows' )\n",
    "#for update in existing_societies['update_statement']:\n",
    "#    update_query = db.run_query( update )\n",
    "#    records_updated += update_query['rows']\n",
    "#    print( row, end=\" \", flush=True )\n",
    "#    row += 1\n",
    "\n",
    "#print( '\\n', records_updated, 'rows updated' )\n",
    "\n",
    "print( 'This has already been run and 192 records were updated.' )"
   ]
  },
  {
   "cell_type": "code",
   "execution_count": 23,
   "metadata": {},
   "outputs": [
    {
     "data": {
      "text/html": [
       "<div>\n",
       "<style scoped>\n",
       "    .dataframe tbody tr th:only-of-type {\n",
       "        vertical-align: middle;\n",
       "    }\n",
       "\n",
       "    .dataframe tbody tr th {\n",
       "        vertical-align: top;\n",
       "    }\n",
       "\n",
       "    .dataframe thead th {\n",
       "        text-align: right;\n",
       "    }\n",
       "</style>\n",
       "<table border=\"1\" class=\"dataframe\">\n",
       "  <thead>\n",
       "    <tr style=\"text-align: right;\">\n",
       "      <th></th>\n",
       "      <th>society_id</th>\n",
       "      <th>common_name</th>\n",
       "      <th>official_name</th>\n",
       "      <th>capital</th>\n",
       "      <th>society_type_id</th>\n",
       "      <th>un_m49</th>\n",
       "      <th>iso_alpha3</th>\n",
       "      <th>un_region</th>\n",
       "      <th>cow_code</th>\n",
       "      <th>still_exists</th>\n",
       "    </tr>\n",
       "  </thead>\n",
       "  <tbody>\n",
       "    <tr>\n",
       "      <td>1</td>\n",
       "      <td>58</td>\n",
       "      <td>Côte d’Ivoire</td>\n",
       "      <td>Republic of Côte d'Ivoire</td>\n",
       "      <td>Yamoussoukro</td>\n",
       "      <td>1</td>\n",
       "      <td>384</td>\n",
       "      <td>CIV</td>\n",
       "      <td>011</td>\n",
       "      <td>437</td>\n",
       "      <td>1</td>\n",
       "    </tr>\n",
       "    <tr>\n",
       "      <td>4</td>\n",
       "      <td>113</td>\n",
       "      <td>Jordan</td>\n",
       "      <td>Hashemite Kingdom of Jordan</td>\n",
       "      <td>Amman</td>\n",
       "      <td>1</td>\n",
       "      <td>400</td>\n",
       "      <td>JOR</td>\n",
       "      <td>145</td>\n",
       "      <td>663</td>\n",
       "      <td>1</td>\n",
       "    </tr>\n",
       "    <tr>\n",
       "      <td>3</td>\n",
       "      <td>63</td>\n",
       "      <td>Dominican Republic</td>\n",
       "      <td>Dominican Republic</td>\n",
       "      <td>Santo Domingo</td>\n",
       "      <td>1</td>\n",
       "      <td>214</td>\n",
       "      <td>DOM</td>\n",
       "      <td>029</td>\n",
       "      <td>42</td>\n",
       "      <td>1</td>\n",
       "    </tr>\n",
       "    <tr>\n",
       "      <td>2</td>\n",
       "      <td>27</td>\n",
       "      <td>Bosnia and Herzegovina</td>\n",
       "      <td>Bosnia and Herzegovina</td>\n",
       "      <td>Sarajevo</td>\n",
       "      <td>1</td>\n",
       "      <td>070</td>\n",
       "      <td>BIH</td>\n",
       "      <td>039</td>\n",
       "      <td>346</td>\n",
       "      <td>1</td>\n",
       "    </tr>\n",
       "    <tr>\n",
       "      <td>0</td>\n",
       "      <td>101</td>\n",
       "      <td>Iceland</td>\n",
       "      <td>Iceland</td>\n",
       "      <td>Reykjavík</td>\n",
       "      <td>1</td>\n",
       "      <td>352</td>\n",
       "      <td>ISL</td>\n",
       "      <td>154</td>\n",
       "      <td>395</td>\n",
       "      <td>1</td>\n",
       "    </tr>\n",
       "  </tbody>\n",
       "</table>\n",
       "</div>"
      ],
      "text/plain": [
       "   society_id             common_name                official_name  \\\n",
       "1          58           Côte d’Ivoire    Republic of Côte d'Ivoire   \n",
       "4         113                  Jordan  Hashemite Kingdom of Jordan   \n",
       "3          63      Dominican Republic           Dominican Republic   \n",
       "2          27  Bosnia and Herzegovina       Bosnia and Herzegovina   \n",
       "0         101                 Iceland                      Iceland   \n",
       "\n",
       "         capital  society_type_id un_m49 iso_alpha3 un_region  cow_code  \\\n",
       "1   Yamoussoukro                1    384        CIV       011       437   \n",
       "4          Amman                1    400        JOR       145       663   \n",
       "3  Santo Domingo                1    214        DOM       029        42   \n",
       "2       Sarajevo                1    070        BIH       039       346   \n",
       "0      Reykjavík                1    352        ISL       154       395   \n",
       "\n",
       "   still_exists  \n",
       "1             1  \n",
       "4             1  \n",
       "3             1  \n",
       "2             1  \n",
       "0             1  "
      ]
     },
     "execution_count": 23,
     "metadata": {},
     "output_type": "execute_result"
    }
   ],
   "source": [
    "# Pull a few records of society data from the database for a confirmation check\n",
    "query = db.run_query('SELECT * FROM society ORDER BY RAND() LIMIT 5')\n",
    "peek = pd.DataFrame.from_dict(query['data'])\n",
    "peek.sample(5)"
   ]
  },
  {
   "cell_type": "markdown",
   "metadata": {},
   "source": [
    "##### Add New Societies\n",
    "Many of these societies had multiple different names and constitutional types (such as duchies, kingdoms, etc). For now, add to the database in barebones format with common name, official name (duplicated from common name), society type ID of 99 (\"Uncategorized\"), and COW Code. These will be updated later as analysis of political events clarifies things.\n",
    "\n",
    "This no longer runs because the `new_societies` dataframe is empty after the initial insertion of these societies."
   ]
  },
  {
   "cell_type": "code",
   "execution_count": 29,
   "metadata": {},
   "outputs": [],
   "source": [
    "# Drop abbreviation column and rename country_name to common_name\n",
    "# new_societies.drop(columns=['abbreviation'], inplace=True)\n",
    "# new_societies.rename(columns={'country_name':'common_name'}, inplace=True)\n",
    "\n",
    "# Add official_name as duplicate of common_name, and set society_type_id to 99\n",
    "# new_societies['official_name'] = new_societies['common_name']\n",
    "# new_societies['society_type_id'] = 99\n",
    "\n",
    "# new_societies.sample(5)"
   ]
  },
  {
   "cell_type": "code",
   "execution_count": 30,
   "metadata": {},
   "outputs": [],
   "source": [
    "# Check for errors in the new_societies dataframe before insertion\n",
    "# print( error_dict_to_string(society.Society.validate_societies(new_societies, db, val)) )"
   ]
  },
  {
   "cell_type": "code",
   "execution_count": 31,
   "metadata": {},
   "outputs": [
    {
     "name": "stdout",
     "output_type": "stream",
     "text": [
      "This has already been run and 25 records were inserted.\n"
     ]
    }
   ],
   "source": [
    "# Insert Societies\n",
    "#print( 'Expecting to insert:', new_societies.shape[0], 'rows' ) # How many rows am I expecting to be inserted?\n",
    "#insert_new_societies = db.run_query(db.build_insert_query('society', new_societies))\n",
    "#print( insert_new_societies['rows'], 'records inserted' )\n",
    "print( 'This has already been run and 25 records were inserted.' )"
   ]
  },
  {
   "cell_type": "markdown",
   "metadata": {},
   "source": [
    "##### Get Societies\n",
    "Pull society records from the database for use in analysis."
   ]
  },
  {
   "cell_type": "code",
   "execution_count": 32,
   "metadata": {},
   "outputs": [
    {
     "data": {
      "text/html": [
       "<div>\n",
       "<style scoped>\n",
       "    .dataframe tbody tr th:only-of-type {\n",
       "        vertical-align: middle;\n",
       "    }\n",
       "\n",
       "    .dataframe tbody tr th {\n",
       "        vertical-align: top;\n",
       "    }\n",
       "\n",
       "    .dataframe thead th {\n",
       "        text-align: right;\n",
       "    }\n",
       "</style>\n",
       "<table border=\"1\" class=\"dataframe\">\n",
       "  <thead>\n",
       "    <tr style=\"text-align: right;\">\n",
       "      <th></th>\n",
       "      <th>society_id</th>\n",
       "      <th>common_name</th>\n",
       "      <th>cow_code</th>\n",
       "    </tr>\n",
       "  </thead>\n",
       "  <tbody>\n",
       "    <tr>\n",
       "      <td>241</td>\n",
       "      <td>242</td>\n",
       "      <td>Venezuela</td>\n",
       "      <td>101</td>\n",
       "    </tr>\n",
       "    <tr>\n",
       "      <td>258</td>\n",
       "      <td>259</td>\n",
       "      <td>Mecklenburg Schwerin</td>\n",
       "      <td>280</td>\n",
       "    </tr>\n",
       "    <tr>\n",
       "      <td>217</td>\n",
       "      <td>218</td>\n",
       "      <td>Thailand</td>\n",
       "      <td>800</td>\n",
       "    </tr>\n",
       "    <tr>\n",
       "      <td>268</td>\n",
       "      <td>269</td>\n",
       "      <td>Zanzibar</td>\n",
       "      <td>511</td>\n",
       "    </tr>\n",
       "    <tr>\n",
       "      <td>24</td>\n",
       "      <td>25</td>\n",
       "      <td>Bhutan</td>\n",
       "      <td>760</td>\n",
       "    </tr>\n",
       "  </tbody>\n",
       "</table>\n",
       "</div>"
      ],
      "text/plain": [
       "     society_id           common_name  cow_code\n",
       "241         242             Venezuela       101\n",
       "258         259  Mecklenburg Schwerin       280\n",
       "217         218              Thailand       800\n",
       "268         269              Zanzibar       511\n",
       "24           25                Bhutan       760"
      ]
     },
     "execution_count": 32,
     "metadata": {},
     "output_type": "execute_result"
    }
   ],
   "source": [
    "query = db.run_query('SELECT society_id, common_name, cow_code FROM society')\n",
    "societies = pd.DataFrame.from_dict(query['data'])\n",
    "societies.sample(5)"
   ]
  },
  {
   "cell_type": "markdown",
   "metadata": {},
   "source": [
    "<a id='assess1'></a>\n",
    "## Assess, Part 1"
   ]
  },
  {
   "cell_type": "code",
   "execution_count": 33,
   "metadata": {
    "scrolled": true
   },
   "outputs": [
    {
     "name": "stdout",
     "output_type": "stream",
     "text": [
      "<class 'pandas.core.frame.DataFrame'>\n",
      "RangeIndex: 217 entries, 0 to 216\n",
      "Data columns (total 15 columns):\n",
      "State       217 non-null int64\n",
      "Name        217 non-null object\n",
      "ColRuler    217 non-null int64\n",
      "IndFrom     217 non-null int64\n",
      "IndDate     217 non-null int64\n",
      "IndViol     217 non-null int64\n",
      "IndType     217 non-null int64\n",
      "SecFrom     217 non-null int64\n",
      "SecDate     217 non-null int64\n",
      "SecViol     217 non-null int64\n",
      "Into        217 non-null int64\n",
      "IntoDate    217 non-null int64\n",
      "COWsys      217 non-null int64\n",
      "GWsys       217 non-null int64\n",
      "Notes       217 non-null object\n",
      "dtypes: int64(13), object(2)\n",
      "memory usage: 25.6+ KB\n"
     ]
    }
   ],
   "source": [
    "icow.info()"
   ]
  },
  {
   "cell_type": "code",
   "execution_count": 34,
   "metadata": {},
   "outputs": [
    {
     "data": {
      "text/html": [
       "<div>\n",
       "<style scoped>\n",
       "    .dataframe tbody tr th:only-of-type {\n",
       "        vertical-align: middle;\n",
       "    }\n",
       "\n",
       "    .dataframe tbody tr th {\n",
       "        vertical-align: top;\n",
       "    }\n",
       "\n",
       "    .dataframe thead th {\n",
       "        text-align: right;\n",
       "    }\n",
       "</style>\n",
       "<table border=\"1\" class=\"dataframe\">\n",
       "  <thead>\n",
       "    <tr style=\"text-align: right;\">\n",
       "      <th></th>\n",
       "      <th>State</th>\n",
       "      <th>Name</th>\n",
       "      <th>ColRuler</th>\n",
       "      <th>IndFrom</th>\n",
       "      <th>IndDate</th>\n",
       "      <th>IndViol</th>\n",
       "      <th>IndType</th>\n",
       "      <th>SecFrom</th>\n",
       "      <th>SecDate</th>\n",
       "      <th>SecViol</th>\n",
       "      <th>Into</th>\n",
       "      <th>IntoDate</th>\n",
       "      <th>COWsys</th>\n",
       "      <th>GWsys</th>\n",
       "      <th>Notes</th>\n",
       "    </tr>\n",
       "  </thead>\n",
       "  <tbody>\n",
       "    <tr>\n",
       "      <td>13</td>\n",
       "      <td>58</td>\n",
       "      <td>Antigua and Barbuda</td>\n",
       "      <td>200</td>\n",
       "      <td>200</td>\n",
       "      <td>198111</td>\n",
       "      <td>0</td>\n",
       "      <td>2</td>\n",
       "      <td>-9</td>\n",
       "      <td>-9</td>\n",
       "      <td>-9</td>\n",
       "      <td>-9</td>\n",
       "      <td>-9</td>\n",
       "      <td>198111</td>\n",
       "      <td>-9</td>\n",
       "      <td>Includes Antigua/Barbuda/Redonda islands</td>\n",
       "    </tr>\n",
       "    <tr>\n",
       "      <td>193</td>\n",
       "      <td>811</td>\n",
       "      <td>Cambodia</td>\n",
       "      <td>220</td>\n",
       "      <td>220</td>\n",
       "      <td>195311</td>\n",
       "      <td>1</td>\n",
       "      <td>2</td>\n",
       "      <td>-9</td>\n",
       "      <td>-9</td>\n",
       "      <td>-9</td>\n",
       "      <td>-9</td>\n",
       "      <td>-9</td>\n",
       "      <td>195311</td>\n",
       "      <td>195311</td>\n",
       "      <td>Ruled by Siam before French acquisition in 1863</td>\n",
       "    </tr>\n",
       "    <tr>\n",
       "      <td>66</td>\n",
       "      <td>327</td>\n",
       "      <td>Papal States</td>\n",
       "      <td>-9</td>\n",
       "      <td>-9</td>\n",
       "      <td>150300</td>\n",
       "      <td>1</td>\n",
       "      <td>1</td>\n",
       "      <td>-9</td>\n",
       "      <td>-9</td>\n",
       "      <td>-9</td>\n",
       "      <td>325</td>\n",
       "      <td>186011</td>\n",
       "      <td>181601</td>\n",
       "      <td>181601</td>\n",
       "      <td>Merged into unified Italy</td>\n",
       "    </tr>\n",
       "    <tr>\n",
       "      <td>48</td>\n",
       "      <td>245</td>\n",
       "      <td>Bavaria</td>\n",
       "      <td>-9</td>\n",
       "      <td>-9</td>\n",
       "      <td>150507</td>\n",
       "      <td>1</td>\n",
       "      <td>1</td>\n",
       "      <td>-9</td>\n",
       "      <td>-9</td>\n",
       "      <td>-9</td>\n",
       "      <td>255</td>\n",
       "      <td>187101</td>\n",
       "      <td>181601</td>\n",
       "      <td>181601</td>\n",
       "      <td>Merged into unified Germany</td>\n",
       "    </tr>\n",
       "    <tr>\n",
       "      <td>185</td>\n",
       "      <td>760</td>\n",
       "      <td>Bhutan</td>\n",
       "      <td>200</td>\n",
       "      <td>750</td>\n",
       "      <td>194708</td>\n",
       "      <td>0</td>\n",
       "      <td>2</td>\n",
       "      <td>-9</td>\n",
       "      <td>-9</td>\n",
       "      <td>-9</td>\n",
       "      <td>-9</td>\n",
       "      <td>-9</td>\n",
       "      <td>197109</td>\n",
       "      <td>194901</td>\n",
       "      <td>Ruled by Chinese before British/Indians; Briti...</td>\n",
       "    </tr>\n",
       "  </tbody>\n",
       "</table>\n",
       "</div>"
      ],
      "text/plain": [
       "     State                 Name  ColRuler  IndFrom  IndDate  IndViol  IndType  \\\n",
       "13      58  Antigua and Barbuda       200      200   198111        0        2   \n",
       "193    811             Cambodia       220      220   195311        1        2   \n",
       "66     327         Papal States        -9       -9   150300        1        1   \n",
       "48     245              Bavaria        -9       -9   150507        1        1   \n",
       "185    760               Bhutan       200      750   194708        0        2   \n",
       "\n",
       "     SecFrom  SecDate  SecViol  Into  IntoDate  COWsys   GWsys  \\\n",
       "13        -9       -9       -9    -9        -9  198111      -9   \n",
       "193       -9       -9       -9    -9        -9  195311  195311   \n",
       "66        -9       -9       -9   325    186011  181601  181601   \n",
       "48        -9       -9       -9   255    187101  181601  181601   \n",
       "185       -9       -9       -9    -9        -9  197109  194901   \n",
       "\n",
       "                                                 Notes  \n",
       "13            Includes Antigua/Barbuda/Redonda islands  \n",
       "193    Ruled by Siam before French acquisition in 1863  \n",
       "66                           Merged into unified Italy  \n",
       "48                         Merged into unified Germany  \n",
       "185  Ruled by Chinese before British/Indians; Briti...  "
      ]
     },
     "execution_count": 34,
     "metadata": {},
     "output_type": "execute_result"
    }
   ],
   "source": [
    "icow.sample(5)"
   ]
  },
  {
   "cell_type": "code",
   "execution_count": 35,
   "metadata": {
    "scrolled": true
   },
   "outputs": [
    {
     "name": "stdout",
     "output_type": "stream",
     "text": [
      "17\n"
     ]
    },
    {
     "data": {
      "text/plain": [
       "array([200, 230, 220, 210, 235,  -9, 255, 300, 640, 365, 211, 325, 710,\n",
       "       740, 900,   2, 920], dtype=int64)"
      ]
     },
     "execution_count": 35,
     "metadata": {},
     "output_type": "execute_result"
    }
   ],
   "source": [
    "# Unique values in Colonial Ruler column\n",
    "print( icow['ColRuler'].nunique() )\n",
    "icow['ColRuler'].unique()"
   ]
  },
  {
   "cell_type": "code",
   "execution_count": 36,
   "metadata": {},
   "outputs": [
    {
     "data": {
      "text/html": [
       "<div>\n",
       "<style scoped>\n",
       "    .dataframe tbody tr th:only-of-type {\n",
       "        vertical-align: middle;\n",
       "    }\n",
       "\n",
       "    .dataframe tbody tr th {\n",
       "        vertical-align: top;\n",
       "    }\n",
       "\n",
       "    .dataframe thead th {\n",
       "        text-align: right;\n",
       "    }\n",
       "</style>\n",
       "<table border=\"1\" class=\"dataframe\">\n",
       "  <thead>\n",
       "    <tr style=\"text-align: right;\">\n",
       "      <th></th>\n",
       "      <th>State</th>\n",
       "      <th>Name</th>\n",
       "      <th>ColRuler</th>\n",
       "      <th>IndFrom</th>\n",
       "      <th>IndDate</th>\n",
       "      <th>IndViol</th>\n",
       "      <th>IndType</th>\n",
       "      <th>SecFrom</th>\n",
       "      <th>SecDate</th>\n",
       "      <th>SecViol</th>\n",
       "      <th>Into</th>\n",
       "      <th>IntoDate</th>\n",
       "      <th>COWsys</th>\n",
       "      <th>GWsys</th>\n",
       "      <th>Notes</th>\n",
       "    </tr>\n",
       "  </thead>\n",
       "  <tbody>\n",
       "    <tr>\n",
       "      <td>96</td>\n",
       "      <td>380</td>\n",
       "      <td>Sweden</td>\n",
       "      <td>-9</td>\n",
       "      <td>-9</td>\n",
       "      <td>152306</td>\n",
       "      <td>1</td>\n",
       "      <td>4</td>\n",
       "      <td>-9</td>\n",
       "      <td>-9</td>\n",
       "      <td>-9</td>\n",
       "      <td>-9</td>\n",
       "      <td>-9</td>\n",
       "      <td>181601</td>\n",
       "      <td>181601</td>\n",
       "      <td>Broke away from Union of Kalmar (with Denmark/...</td>\n",
       "    </tr>\n",
       "    <tr>\n",
       "      <td>43</td>\n",
       "      <td>225</td>\n",
       "      <td>Switzerland</td>\n",
       "      <td>-9</td>\n",
       "      <td>-9</td>\n",
       "      <td>129108</td>\n",
       "      <td>0</td>\n",
       "      <td>1</td>\n",
       "      <td>-9</td>\n",
       "      <td>-9</td>\n",
       "      <td>-9</td>\n",
       "      <td>-9</td>\n",
       "      <td>-9</td>\n",
       "      <td>181601</td>\n",
       "      <td>181601</td>\n",
       "      <td>-9</td>\n",
       "    </tr>\n",
       "    <tr>\n",
       "      <td>183</td>\n",
       "      <td>740</td>\n",
       "      <td>Japan</td>\n",
       "      <td>-9</td>\n",
       "      <td>-9</td>\n",
       "      <td>159000</td>\n",
       "      <td>1</td>\n",
       "      <td>1</td>\n",
       "      <td>-9</td>\n",
       "      <td>-9</td>\n",
       "      <td>-9</td>\n",
       "      <td>-9</td>\n",
       "      <td>-9</td>\n",
       "      <td>186001</td>\n",
       "      <td>181601</td>\n",
       "      <td>COW system interrupted 8/1945-4/1952 (Allied o...</td>\n",
       "    </tr>\n",
       "    <tr>\n",
       "      <td>45</td>\n",
       "      <td>232</td>\n",
       "      <td>Andorra</td>\n",
       "      <td>-9</td>\n",
       "      <td>-9</td>\n",
       "      <td>127809</td>\n",
       "      <td>0</td>\n",
       "      <td>1</td>\n",
       "      <td>-9</td>\n",
       "      <td>-9</td>\n",
       "      <td>-9</td>\n",
       "      <td>-9</td>\n",
       "      <td>-9</td>\n",
       "      <td>199307</td>\n",
       "      <td>-9</td>\n",
       "      <td>Nominal French &amp; Spanish suzerainty not enough...</td>\n",
       "    </tr>\n",
       "    <tr>\n",
       "      <td>35</td>\n",
       "      <td>200</td>\n",
       "      <td>United Kingdom</td>\n",
       "      <td>-9</td>\n",
       "      <td>-9</td>\n",
       "      <td>106612</td>\n",
       "      <td>1</td>\n",
       "      <td>1</td>\n",
       "      <td>-9</td>\n",
       "      <td>-9</td>\n",
       "      <td>-9</td>\n",
       "      <td>-9</td>\n",
       "      <td>-9</td>\n",
       "      <td>181601</td>\n",
       "      <td>181601</td>\n",
       "      <td>-9</td>\n",
       "    </tr>\n",
       "  </tbody>\n",
       "</table>\n",
       "</div>"
      ],
      "text/plain": [
       "     State            Name  ColRuler  IndFrom  IndDate  IndViol  IndType  \\\n",
       "96     380          Sweden        -9       -9   152306        1        4   \n",
       "43     225     Switzerland        -9       -9   129108        0        1   \n",
       "183    740           Japan        -9       -9   159000        1        1   \n",
       "45     232         Andorra        -9       -9   127809        0        1   \n",
       "35     200  United Kingdom        -9       -9   106612        1        1   \n",
       "\n",
       "     SecFrom  SecDate  SecViol  Into  IntoDate  COWsys   GWsys  \\\n",
       "96        -9       -9       -9    -9        -9  181601  181601   \n",
       "43        -9       -9       -9    -9        -9  181601  181601   \n",
       "183       -9       -9       -9    -9        -9  186001  181601   \n",
       "45        -9       -9       -9    -9        -9  199307      -9   \n",
       "35        -9       -9       -9    -9        -9  181601  181601   \n",
       "\n",
       "                                                 Notes  \n",
       "96   Broke away from Union of Kalmar (with Denmark/...  \n",
       "43                                                  -9  \n",
       "183  COW system interrupted 8/1945-4/1952 (Allied o...  \n",
       "45   Nominal French & Spanish suzerainty not enough...  \n",
       "35                                                  -9  "
      ]
     },
     "execution_count": 36,
     "metadata": {},
     "output_type": "execute_result"
    }
   ],
   "source": [
    "icow.query( '( ColRuler == -9 ) & ( IndFrom == -9 ) & ( SecFrom == -9 ) & ( Into == -9 )' ).sample(5)"
   ]
  },
  {
   "cell_type": "markdown",
   "metadata": {},
   "source": [
    "### Issues Found\n",
    "`1)` Rename columns to more reader-friendly format.\n",
    "\n",
    "`2)` Remove countries with -9 in `ColRuler`, `IndFrom`, `SecFrom`, and `Into`. Save them into another dataframe in case there is useful information at a later time."
   ]
  },
  {
   "cell_type": "markdown",
   "metadata": {},
   "source": [
    "<a id='clean1'></a>\n",
    "## Clean, Part 1\n",
    "\n",
    "### 1) Rename Columns\n",
    "Create reader-friendly column names.\n",
    "\n",
    "#### Code"
   ]
  },
  {
   "cell_type": "code",
   "execution_count": 40,
   "metadata": {},
   "outputs": [],
   "source": [
    "icow.rename( columns={\n",
    "    'State': 'cow_code',\n",
    "    'Name': 'country_name',\n",
    "    'ColRuler': 'colonizer',\n",
    "    'IndFrom': 'indep_from',\n",
    "    'IndDate': 'indep_date',\n",
    "    'IndViol': 'indep_violent',\n",
    "    'IndType': 'indep_type',\n",
    "    'SecFrom': 'secession_from',\n",
    "    'SecDate': 'secession_date',\n",
    "    'SecViol': 'secession_violent',\n",
    "    'Into': 'merged_into',\n",
    "    'IntoDate': 'merged_date',\n",
    "    'COWsys': 'cow_indep_date',\n",
    "    'GWsys': 'gw_indep_date',\n",
    "    'Notes': 'notes'\n",
    "}, inplace=True )"
   ]
  },
  {
   "cell_type": "markdown",
   "metadata": {},
   "source": [
    "#### Test"
   ]
  },
  {
   "cell_type": "code",
   "execution_count": 41,
   "metadata": {},
   "outputs": [
    {
     "name": "stdout",
     "output_type": "stream",
     "text": [
      "<class 'pandas.core.frame.DataFrame'>\n",
      "RangeIndex: 217 entries, 0 to 216\n",
      "Data columns (total 15 columns):\n",
      "cow_code             217 non-null int64\n",
      "country_name         217 non-null object\n",
      "colonizer            217 non-null int64\n",
      "indep_from           217 non-null int64\n",
      "indep_date           217 non-null int64\n",
      "indep_violent        217 non-null int64\n",
      "indep_type           217 non-null int64\n",
      "secession_from       217 non-null int64\n",
      "secession_date       217 non-null int64\n",
      "secession_violent    217 non-null int64\n",
      "merged_into          217 non-null int64\n",
      "merged_date          217 non-null int64\n",
      "cow_indep_date       217 non-null int64\n",
      "gw_indep_date        217 non-null int64\n",
      "notes                217 non-null object\n",
      "dtypes: int64(13), object(2)\n",
      "memory usage: 25.6+ KB\n"
     ]
    }
   ],
   "source": [
    "icow.info()"
   ]
  },
  {
   "cell_type": "markdown",
   "metadata": {},
   "source": [
    "### 2) Remove Uncolonized Countries\n",
    "Delete all entries where `ColRuler`, `IndFrom`, `SecFrom`, and `Into` columns are -9. These countries were never colonized, never declared independence or seceded from another country, and never merged into another country and are therefore unnecessary in the dataset.\n",
    "\n",
    "#### Code"
   ]
  },
  {
   "cell_type": "code",
   "execution_count": 43,
   "metadata": {},
   "outputs": [],
   "source": [
    "always_independent = icow.query( '( colonizer == -9 ) & ( indep_from == -9 ) & ( secession_from == -9 ) & ( merged_into == -9 )' ).copy()\n",
    "icow.drop( icow.query( '( colonizer == -9 ) & ( indep_from == -9 ) & ( secession_from == -9 ) & ( merged_into == -9 )' ).index, inplace=True )"
   ]
  },
  {
   "cell_type": "markdown",
   "metadata": {},
   "source": [
    "#### Test"
   ]
  },
  {
   "cell_type": "code",
   "execution_count": 44,
   "metadata": {},
   "outputs": [
    {
     "data": {
      "text/plain": [
       "(193, 15)"
      ]
     },
     "execution_count": 44,
     "metadata": {},
     "output_type": "execute_result"
    }
   ],
   "source": [
    "icow.shape"
   ]
  },
  {
   "cell_type": "code",
   "execution_count": 45,
   "metadata": {},
   "outputs": [
    {
     "data": {
      "text/plain": [
       "(24, 15)"
      ]
     },
     "execution_count": 45,
     "metadata": {},
     "output_type": "execute_result"
    }
   ],
   "source": [
    "always_independent.shape"
   ]
  },
  {
   "cell_type": "code",
   "execution_count": 46,
   "metadata": {},
   "outputs": [
    {
     "data": {
      "text/html": [
       "<div>\n",
       "<style scoped>\n",
       "    .dataframe tbody tr th:only-of-type {\n",
       "        vertical-align: middle;\n",
       "    }\n",
       "\n",
       "    .dataframe tbody tr th {\n",
       "        vertical-align: top;\n",
       "    }\n",
       "\n",
       "    .dataframe thead th {\n",
       "        text-align: right;\n",
       "    }\n",
       "</style>\n",
       "<table border=\"1\" class=\"dataframe\">\n",
       "  <thead>\n",
       "    <tr style=\"text-align: right;\">\n",
       "      <th></th>\n",
       "      <th>cow_code</th>\n",
       "      <th>country_name</th>\n",
       "      <th>colonizer</th>\n",
       "      <th>indep_from</th>\n",
       "      <th>indep_date</th>\n",
       "      <th>indep_violent</th>\n",
       "      <th>indep_type</th>\n",
       "      <th>secession_from</th>\n",
       "      <th>secession_date</th>\n",
       "      <th>secession_violent</th>\n",
       "      <th>merged_into</th>\n",
       "      <th>merged_date</th>\n",
       "      <th>cow_indep_date</th>\n",
       "      <th>gw_indep_date</th>\n",
       "      <th>notes</th>\n",
       "    </tr>\n",
       "  </thead>\n",
       "  <tbody>\n",
       "    <tr>\n",
       "      <td>113</td>\n",
       "      <td>450</td>\n",
       "      <td>Liberia</td>\n",
       "      <td>-9</td>\n",
       "      <td>-9</td>\n",
       "      <td>184707</td>\n",
       "      <td>0</td>\n",
       "      <td>1</td>\n",
       "      <td>-9</td>\n",
       "      <td>-9</td>\n",
       "      <td>-9</td>\n",
       "      <td>-9</td>\n",
       "      <td>-9</td>\n",
       "      <td>192006</td>\n",
       "      <td>184707</td>\n",
       "      <td>-9</td>\n",
       "    </tr>\n",
       "    <tr>\n",
       "      <td>45</td>\n",
       "      <td>232</td>\n",
       "      <td>Andorra</td>\n",
       "      <td>-9</td>\n",
       "      <td>-9</td>\n",
       "      <td>127809</td>\n",
       "      <td>0</td>\n",
       "      <td>1</td>\n",
       "      <td>-9</td>\n",
       "      <td>-9</td>\n",
       "      <td>-9</td>\n",
       "      <td>-9</td>\n",
       "      <td>-9</td>\n",
       "      <td>199307</td>\n",
       "      <td>-9</td>\n",
       "      <td>Nominal French &amp; Spanish suzerainty not enough...</td>\n",
       "    </tr>\n",
       "    <tr>\n",
       "      <td>46</td>\n",
       "      <td>235</td>\n",
       "      <td>Portugal</td>\n",
       "      <td>-9</td>\n",
       "      <td>-9</td>\n",
       "      <td>113907</td>\n",
       "      <td>0</td>\n",
       "      <td>1</td>\n",
       "      <td>-9</td>\n",
       "      <td>-9</td>\n",
       "      <td>-9</td>\n",
       "      <td>-9</td>\n",
       "      <td>-9</td>\n",
       "      <td>181601</td>\n",
       "      <td>181601</td>\n",
       "      <td>Dependency of Spain 1580-1640</td>\n",
       "    </tr>\n",
       "    <tr>\n",
       "      <td>35</td>\n",
       "      <td>200</td>\n",
       "      <td>United Kingdom</td>\n",
       "      <td>-9</td>\n",
       "      <td>-9</td>\n",
       "      <td>106612</td>\n",
       "      <td>1</td>\n",
       "      <td>1</td>\n",
       "      <td>-9</td>\n",
       "      <td>-9</td>\n",
       "      <td>-9</td>\n",
       "      <td>-9</td>\n",
       "      <td>-9</td>\n",
       "      <td>181601</td>\n",
       "      <td>181601</td>\n",
       "      <td>-9</td>\n",
       "    </tr>\n",
       "    <tr>\n",
       "      <td>154</td>\n",
       "      <td>630</td>\n",
       "      <td>Iran (Persia)</td>\n",
       "      <td>-9</td>\n",
       "      <td>-9</td>\n",
       "      <td>150200</td>\n",
       "      <td>1</td>\n",
       "      <td>1</td>\n",
       "      <td>-9</td>\n",
       "      <td>-9</td>\n",
       "      <td>-9</td>\n",
       "      <td>-9</td>\n",
       "      <td>-9</td>\n",
       "      <td>185501</td>\n",
       "      <td>181601</td>\n",
       "      <td>-9</td>\n",
       "    </tr>\n",
       "  </tbody>\n",
       "</table>\n",
       "</div>"
      ],
      "text/plain": [
       "     cow_code    country_name  colonizer  indep_from  indep_date  \\\n",
       "113       450         Liberia         -9          -9      184707   \n",
       "45        232         Andorra         -9          -9      127809   \n",
       "46        235        Portugal         -9          -9      113907   \n",
       "35        200  United Kingdom         -9          -9      106612   \n",
       "154       630   Iran (Persia)         -9          -9      150200   \n",
       "\n",
       "     indep_violent  indep_type  secession_from  secession_date  \\\n",
       "113              0           1              -9              -9   \n",
       "45               0           1              -9              -9   \n",
       "46               0           1              -9              -9   \n",
       "35               1           1              -9              -9   \n",
       "154              1           1              -9              -9   \n",
       "\n",
       "     secession_violent  merged_into  merged_date  cow_indep_date  \\\n",
       "113                 -9           -9           -9          192006   \n",
       "45                  -9           -9           -9          199307   \n",
       "46                  -9           -9           -9          181601   \n",
       "35                  -9           -9           -9          181601   \n",
       "154                 -9           -9           -9          185501   \n",
       "\n",
       "     gw_indep_date                                              notes  \n",
       "113         184707                                                 -9  \n",
       "45              -9  Nominal French & Spanish suzerainty not enough...  \n",
       "46          181601                      Dependency of Spain 1580-1640  \n",
       "35          181601                                                 -9  \n",
       "154         181601                                                 -9  "
      ]
     },
     "execution_count": 46,
     "metadata": {},
     "output_type": "execute_result"
    }
   ],
   "source": [
    "always_independent.sample(5)"
   ]
  },
  {
   "cell_type": "markdown",
   "metadata": {},
   "source": [
    "<a id='assess2'></a>\n",
    "## Assess, Part 2\n",
    "\n",
    "# Start Here"
   ]
  },
  {
   "cell_type": "code",
   "execution_count": 47,
   "metadata": {},
   "outputs": [
    {
     "name": "stdout",
     "output_type": "stream",
     "text": [
      "17\n"
     ]
    },
    {
     "data": {
      "text/plain": [
       "array([200, 230, 220, 210, 235,  -9, 255, 300, 640, 365, 211, 325, 710,\n",
       "       740, 900,   2, 920], dtype=int64)"
      ]
     },
     "execution_count": 47,
     "metadata": {},
     "output_type": "execute_result"
    }
   ],
   "source": [
    "print( icow['colonizer'].nunique() )\n",
    "icow['colonizer'].unique()"
   ]
  },
  {
   "cell_type": "code",
   "execution_count": 48,
   "metadata": {},
   "outputs": [
    {
     "name": "stdout",
     "output_type": "stream",
     "text": [
      "34\n"
     ]
    },
    {
     "data": {
      "text/plain": [
       "array([200,   2, 220,  41, 230,  89, 100, 210, 235, 140,  -9, 255, 300,\n",
       "       315, 640, 345, 365, 380, 390, 432, 211, 325, 530, 560, 625, 678,\n",
       "       710, 730, 750, 770, 820, 850, 900, 920], dtype=int64)"
      ]
     },
     "execution_count": 48,
     "metadata": {},
     "output_type": "execute_result"
    }
   ],
   "source": [
    "print( icow['indep_from'].nunique() )\n",
    "icow['indep_from'].unique()"
   ]
  },
  {
   "cell_type": "markdown",
   "metadata": {},
   "source": [
    "### Issues Found\n",
    "`1)` Add country name into dataframe for columns `colonizer`, `indep_from`, `secession_from`, and `merged_into`.\n",
    "\n",
    "`2)` Convert `indep_date`, `cow_indep_date`, and `gw_indep_date` from int to Time Period."
   ]
  },
  {
   "cell_type": "markdown",
   "metadata": {},
   "source": [
    "<a id='clean2'></a>\n",
    "## Clean, Part 2\n",
    "\n",
    "### 1) Add Country Name for columns with Country Codes\n",
    "Insert columns to hold country name based on country codes in `colonizer`, `indep_from`, `secession_from`, and `merged_into` columns. \n",
    "\n",
    "Five Central American countries were part of the Federal Republic of Central America (country code: 89), which is not in the Correlates of War Project list. Manually update these entries. Morocco and Saudi Arabia will remain as nan because indep_from is -9.\n",
    "\n",
    "#### Code"
   ]
  },
  {
   "cell_type": "code",
   "execution_count": null,
   "metadata": {},
   "outputs": [],
   "source": [
    "columns = ['colonizer','indep_from','secession_from','merged_into']\n",
    "for column in columns:\n",
    "    # Join on country code, then rename the joined column\n",
    "    icow = icow.join( country_codes['country_name'], on=column )\n",
    "    new_column_name = column + '_name'\n",
    "    icow.rename( columns={'country_name': new_column_name}, inplace=True )"
   ]
  },
  {
   "cell_type": "code",
   "execution_count": null,
   "metadata": {},
   "outputs": [],
   "source": [
    "indexes = icow.query( 'indep_from == 89' ).index.tolist()\n",
    "icow.loc[ indexes, 'indep_from_name' ] = 'Federal Republic of Central America'"
   ]
  },
  {
   "cell_type": "markdown",
   "metadata": {},
   "source": [
    "#### Test"
   ]
  },
  {
   "cell_type": "code",
   "execution_count": null,
   "metadata": {},
   "outputs": [],
   "source": [
    "icow.info()"
   ]
  },
  {
   "cell_type": "code",
   "execution_count": null,
   "metadata": {},
   "outputs": [],
   "source": [
    "print( icow['colonizer'].nunique() )\n",
    "print( icow['colonizer_name'].nunique() )\n",
    "icow['colonizer_name'].unique()"
   ]
  },
  {
   "cell_type": "code",
   "execution_count": null,
   "metadata": {},
   "outputs": [],
   "source": [
    "print( icow['indep_from'].nunique() )\n",
    "print( icow['indep_from_name'].nunique() )\n",
    "icow['indep_from_name'].unique()"
   ]
  },
  {
   "cell_type": "code",
   "execution_count": null,
   "metadata": {
    "scrolled": true
   },
   "outputs": [],
   "source": [
    "icow[ icow['indep_from_name'].isnull() ]"
   ]
  },
  {
   "cell_type": "markdown",
   "metadata": {},
   "source": [
    "### 2) Convert date columns to datetime\n",
    "\n",
    "Convert `indep_date`, `secession_date`, `merged_date`, `cow_indep_date`, and `gw_indep_date` from int to Time Period. \n",
    "\n",
    "**Note to future me**: I originally attempted a conversion to datetime, but datetime has a limitation to dates between 1677-09-21 and 2262-04-11. A few values fall outside of this range, therefore the workaround found <a href='https://pandas.pydata.org/pandas-docs/stable/user_guide/timeseries.html#timeseries-oob' target='_new'>here</a> was used. This caused the following problem: <a href='https://stackoverflow.com/questions/58019763/jupyter-kernel-crash-when-querying-dataframe-with-period-datatype' target='_new'>Jupyter kernel crash when querying dataframe with Period datatype</a>. \n",
    "\n",
    "*Solution:* The error was caused by -9 in the `gw_indep_date` column. While the conversion to Period didn't fail, it somehow corrupted the dataframe, making queries impossible. By setting -9 dates to 000101 prior to conversion, a valid Period of 0001-01-01 is obtained and the dataframe functions properly.\n",
    "\n",
    "#### Code"
   ]
  },
  {
   "cell_type": "code",
   "execution_count": null,
   "metadata": {},
   "outputs": [],
   "source": [
    "# Conversion function to create Time Period, copied without modification from Pandas documentation linked in the cell above\n",
    "def conv(x):\n",
    "    return pd.Period( year=x // 10000, month=x // 100 % 100, day=x % 100, freq='D' )\n",
    "\n",
    "# -9 entries in date columns cause problems with the dataframe after conversion to Period\n",
    "# This sets them to a valid far past date of 000101\n",
    "def fix_dates(x):\n",
    "    return '000101' if x == -9 else x"
   ]
  },
  {
   "cell_type": "code",
   "execution_count": null,
   "metadata": {},
   "outputs": [],
   "source": [
    "# Convert string representations of date to Time Period\n",
    "# First, apply fix_dates function to each column to ensure missing data converts properly (-9 in the original dataset)\n",
    "# Then append '01' to create format YYYYMMDD (dataset contains only YYYYMM), then apply conversion function\n",
    "columns = ['indep_date','secession_date','merged_date','cow_indep_date','gw_indep_date']\n",
    "for column in columns:\n",
    "    icow[column] = icow[column].apply(fix_dates)\n",
    "    icow[column] = ( icow[column].astype('str') + '01' ).astype('int').apply(conv)"
   ]
  },
  {
   "cell_type": "markdown",
   "metadata": {},
   "source": [
    "#### Test"
   ]
  },
  {
   "cell_type": "code",
   "execution_count": null,
   "metadata": {},
   "outputs": [],
   "source": [
    "icow.info()"
   ]
  },
  {
   "cell_type": "code",
   "execution_count": null,
   "metadata": {},
   "outputs": [],
   "source": [
    "# Check the three entries that failed when attempting conversion to datetime\n",
    "icow[ icow.index.isin( [148,150,170] ) ][['country','indep_date','cow_indep_date','gw_indep_date']]"
   ]
  },
  {
   "cell_type": "markdown",
   "metadata": {},
   "source": [
    "<a id='assess3'></a>\n",
    "## Assess, Part 3"
   ]
  },
  {
   "cell_type": "code",
   "execution_count": null,
   "metadata": {
    "scrolled": true
   },
   "outputs": [],
   "source": [
    "icow['colonizer'].value_counts()"
   ]
  },
  {
   "cell_type": "code",
   "execution_count": null,
   "metadata": {
    "scrolled": true
   },
   "outputs": [],
   "source": [
    "icow['indep_from'].value_counts()"
   ]
  },
  {
   "cell_type": "code",
   "execution_count": null,
   "metadata": {},
   "outputs": [],
   "source": [
    "icow['secession_from'].value_counts()"
   ]
  },
  {
   "cell_type": "code",
   "execution_count": null,
   "metadata": {
    "scrolled": true
   },
   "outputs": [],
   "source": [
    "icow['merged_into'].value_counts()"
   ]
  },
  {
   "cell_type": "markdown",
   "metadata": {},
   "source": [
    "### Issues Found\n",
    "`1)` Numerous -9 values found in `colonizer`, `indep_from`, `secession_from`, and `merged_into` columns. Split into 4 datasets, one dataset for each of the four columns where the value is not -9. "
   ]
  },
  {
   "cell_type": "markdown",
   "metadata": {},
   "source": [
    "<a id='clean3'></a>\n",
    "## Clean, Part 3\n",
    "\n",
    "### 1) Split into 4 datasets\n",
    "Create a dataset each for colonized countries, countries that declared independence, countries that seceded, and countries that merged into another. To populate these datasets, get all values that are not -9 from the corresponding columns: `colonizer`, `indep_from`, `secession_from`, `merged_into`\n",
    "\n",
    "#### Code"
   ]
  },
  {
   "cell_type": "code",
   "execution_count": null,
   "metadata": {},
   "outputs": [],
   "source": [
    "colonized = icow.query( 'colonizer != -9' ).copy()\n",
    "colonized.shape"
   ]
  },
  {
   "cell_type": "code",
   "execution_count": null,
   "metadata": {},
   "outputs": [],
   "source": [
    "independence = icow.query( 'indep_from != -9' ).copy()\n",
    "independence.shape"
   ]
  },
  {
   "cell_type": "code",
   "execution_count": null,
   "metadata": {},
   "outputs": [],
   "source": [
    "seceded = icow.query( 'secession_from != -9' ).copy()\n",
    "seceded.shape"
   ]
  },
  {
   "cell_type": "code",
   "execution_count": null,
   "metadata": {},
   "outputs": [],
   "source": [
    "merged = icow.query( 'merged_into != -9' ).copy()\n",
    "merged.shape"
   ]
  },
  {
   "cell_type": "markdown",
   "metadata": {},
   "source": [
    "#### Test"
   ]
  },
  {
   "cell_type": "code",
   "execution_count": null,
   "metadata": {
    "scrolled": false
   },
   "outputs": [],
   "source": [
    "colonized['colonizer'].value_counts()"
   ]
  },
  {
   "cell_type": "code",
   "execution_count": null,
   "metadata": {
    "scrolled": true
   },
   "outputs": [],
   "source": [
    "independence['indep_from'].value_counts()"
   ]
  },
  {
   "cell_type": "code",
   "execution_count": null,
   "metadata": {
    "scrolled": true
   },
   "outputs": [],
   "source": [
    "seceded['secession_from'].value_counts()"
   ]
  },
  {
   "cell_type": "code",
   "execution_count": null,
   "metadata": {},
   "outputs": [],
   "source": [
    "merged['merged_into'].value_counts()"
   ]
  },
  {
   "cell_type": "code",
   "execution_count": null,
   "metadata": {},
   "outputs": [],
   "source": []
  },
  {
   "cell_type": "code",
   "execution_count": null,
   "metadata": {},
   "outputs": [],
   "source": []
  },
  {
   "cell_type": "code",
   "execution_count": null,
   "metadata": {},
   "outputs": [],
   "source": []
  },
  {
   "cell_type": "code",
   "execution_count": null,
   "metadata": {},
   "outputs": [],
   "source": []
  },
  {
   "cell_type": "code",
   "execution_count": null,
   "metadata": {},
   "outputs": [],
   "source": []
  },
  {
   "cell_type": "markdown",
   "metadata": {},
   "source": [
    "<a id='references'></a>\n",
    "## References\n",
    "\n",
    "<li>Paul R. Hensel (2018). \"ICOW Colonial History Data Set, version 1.1.\" Available at <a href='http://www.paulhensel.org/icowcol.html' target='_new'>http://www.paulhensel.org/icowcol.html</a></li>\n",
    "<li><a href='http://www.correlatesofwar.org/data-sets/downloadable-files/cow-country-codes' target='_new'>Correlates of War country codes</a></li>"
   ]
  }
 ],
 "metadata": {
  "kernelspec": {
   "display_name": "Python 3",
   "language": "python",
   "name": "python3"
  },
  "language_info": {
   "codemirror_mode": {
    "name": "ipython",
    "version": 3
   },
   "file_extension": ".py",
   "mimetype": "text/x-python",
   "name": "python",
   "nbconvert_exporter": "python",
   "pygments_lexer": "ipython3",
   "version": "3.7.7"
  }
 },
 "nbformat": 4,
 "nbformat_minor": 2
}
